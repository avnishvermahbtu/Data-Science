{
 "cells": [
  {
   "cell_type": "markdown",
   "id": "3fa32c78",
   "metadata": {},
   "source": [
    "## Python Memory Mnagement"
   ]
  },
  {
   "cell_type": "markdown",
   "id": "c324001b",
   "metadata": {},
   "source": [
    "Memory management in python involves a combination of automatic garbage collection , reference counting , and various internal optimization to efficiently manage memory allocation and deallocation .Understanding these mechanisms can help developers write more efficient and robust application. "
   ]
  },
  {
   "cell_type": "markdown",
   "id": "b302c03a",
   "metadata": {},
   "source": [
    "1. Key Concepts in Python Memory Management\n",
    "\n",
    "2. Memory Allocation and Deallocation \n",
    "\n",
    "3. Refereance Counting \n",
    "\n",
    "4. Garbage Collection\n",
    "\n",
    "5. The gc Module\n",
    "\n",
    "6. Memory Management Best Practices"
   ]
  },
  {
   "cell_type": "markdown",
   "id": "033599aa",
   "metadata": {},
   "source": [
    "Reference Counting "
   ]
  },
  {
   "cell_type": "markdown",
   "id": "897456ac",
   "metadata": {},
   "source": [
    "Reference counting is the primary mechanism Python uses for memory management and garbage collection. Every object in Python has an associated reference count, which tracks the number of references (variables or other objects) pointing to it. \n"
   ]
  },
  {
   "cell_type": "markdown",
   "id": "c542e493",
   "metadata": {},
   "source": [
    "When the reference count drops to zero ,the memory ocuupied by the objecte is deallocated"
   ]
  },
  {
   "cell_type": "code",
   "execution_count": 35,
   "id": "e40ce7ec",
   "metadata": {},
   "outputs": [
    {
     "name": "stdout",
     "output_type": "stream",
     "text": [
      "2\n"
     ]
    }
   ],
   "source": [
    "import sys \n",
    "\n",
    "a=[]\n",
    "## 2 (one reference from 'a' and one from getrefcount())\n",
    "print(sys.getrefcount(a))"
   ]
  },
  {
   "cell_type": "code",
   "execution_count": 36,
   "id": "c74f7d75",
   "metadata": {},
   "outputs": [
    {
     "name": "stdout",
     "output_type": "stream",
     "text": [
      "3\n"
     ]
    }
   ],
   "source": [
    "b=a\n",
    "print(sys.getrefcount(b))"
   ]
  },
  {
   "cell_type": "code",
   "execution_count": 37,
   "id": "4ba0d12e",
   "metadata": {},
   "outputs": [
    {
     "name": "stdout",
     "output_type": "stream",
     "text": [
      "2\n"
     ]
    }
   ],
   "source": [
    "del b\n",
    "print(sys.getrefcount(a))"
   ]
  },
  {
   "cell_type": "markdown",
   "id": "bf80e400",
   "metadata": {},
   "source": [
    "## Garbage Collection\n",
    "Python include a cyclic garbage collection to handle reference cycles. Reference cycles occur when objects each other ,preventing their reference counts from reaching zero."
   ]
  },
  {
   "cell_type": "code",
   "execution_count": 38,
   "id": "dc3d0d2e",
   "metadata": {},
   "outputs": [],
   "source": [
    "import gc\n",
    "## enable garbage collection\n",
    "gc.enable()"
   ]
  },
  {
   "cell_type": "code",
   "execution_count": 39,
   "id": "c231eaac",
   "metadata": {},
   "outputs": [],
   "source": [
    "gc.disable()"
   ]
  },
  {
   "cell_type": "code",
   "execution_count": 40,
   "id": "0c037f06",
   "metadata": {},
   "outputs": [
    {
     "data": {
      "text/plain": [
       "0"
      ]
     },
     "execution_count": 40,
     "metadata": {},
     "output_type": "execute_result"
    }
   ],
   "source": [
    "gc.collect()"
   ]
  },
  {
   "cell_type": "code",
   "execution_count": 41,
   "id": "b00b118e",
   "metadata": {},
   "outputs": [
    {
     "name": "stdout",
     "output_type": "stream",
     "text": [
      "[{'collections': 430, 'collected': 2006, 'uncollectable': 0}, {'collections': 39, 'collected': 2225, 'uncollectable': 0}, {'collections': 10, 'collected': 760, 'uncollectable': 0}]\n"
     ]
    }
   ],
   "source": [
    "## Get garbage collection stats\n",
    "print(gc.get_stats())"
   ]
  },
  {
   "cell_type": "code",
   "execution_count": 42,
   "id": "585c90ef",
   "metadata": {},
   "outputs": [
    {
     "name": "stdout",
     "output_type": "stream",
     "text": [
      "[]\n"
     ]
    }
   ],
   "source": [
    "## get unreachable objects\n",
    "print(gc.garbage)"
   ]
  },
  {
   "cell_type": "code",
   "execution_count": null,
   "id": "f702efb6",
   "metadata": {},
   "outputs": [
    {
     "name": "stdout",
     "output_type": "stream",
     "text": [
      "Object obj1 created\n",
      "Object obj2 created\n",
      "object obj1 delete\n",
      "object obj2 delete\n"
     ]
    },
    {
     "data": {
      "text/plain": [
       "11"
      ]
     },
     "execution_count": 43,
     "metadata": {},
     "output_type": "execute_result"
    }
   ],
   "source": [
    "## Handle circular refrence\n",
    "import gc\n",
    "\n",
    "class MyObject:\n",
    "    def __init__(self,name):\n",
    "        self.name=name\n",
    "        print(f\"Object {self.name} created\")\n",
    "        \n",
    "    def __del__(self):\n",
    "        print(f\"object {self.name} delete\")   \n",
    "        \n",
    "        \n",
    "## create circular reference \n",
    "obj1=MyObject(\"obj1\")\n",
    "obj2=MyObject(\"obj2\")\n",
    "obj1.ref=obj2\n",
    "obj2.ref=obj1\n",
    "\n",
    "\n",
    "del obj1\n",
    "del obj2    \n",
    "\n",
    "\n",
    "## Manually trigger the garbage collection\n",
    "gc.collect()    "
   ]
  },
  {
   "cell_type": "code",
   "execution_count": 45,
   "id": "ee95c7ee",
   "metadata": {},
   "outputs": [
    {
     "name": "stdout",
     "output_type": "stream",
     "text": [
      "0\n",
      "1\n",
      "2\n",
      "3\n",
      "4\n",
      "5\n",
      "6\n",
      "7\n",
      "8\n",
      "9\n",
      "10\n",
      "11\n"
     ]
    }
   ],
   "source": [
    "## Generators For Memory Efficiency\n",
    "## Generator allow you to produce iteam one of a time ,using memory efficiently by only kepping one iteam\n",
    "\n",
    "def generate_numbers(n):\n",
    "    for i in range(n):\n",
    "        yield i\n",
    "        \n",
    "## using the generator \n",
    "for num in generate_numbers(100000):\n",
    "    print(num)\n",
    "    if num>10:\n",
    "        break        "
   ]
  },
  {
   "cell_type": "code",
   "execution_count": null,
   "id": "3ae8b1bc",
   "metadata": {},
   "outputs": [],
   "source": [
    "## Profilling memory Usage wiht tracemalloc\n",
    "\n",
    "import tracemalloc\n",
    "\n",
    "def create_list():\n",
    "    return [i for i in range(10000)]\n",
    "\n",
    "def main():\n",
    "    tracemalloc.start()\n",
    "    \n",
    "    create_list()\n",
    "    \n",
    "    Snapshot=tracemalloc.take_snapshot()\n",
    "    top_stats=Snapshot.statistics('lineno')\n",
    "    \n",
    "    print(\"[Top 10]\")\n",
    "    for stat in top_stats[::]:\n",
    "        print(stat)"
   ]
  },
  {
   "cell_type": "code",
   "execution_count": 48,
   "id": "f428476e",
   "metadata": {},
   "outputs": [
    {
     "name": "stdout",
     "output_type": "stream",
     "text": [
      "[Top 10]\n",
      "d:\\data science\\python\\venv\\lib\\json\\decoder.py:353: size=1629 B, count=21, average=78 B\n",
      "d:\\data science\\python\\venv\\lib\\site-packages\\jupyter_client\\session.py:95: size=1241 B, count=8, average=155 B\n",
      "d:\\data science\\python\\venv\\lib\\tracemalloc.py:535: size=1240 B, count=3, average=413 B\n",
      "d:\\data science\\python\\venv\\lib\\site-packages\\zmq\\sugar\\socket.py:805: size=1056 B, count=6, average=176 B\n",
      "d:\\data science\\python\\venv\\lib\\tracemalloc.py:226: size=832 B, count=2, average=416 B\n",
      "d:\\data science\\python\\venv\\lib\\site-packages\\zmq\\sugar\\attrsettr.py:45: size=825 B, count=15, average=55 B\n",
      "d:\\data science\\python\\venv\\lib\\tracemalloc.py:505: size=824 B, count=2, average=412 B\n",
      "d:\\data science\\python\\venv\\lib\\site-packages\\ipykernel\\iostream.py:346: size=808 B, count=10, average=81 B\n",
      "d:\\data science\\python\\venv\\lib\\tracemalloc.py:173: size=800 B, count=2, average=400 B\n",
      "d:\\data science\\python\\venv\\lib\\site-packages\\traitlets\\traitlets.py:731: size=757 B, count=11, average=69 B\n"
     ]
    }
   ],
   "source": [
    "main()"
   ]
  },
  {
   "cell_type": "code",
   "execution_count": null,
   "id": "072705d8",
   "metadata": {},
   "outputs": [],
   "source": []
  }
 ],
 "metadata": {
  "kernelspec": {
   "display_name": "Python 3",
   "language": "python",
   "name": "python3"
  },
  "language_info": {
   "codemirror_mode": {
    "name": "ipython",
    "version": 3
   },
   "file_extension": ".py",
   "mimetype": "text/x-python",
   "name": "python",
   "nbconvert_exporter": "python",
   "pygments_lexer": "ipython3",
   "version": "3.10.18"
  }
 },
 "nbformat": 4,
 "nbformat_minor": 5
}
