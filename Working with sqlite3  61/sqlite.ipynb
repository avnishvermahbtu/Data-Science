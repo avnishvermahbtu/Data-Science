{
 "cells": [
  {
   "cell_type": "code",
   "execution_count": 2,
   "id": "5513ecf3",
   "metadata": {},
   "outputs": [],
   "source": [
    "import sqlite3\n"
   ]
  },
  {
   "cell_type": "markdown",
   "id": "1db27948",
   "metadata": {},
   "source": [
    "SQL AND SQLite"
   ]
  },
  {
   "cell_type": "markdown",
   "id": "a9a09db6",
   "metadata": {},
   "source": [
    "SQLite is a  Database  .create a database and table  "
   ]
  },
  {
   "cell_type": "markdown",
   "id": "7a42657f",
   "metadata": {},
   "source": [
    "SQLite is a self-contained, file-based SQL database. SQLite comes bundled with Python and can be used in any of your Python applications without having to install any additional software.\n",
    "\n",
    "In this tutorial, we’ll go through the sqlite3 module in Python 3. We’ll create a connection to a SQLite database, add a table to that database, insert data into that table, and read and modify data in that table."
   ]
  },
  {
   "cell_type": "code",
   "execution_count": null,
   "id": "75cb8ed3",
   "metadata": {},
   "outputs": [
    {
     "name": "stdout",
     "output_type": "stream",
     "text": [
      "Open sucessfully\n"
     ]
    }
   ],
   "source": [
    "## Connect to an SQLite Database\n",
    "\n",
    "connection=sqlite3.connect('example.db')   ## db-database and sqlite3.connect('my_database.db')\n",
    "connection    #sqlite3.connect() function returns a Connection \n",
    "print(\"Open sucessfully\")"
   ]
  },
  {
   "cell_type": "code",
   "execution_count": null,
   "id": "aed51b96",
   "metadata": {},
   "outputs": [],
   "source": [
    "# connection.cursor([cursorClass])\n",
    "\n",
    "cursor=connection.cursor()"
   ]
  },
  {
   "cell_type": "code",
   "execution_count": 22,
   "id": "8adff043",
   "metadata": {},
   "outputs": [],
   "source": [
    "## Following Python program will be used to create a table in the previously created database.\n",
    "## Create a table\n",
    "\n",
    "# cursor.execute(sql [, optional parameters])\n",
    "\n",
    "\n",
    "## Commit the changes\n",
    "cursor.execute('''\n",
    "CREATE TABLE IF NOT EXISTS employees (\n",
    "    name TEXT,\n",
    "    age INTEGER,\n",
    "    department TEXT\n",
    ")\n",
    "''')\n",
    "connection.commit()"
   ]
  },
  {
   "cell_type": "code",
   "execution_count": 6,
   "id": "6d08e4a7",
   "metadata": {},
   "outputs": [
    {
     "data": {
      "text/plain": [
       "<sqlite3.Cursor at 0x28bcdf16f40>"
      ]
     },
     "execution_count": 6,
     "metadata": {},
     "output_type": "execute_result"
    }
   ],
   "source": [
    "cursor.execute('''\n",
    "Select * from employees\n",
    "'''\n",
    "    \n",
    ")"
   ]
  },
  {
   "cell_type": "code",
   "execution_count": 27,
   "id": "534bb6d1",
   "metadata": {},
   "outputs": [
    {
     "name": "stdout",
     "output_type": "stream",
     "text": [
      "Opened database suceessfully\n"
     ]
    },
    {
     "ename": "OperationalError",
     "evalue": "table employees has no column named department",
     "output_type": "error",
     "traceback": [
      "\u001b[1;31m---------------------------------------------------------------------------\u001b[0m",
      "\u001b[1;31mOperationalError\u001b[0m                          Traceback (most recent call last)",
      "Cell \u001b[1;32mIn[27], line 6\u001b[0m\n\u001b[0;32m      1\u001b[0m \u001b[38;5;66;03m## Insert the data in sqlite table\u001b[39;00m\n\u001b[0;32m      4\u001b[0m \u001b[38;5;28mprint\u001b[39m(\u001b[38;5;124m\"\u001b[39m\u001b[38;5;124mOpened database suceessfully\u001b[39m\u001b[38;5;124m\"\u001b[39m)\n\u001b[1;32m----> 6\u001b[0m \u001b[43mcursor\u001b[49m\u001b[38;5;241;43m.\u001b[39;49m\u001b[43mexecute\u001b[49m\u001b[43m(\u001b[49m\u001b[38;5;124;43m'''\u001b[39;49m\n\u001b[0;32m      7\u001b[0m \u001b[38;5;124;43mINSERT INTO employees (name, age, department)\u001b[39;49m\n\u001b[0;32m      8\u001b[0m \u001b[38;5;124;43mVALUES (\u001b[39;49m\u001b[38;5;124;43m'\u001b[39;49m\u001b[38;5;124;43mAvnish\u001b[39;49m\u001b[38;5;124;43m'\u001b[39;49m\u001b[38;5;124;43m, 20, \u001b[39;49m\u001b[38;5;124;43m'\u001b[39;49m\u001b[38;5;124;43mData Scientist\u001b[39;49m\u001b[38;5;124;43m'\u001b[39;49m\u001b[38;5;124;43m)\u001b[39;49m\n\u001b[0;32m      9\u001b[0m \u001b[38;5;124;43m'''\u001b[39;49m\u001b[43m)\u001b[49m\n\u001b[0;32m     11\u001b[0m cursor\u001b[38;5;241m.\u001b[39mexecute(\u001b[38;5;124m'''\u001b[39m\n\u001b[0;32m     12\u001b[0m \u001b[38;5;124mINSERT INTO employees (name, age, department)\u001b[39m\n\u001b[0;32m     13\u001b[0m \u001b[38;5;124mVALUES (\u001b[39m\u001b[38;5;124m'\u001b[39m\u001b[38;5;124mBob\u001b[39m\u001b[38;5;124m'\u001b[39m\u001b[38;5;124m, 25, \u001b[39m\u001b[38;5;124m'\u001b[39m\u001b[38;5;124mEngineering\u001b[39m\u001b[38;5;124m'\u001b[39m\u001b[38;5;124m)\u001b[39m\n\u001b[0;32m     14\u001b[0m \u001b[38;5;124m'''\u001b[39m)\n\u001b[0;32m     16\u001b[0m cursor\u001b[38;5;241m.\u001b[39mexecute(\u001b[38;5;124m'''\u001b[39m\n\u001b[0;32m     17\u001b[0m \u001b[38;5;124mINSERT INTO employees (name, age, department)\u001b[39m\n\u001b[0;32m     18\u001b[0m \u001b[38;5;124mVALUES (\u001b[39m\u001b[38;5;124m'\u001b[39m\u001b[38;5;124mCharlie\u001b[39m\u001b[38;5;124m'\u001b[39m\u001b[38;5;124m, 25, \u001b[39m\u001b[38;5;124m'\u001b[39m\u001b[38;5;124mFinance\u001b[39m\u001b[38;5;124m'\u001b[39m\u001b[38;5;124m)\u001b[39m\n\u001b[0;32m     19\u001b[0m \u001b[38;5;124m'''\u001b[39m)\n",
      "\u001b[1;31mOperationalError\u001b[0m: table employees has no column named department"
     ]
    }
   ],
   "source": [
    "## Insert the data in sqlite table\n",
    "\n",
    "\n",
    "print(\"Opened database suceessfully\")\n",
    "\n",
    "cursor.execute('''\n",
    "INSERT INTO employees (name, age, department)\n",
    "VALUES ('Avnish', 20, 'Data Scientist')\n",
    "''')\n",
    "\n",
    "cursor.execute('''\n",
    "INSERT INTO employees (name, age, department)\n",
    "VALUES ('Bob', 25, 'Engineering')\n",
    "''')\n",
    "\n",
    "cursor.execute('''\n",
    "INSERT INTO employees (name, age, department)\n",
    "VALUES ('Charlie', 25, 'Finance')\n",
    "''')\n",
    "\n",
    "\n",
    "## Commit the changes\n",
    "connection.commit()"
   ]
  },
  {
   "cell_type": "code",
   "execution_count": null,
   "id": "a9fb12ed",
   "metadata": {},
   "outputs": [
    {
     "ename": "AttributeError",
     "evalue": "'sqlite3.Cursor' object has no attribute 'ferchall'",
     "output_type": "error",
     "traceback": [
      "\u001b[1;31m---------------------------------------------------------------------------\u001b[0m",
      "\u001b[1;31mAttributeError\u001b[0m                            Traceback (most recent call last)",
      "Cell \u001b[1;32mIn[20], line 4\u001b[0m\n\u001b[0;32m      1\u001b[0m \u001b[38;5;66;03m## Qurey the data from the table\u001b[39;00m\n\u001b[0;32m      3\u001b[0m cursor\u001b[38;5;241m.\u001b[39mexecute(\u001b[38;5;124m'\u001b[39m\u001b[38;5;124mSelect * from employees\u001b[39m\u001b[38;5;124m'\u001b[39m)\n\u001b[1;32m----> 4\u001b[0m row\u001b[38;5;241m=\u001b[39m\u001b[43mcursor\u001b[49m\u001b[38;5;241;43m.\u001b[39;49m\u001b[43mferchall\u001b[49m()\n\u001b[0;32m      6\u001b[0m \u001b[38;5;66;03m## print the queried data\u001b[39;00m\n\u001b[0;32m      7\u001b[0m \u001b[38;5;28;01mfor\u001b[39;00m row \u001b[38;5;129;01min\u001b[39;00m rows:\n",
      "\u001b[1;31mAttributeError\u001b[0m: 'sqlite3.Cursor' object has no attribute 'ferchall'"
     ]
    }
   ],
   "source": [
    "## Qurey the data from the table\n",
    "# Reading Data from the SQLite Database\n",
    "\n",
    "# Verify the data\n",
    "cursor.execute('Select * from employees')\n",
    "rows=cursor.fetchall()\n",
    "\n",
    "## print the queried data\n",
    "for row in rows:\n",
    "    print(row)"
   ]
  },
  {
   "cell_type": "code",
   "execution_count": null,
   "id": "91ceab73",
   "metadata": {},
   "outputs": [],
   "source": [
    "## Update data in the table\n",
    "cursor.execute('''\n",
    " UPDATE employees\n",
    " Set age=34\n",
    " where name=\"ram\"              \n",
    "               \n",
    "               ''')\n",
    "connection.commit()"
   ]
  },
  {
   "cell_type": "code",
   "execution_count": null,
   "id": "da03f9f0",
   "metadata": {},
   "outputs": [],
   "source": [
    "## Delete the data from the table\n",
    "\n",
    "cursor.execute('''\n",
    "               \n",
    "              Delete from employees \n",
    "              where name='Bob'\n",
    "               ''')\n",
    "\n",
    "connection.commit()"
   ]
  },
  {
   "cell_type": "code",
   "execution_count": 6,
   "id": "713aeefb",
   "metadata": {},
   "outputs": [
    {
     "ename": "OperationalError",
     "evalue": "table sales has no column named region",
     "output_type": "error",
     "traceback": [
      "\u001b[1;31m---------------------------------------------------------------------------\u001b[0m",
      "\u001b[1;31mOperationalError\u001b[0m                          Traceback (most recent call last)",
      "Cell \u001b[1;32mIn[6], line 27\u001b[0m\n\u001b[0;32m     19\u001b[0m \u001b[38;5;66;03m## iNSERT data into sales table\u001b[39;00m\n\u001b[0;32m     20\u001b[0m sales_data\u001b[38;5;241m=\u001b[39m[\n\u001b[0;32m     21\u001b[0m     (\u001b[38;5;124m'\u001b[39m\u001b[38;5;124m2023-01-01\u001b[39m\u001b[38;5;124m'\u001b[39m,\u001b[38;5;124m'\u001b[39m\u001b[38;5;124mProduct\u001b[39m\u001b[38;5;124m'\u001b[39m,\u001b[38;5;241m100\u001b[39m,\u001b[38;5;124m'\u001b[39m\u001b[38;5;124mNorth\u001b[39m\u001b[38;5;124m'\u001b[39m),\n\u001b[0;32m     22\u001b[0m     (\u001b[38;5;124m'\u001b[39m\u001b[38;5;124m2023-01-02\u001b[39m\u001b[38;5;124m'\u001b[39m,\u001b[38;5;124m'\u001b[39m\u001b[38;5;124mProduct\u001b[39m\u001b[38;5;124m'\u001b[39m,\u001b[38;5;241m200\u001b[39m,\u001b[38;5;124m'\u001b[39m\u001b[38;5;124mSouth\u001b[39m\u001b[38;5;124m'\u001b[39m),\n\u001b[1;32m   (...)\u001b[0m\n\u001b[0;32m     25\u001b[0m     (\u001b[38;5;124m'\u001b[39m\u001b[38;5;124m2023-01-05\u001b[39m\u001b[38;5;124m'\u001b[39m,\u001b[38;5;124m'\u001b[39m\u001b[38;5;124mProduct\u001b[39m\u001b[38;5;124m'\u001b[39m,\u001b[38;5;241m300\u001b[39m,\u001b[38;5;124m'\u001b[39m\u001b[38;5;124mNorth\u001b[39m\u001b[38;5;124m'\u001b[39m)\n\u001b[0;32m     26\u001b[0m ]\n\u001b[1;32m---> 27\u001b[0m \u001b[43mcursor\u001b[49m\u001b[38;5;241;43m.\u001b[39;49m\u001b[43mexecutemany\u001b[49m\u001b[43m(\u001b[49m\u001b[38;5;124;43m'''\u001b[39;49m\n\u001b[0;32m     28\u001b[0m \u001b[38;5;124;43mInsert into sales(date,product,sales,region)\u001b[39;49m\n\u001b[0;32m     29\u001b[0m \u001b[38;5;124;43m                    values(?,?,?,?)                   \u001b[39;49m\n\u001b[0;32m     30\u001b[0m \u001b[38;5;124;43m                   \u001b[39;49m\n\u001b[0;32m     31\u001b[0m \u001b[38;5;124;43m                   \u001b[39;49m\u001b[38;5;124;43m'''\u001b[39;49m\u001b[43m,\u001b[49m\u001b[43m \u001b[49m\u001b[43msales_data\u001b[49m\u001b[43m)\u001b[49m\n\u001b[0;32m     33\u001b[0m connection\u001b[38;5;241m.\u001b[39mcommit()\n\u001b[0;32m     35\u001b[0m \u001b[38;5;66;03m## Qurey data from the sales table\u001b[39;00m\n",
      "\u001b[1;31mOperationalError\u001b[0m: table sales has no column named region"
     ]
    }
   ],
   "source": [
    "## Working with Sales Data\n",
    "## Connect to an SQLite database\n",
    "import sqlite3\n",
    "connection=sqlite3.connect('sales_data.db')\n",
    "cursor=connection.cursor()\n",
    "\n",
    "## Create a table for sales data\n",
    "cursor.execute('''\n",
    "CREATE TABLE IF NOT EXISTS sales(\n",
    "    id INTEGER PRIMARY KEY,\n",
    "    date TEXT NOT NULL,\n",
    "    product TEXT NOT NULL,\n",
    "    sales INTEGER,\n",
    "    region TEXT\n",
    ")               \n",
    "               \n",
    "               ''')\n",
    "\n",
    "## iNSERT data into sales table\n",
    "sales_data=[\n",
    "    ('2023-01-01','Product',100,'North'),\n",
    "    ('2023-01-02','Product',200,'South'),\n",
    "    ('2023-01-03','Product',150,'East'),\n",
    "    ('2023-01-04','Product',250,'West'), \n",
    "    ('2023-01-05','Product',300,'North')\n",
    "]\n",
    "cursor.executemany('''\n",
    "Insert into sales(date,product,sales,region)\n",
    "                    values(?,?,?,?)                   \n",
    "                   \n",
    "                   ''', sales_data)\n",
    "\n",
    "connection.commit()\n",
    "\n",
    "## Qurey data from the sales table\n",
    "cursor.execute('select * from sales')\n",
    "rows=cursor.fetchall()\n",
    "\n",
    "## Print the quried data\n",
    "for row in row:\n",
    "    print(row)"
   ]
  },
  {
   "cell_type": "code",
   "execution_count": null,
   "id": "88bdf514",
   "metadata": {},
   "outputs": [],
   "source": [
    "## close the connection\n",
    "connection.close()"
   ]
  }
 ],
 "metadata": {
  "kernelspec": {
   "display_name": "Python 3",
   "language": "python",
   "name": "python3"
  },
  "language_info": {
   "codemirror_mode": {
    "name": "ipython",
    "version": 3
   },
   "file_extension": ".py",
   "mimetype": "text/x-python",
   "name": "python",
   "nbconvert_exporter": "python",
   "pygments_lexer": "ipython3",
   "version": "3.10.18"
  }
 },
 "nbformat": 4,
 "nbformat_minor": 5
}
