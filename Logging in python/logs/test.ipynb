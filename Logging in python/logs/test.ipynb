{
 "cells": [
  {
   "cell_type": "code",
   "execution_count": 3,
   "id": "a4877a51",
   "metadata": {},
   "outputs": [
    {
     "name": "stdout",
     "output_type": "stream",
     "text": [
      "Collecting logger\n",
      "  Using cached logger-1.4.tar.gz (1.2 kB)\n",
      "  Preparing metadata (setup.py): started\n",
      "  Preparing metadata (setup.py): finished with status 'done'\n",
      "Building wheels for collected packages: logger\n",
      "  Building wheel for logger (setup.py): started\n",
      "  Building wheel for logger (setup.py): finished with status 'done'\n",
      "  Created wheel for logger: filename=logger-1.4-py3-none-any.whl size=1777 sha256=0460a0cb331deebc48316da2f67383fa7ef624d7e3c4d7a3a401f8304a51e770\n",
      "  Stored in directory: c:\\users\\verma\\appdata\\local\\pip\\cache\\wheels\\fb\\19\\7b\\09fc73f7503166eaf7f31b4aa0095b7f78af2ec0898e1f8312\n",
      "Successfully built logger\n",
      "Installing collected packages: logger\n",
      "Successfully installed logger-1.4\n",
      "Note: you may need to restart the kernel to use updated packages.\n"
     ]
    },
    {
     "name": "stderr",
     "output_type": "stream",
     "text": [
      "  DEPRECATION: Building 'logger' using the legacy setup.py bdist_wheel mechanism, which will be removed in a future version. pip 25.3 will enforce this behaviour change. A possible replacement is to use the standardized build interface by setting the `--use-pep517` option, (possibly combined with `--no-build-isolation`), or adding a `pyproject.toml` file to the source tree of 'logger'. Discussion can be found at https://github.com/pypa/pip/issues/6334\n"
     ]
    }
   ],
   "source": [
    "pip install logger"
   ]
  },
  {
   "cell_type": "code",
   "execution_count": 6,
   "id": "c8ddab7a",
   "metadata": {},
   "outputs": [
    {
     "data": {
      "text/plain": [
       "25"
      ]
     },
     "execution_count": 6,
     "metadata": {},
     "output_type": "execute_result"
    }
   ],
   "source": [
    "from logger import logging\n",
    "\n",
    "def add(a,b):\n",
    "       logging.debug(\"This addition operation is taking place \")\n",
    "       return a+b\n",
    "   \n",
    "logging.debug(\"The addition function is added\")\n",
    "add(10,15)   "
   ]
  }
 ],
 "metadata": {
  "kernelspec": {
   "display_name": "Python 3",
   "language": "python",
   "name": "python3"
  },
  "language_info": {
   "codemirror_mode": {
    "name": "ipython",
    "version": 3
   },
   "file_extension": ".py",
   "mimetype": "text/x-python",
   "name": "python",
   "nbconvert_exporter": "python",
   "pygments_lexer": "ipython3",
   "version": "3.10.18"
  }
 },
 "nbformat": 4,
 "nbformat_minor": 5
}
