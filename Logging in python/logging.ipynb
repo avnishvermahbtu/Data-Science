{
 "cells": [
  {
   "cell_type": "markdown",
   "id": "6bbbd83b",
   "metadata": {},
   "source": [
    "Python Logging \n"
   ]
  },
  {
   "cell_type": "markdown",
   "id": "e1478ca0",
   "metadata": {},
   "source": [
    "Logging is a crucial aspect of any application ,providing a way to track events,and operational information.Python built-in logging module offers a flexible framework for emitting log messages from python programs. In this lesson ,we will cover the basic of logging, including how to configure logging ,log levels,and best practices for using in  python application "
   ]
  },
  {
   "cell_type": "code",
   "execution_count": 2,
   "id": "7109c1f0",
   "metadata": {},
   "outputs": [
    {
     "name": "stderr",
     "output_type": "stream",
     "text": [
      "DEBUG:root:This is a debug message\n",
      "INFO:root:This is an info message\n",
      "WARNING:root:This is a waring message\n",
      "ERROR:root:This is error message\n",
      "CRITICAL:root:This is a critial message\n"
     ]
    }
   ],
   "source": [
    "import logging\n",
    "\n",
    "# configure the basic logging setting \n",
    "logging.basicConfig(level=logging.DEBUG)\n",
    "\n",
    "# log message with different severity levels\n",
    "\n",
    "# There are five built-in levels of the log message.  \n",
    "\n",
    "logging.debug(\"This is a debug message\")\n",
    "logging.info(\"This is an info message\")\n",
    "logging.warning(\"This is a waring message\")\n",
    "logging.error(\"This is error message\")\n",
    "logging.critical(\"This is a critial message\")"
   ]
  },
  {
   "cell_type": "markdown",
   "id": "1e71a859",
   "metadata": {},
   "source": [
    "Log Levels"
   ]
  },
  {
   "cell_type": "markdown",
   "id": "fd9f16de",
   "metadata": {},
   "source": [
    "\n",
    "Log Level:\tFunction\t:          Description\n",
    "\n",
    "DEBUG:\tlogging.debug()\t  :             Provides detailed information that’s valuable to you as a developer.\n",
    "\n",
    "INFO\t:logging.info()\t    :       Provides general information about what’s going on with your program.\n",
    "\n",
    "WARNING\t:logging.warning()\t   :    Indicates that there’s something you should look into.\n",
    "\n",
    "ERROR\t:logging.error()\t    :        Alerts you to an unexpected problem that’s occured in your program.\n",
    "\n",
    "CRITICAL:\tlogging.critical()\t :   Tells you that a serious error has occurred and may have crashed your app.\n"
   ]
  },
  {
   "cell_type": "code",
   "execution_count": 4,
   "id": "27060c64",
   "metadata": {},
   "outputs": [
    {
     "name": "stderr",
     "output_type": "stream",
     "text": [
      "DEBUG:root:This is a debug message\n",
      "INFO:root:This is an info message\n",
      "WARNING:root:This is a waring message\n",
      "ERROR:root:This is error message\n",
      "CRITICAL:root:This is a critial message\n"
     ]
    }
   ],
   "source": [
    "## confiruring logging \n",
    "\n",
    "logging.basicConfig(\n",
    "    filename='app.log',\n",
    "    filemode='w',\n",
    "    level=logging.DEBUG,\n",
    "    format='%(asctime)s-%(name)s-%(levelname)s-%(message)s', ## setup level formate and date formate\n",
    "    datefmt='%Y-%m-%d %H:%M:%S'\n",
    "    \n",
    ")\n",
    "\n",
    "logging.debug(\"This is a debug message\")\n",
    "logging.info(\"This is an info message\")\n",
    "logging.warning(\"This is a waring message\")\n",
    "logging.error(\"This is error message\")\n",
    "logging.critical(\"This is a critial message\")\n",
    "# 2024-07-22 09:26 - ERROR - Something went wrong! // ans is this formate\n"
   ]
  }
 ],
 "metadata": {
  "kernelspec": {
   "display_name": "Python 3",
   "language": "python",
   "name": "python3"
  },
  "language_info": {
   "codemirror_mode": {
    "name": "ipython",
    "version": 3
   },
   "file_extension": ".py",
   "mimetype": "text/x-python",
   "name": "python",
   "nbconvert_exporter": "python",
   "pygments_lexer": "ipython3",
   "version": "3.10.18"
  }
 },
 "nbformat": 4,
 "nbformat_minor": 5
}
