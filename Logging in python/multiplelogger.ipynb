{
 "cells": [
  {
   "cell_type": "markdown",
   "id": "3bcd4672",
   "metadata": {},
   "source": [
    "Logging with Multiple Loggers"
   ]
  },
  {
   "cell_type": "markdown",
   "id": "e0478fb0",
   "metadata": {},
   "source": [
    "You can create multiple logger for different parts of your application\n"
   ]
  },
  {
   "cell_type": "code",
   "execution_count": null,
   "id": "418378c6",
   "metadata": {},
   "outputs": [],
   "source": [
    "import logging \n",
    "## Create a logger for module1\n",
    "## logging with the help of logger function\n",
    "logger1=logging.getLogger(\"module1\")\n",
    "logger1.setLevel(logging.DEBUG)\n",
    "\n",
    "## Create a logger for mudule2\n",
    "logger2=logging.getLogger(\"module2\")\n",
    "logger2.setLevel(logging.WARNING)\n",
    "\n",
    "## confiruring logging \n",
    "\n",
    "logging.basicConfig(\n",
    "    \n",
    "    level=logging.DEBUG,\n",
    "    format='%(asctime)s-%(name)s-%(levelname)s-%(message)s', ## setup level formate and date formate\n",
    "    datefmt='%Y-%m-%d %H:%M:%S'\n",
    "    \n",
    ")"
   ]
  },
  {
   "cell_type": "code",
   "execution_count": 3,
   "id": "169d9968",
   "metadata": {},
   "outputs": [
    {
     "name": "stderr",
     "output_type": "stream",
     "text": [
      "2025-08-07 21:00:17-module1-DEBUG-This is debug message for module1\n",
      "2025-08-07 21:00:17-module2-WARNING-This is a warning message for module2\n",
      "2025-08-07 21:00:17-module2-ERROR-This is an error message\n"
     ]
    }
   ],
   "source": [
    "## log meassage with different loggers\n",
    "logger1.debug(\"This is debug message for module1\")\n",
    "logger2.warning(\"This is a warning message for module2\")\n",
    "logger2.error(\"This is an error message\")"
   ]
  }
 ],
 "metadata": {
  "kernelspec": {
   "display_name": "Python 3",
   "language": "python",
   "name": "python3"
  },
  "language_info": {
   "codemirror_mode": {
    "name": "ipython",
    "version": 3
   },
   "file_extension": ".py",
   "mimetype": "text/x-python",
   "name": "python",
   "nbconvert_exporter": "python",
   "pygments_lexer": "ipython3",
   "version": "3.10.18"
  }
 },
 "nbformat": 4,
 "nbformat_minor": 5
}
