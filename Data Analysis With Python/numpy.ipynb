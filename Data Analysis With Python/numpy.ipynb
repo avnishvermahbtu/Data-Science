{
 "cells": [
  {
   "cell_type": "markdown",
   "id": "e3a05505",
   "metadata": {},
   "source": [
    "NUMPY"
   ]
  },
  {
   "cell_type": "markdown",
   "id": "438385b9",
   "metadata": {},
   "source": [
    "NumPy is a Python library used for working with arrays.\n",
    "\n",
    "It also has functions for working in domain of linear algebra, fourier transform, and matrices.\n",
    "\n"
   ]
  },
  {
   "cell_type": "markdown",
   "id": "c71ea192",
   "metadata": {},
   "source": [
    "NumPy stands for Numerical Python.\n",
    "\n"
   ]
  },
  {
   "cell_type": "markdown",
   "id": "117fc13d",
   "metadata": {},
   "source": [
    "In Python we have lists that serve the purpose of arrays, but they are slow to process.\n",
    "\n",
    "NumPy aims to provide an array object that is up to 50x faster than traditional Python lists.\n",
    "\n"
   ]
  },
  {
   "cell_type": "markdown",
   "id": "b910f764",
   "metadata": {},
   "source": [
    "The array object in NumPy is called ndarray, it provides a lot of supporting functions that make working with ndarray very easy.\n",
    "\n"
   ]
  },
  {
   "cell_type": "code",
   "execution_count": 2,
   "id": "e4fd7ec2",
   "metadata": {},
   "outputs": [
    {
     "name": "stdout",
     "output_type": "stream",
     "text": [
      "Requirement already satisfied: numpy in d:\\data science\\python\\venv\\lib\\site-packages (2.2.6)\n",
      "Note: you may need to restart the kernel to use updated packages.\n"
     ]
    }
   ],
   "source": [
    "pip install numpy"
   ]
  },
  {
   "cell_type": "code",
   "execution_count": 1,
   "id": "9d754f0b",
   "metadata": {},
   "outputs": [
    {
     "name": "stdout",
     "output_type": "stream",
     "text": [
      "0\n",
      "1\n",
      "2\n",
      "3\n"
     ]
    }
   ],
   "source": [
    "##Check how many dimensions the arrays have:\n",
    "\n",
    "import numpy as np\n",
    "\n",
    "a = np.array(42)\n",
    "b = np.array([1, 2, 3, 4, 5])\n",
    "c = np.array([[1, 2, 3], [4, 5, 6]])\n",
    "d = np.array([[[1, 2, 3], [4, 5, 6]], [[1, 2, 3], [4, 5, 6]]])\n",
    "\n",
    "print(a.ndim)\n",
    "print(b.ndim)\n",
    "print(c.ndim)\n",
    "print(d.ndim)\n"
   ]
  },
  {
   "cell_type": "code",
   "execution_count": null,
   "id": "fa5f73d4",
   "metadata": {},
   "outputs": [
    {
     "name": "stdout",
     "output_type": "stream",
     "text": [
      "[1 2 3 4 5]\n",
      "<class 'numpy.ndarray'>\n",
      "(5,)\n"
     ]
    }
   ],
   "source": [
    "import numpy as np  ## np is alias\n",
    "\n",
    "## Create array using numpy\n",
    "## Create 1D Array\n",
    "\n",
    "arr1=np.array([1,2,3,4,5])  # np.array is fuction to create array \n",
    "\n",
    "print(arr1)\n",
    "\n",
    "print(type(arr1))\n",
    "\n",
    "print(arr1.shape)"
   ]
  },
  {
   "cell_type": "code",
   "execution_count": null,
   "id": "47f1222f",
   "metadata": {},
   "outputs": [
    {
     "data": {
      "text/plain": [
       "array([[4, 5, 6, 7, 8]])"
      ]
     },
     "execution_count": 4,
     "metadata": {},
     "output_type": "execute_result"
    }
   ],
   "source": [
    "## 1D Array\n",
    "arr2 =np.array([4,5,6,7,8])\n",
    "\n",
    "## 2D Array\n",
    "arr2.reshape(1,5)  ## 1 row aur 5 columns   \n"
   ]
  },
  {
   "cell_type": "code",
   "execution_count": 3,
   "id": "eadf32c8",
   "metadata": {},
   "outputs": [
    {
     "name": "stdout",
     "output_type": "stream",
     "text": [
      "[[[[[1 2 3 4]]]]]\n",
      "number of dimensions : 5\n"
     ]
    }
   ],
   "source": [
    "# Higher Dimensional Arrays\n",
    "\n",
    "import numpy as np\n",
    "\n",
    "arr = np.array([1, 2, 3, 4], ndmin=5)\n",
    "\n",
    "print(arr)\n",
    "print('number of dimensions :', arr.ndim)"
   ]
  },
  {
   "cell_type": "code",
   "execution_count": 5,
   "id": "16940e93",
   "metadata": {},
   "outputs": [
    {
     "name": "stdout",
     "output_type": "stream",
     "text": [
      "6\n"
     ]
    }
   ],
   "source": [
    "# Access 3-D Arrays\n",
    "\n",
    "import numpy as np\n",
    "\n",
    "arr = np.array([[[1, 2, 3], [4, 5, 6]], [[7, 8, 9], [10, 11, 12]]])\n",
    "\n",
    "print(arr[0, 1, 2])\n"
   ]
  },
  {
   "cell_type": "code",
   "execution_count": 14,
   "id": "e523e6bd",
   "metadata": {},
   "outputs": [
    {
     "name": "stdout",
     "output_type": "stream",
     "text": [
      "[42  2  3  4  5]\n",
      "[1 2 3 4 5]\n",
      "[41  2  3  4  5]\n",
      "[41  2  3  4  5]\n"
     ]
    }
   ],
   "source": [
    "# NumPy Array Copy vs View\n",
    "\n",
    "\n",
    "import numpy as np\n",
    "\n",
    "arr = np.array([1, 2, 3, 4, 5])  \n",
    "x = arr.copy()\n",
    "arr[0] = 42\n",
    "\n",
    "print(arr)\n",
    "print(x)\n",
    "\n",
    "\n",
    "y = arr.view()\n",
    "arr[0] = 41\n",
    "\n",
    "print(arr)\n",
    "print(y)\n",
    "\n"
   ]
  },
  {
   "cell_type": "code",
   "execution_count": null,
   "id": "0118bbc6",
   "metadata": {},
   "outputs": [
    {
     "data": {
      "text/plain": [
       "(1, 5)"
      ]
     },
     "execution_count": 2,
     "metadata": {},
     "output_type": "execute_result"
    }
   ],
   "source": [
    "## find row and column\n",
    "\n",
    "arr2=np.array([[1,2,3,4,5]])\n",
    "arr2.shape"
   ]
  },
  {
   "cell_type": "code",
   "execution_count": 6,
   "id": "3bd7d3fd",
   "metadata": {},
   "outputs": [
    {
     "name": "stdout",
     "output_type": "stream",
     "text": [
      "[[ 1  2  3  4  5]\n",
      " [ 6  7  8  9 10]]\n"
     ]
    },
    {
     "data": {
      "text/plain": [
       "(2, 5)"
      ]
     },
     "execution_count": 6,
     "metadata": {},
     "output_type": "execute_result"
    }
   ],
   "source": [
    "## 2D Array\n",
    "arr2=np.array([[1,2,3,4,5],[6,7,8,9,10]])\n",
    "print(arr2)\n",
    "arr2.shape"
   ]
  },
  {
   "cell_type": "code",
   "execution_count": null,
   "id": "834514f9",
   "metadata": {},
   "outputs": [
    {
     "data": {
      "text/plain": [
       "array([[0],\n",
       "       [2],\n",
       "       [4],\n",
       "       [6],\n",
       "       [8]])"
      ]
     },
     "execution_count": 8,
     "metadata": {},
     "output_type": "execute_result"
    }
   ],
   "source": [
    "## arange is a function in the NumPy library that generates arrays with evenly spaced values within a defined interval.\n",
    "\n",
    "np.arange(0,10,2).reshape(5,1)   "
   ]
  },
  {
   "cell_type": "code",
   "execution_count": 10,
   "id": "387df0d5",
   "metadata": {},
   "outputs": [
    {
     "data": {
      "text/plain": [
       "array([[1., 1., 1., 1.],\n",
       "       [1., 1., 1., 1.],\n",
       "       [1., 1., 1., 1.]])"
      ]
     },
     "execution_count": 10,
     "metadata": {},
     "output_type": "execute_result"
    }
   ],
   "source": [
    "np.ones((3,4))"
   ]
  },
  {
   "cell_type": "code",
   "execution_count": 12,
   "id": "1906ac44",
   "metadata": {},
   "outputs": [
    {
     "data": {
      "text/plain": [
       "array([[1., 0., 0.],\n",
       "       [0., 1., 0.],\n",
       "       [0., 0., 1.]])"
      ]
     },
     "execution_count": 12,
     "metadata": {},
     "output_type": "execute_result"
    }
   ],
   "source": [
    "## identity matrix\n",
    "\n",
    "np.eye(3)"
   ]
  },
  {
   "cell_type": "code",
   "execution_count": 7,
   "id": "fb87a4e7",
   "metadata": {},
   "outputs": [
    {
     "name": "stdout",
     "output_type": "stream",
     "text": [
      "Array :\n",
      " [[1 2 3]\n",
      " [4 5 6]]\n",
      "Shape: (2, 3)\n",
      "Number of dimensions: 6\n",
      "Size (number of element ): 6\n",
      "Data type: int64\n",
      "Item size (in bytes): 8\n"
     ]
    }
   ],
   "source": [
    "## Attributes of Numpy Array\n",
    "import numpy as np\n",
    "arr =np.array([[1,2,3],[4,5,6]]) \n",
    "\n",
    "print(\"Array :\\n\",arr)\n",
    "print(\"Shape:\",arr.shape)\n",
    "print(\"Number of dimensions:\",arr.size)\n",
    "print(\"Size (number of element ):\",arr.size)\n",
    "print(\"Data type:\",arr.dtype)\n",
    "print(\"Item size (in bytes):\",arr.itemsize) "
   ]
  },
  {
   "cell_type": "code",
   "execution_count": 5,
   "id": "559c7400",
   "metadata": {},
   "outputs": [
    {
     "name": "stdout",
     "output_type": "stream",
     "text": [
      "Addition: [11 22 33 44 55]\n",
      "Sustraction: [ -9 -18 -27 -36 -45]\n",
      "Multiplecation: [ 10  40  90 160 250]\n",
      "Division: [1. 1. 1. 1. 1.]\n"
     ]
    }
   ],
   "source": [
    "## Numpy Vectorized Operation\n",
    "import numpy as np\n",
    "arr1=np.array([1,2,3,4,5])\n",
    "arr2=np.array([10,20,30,40,50])\n",
    "\n",
    "## Element Wise addition\n",
    "print(\"Addition:\",arr1+arr2)\n",
    "\n",
    "## Element Wise Subtraction\n",
    "print(\"Sustraction:\",arr1-arr2)\n",
    "\n",
    "\n",
    "## Element Wise mutiplication\n",
    "print(\"Multiplecation:\",arr1*arr2)\n",
    "\n",
    "## Element Wise division\n",
    "print(\"Division:\",arr1/arr1)"
   ]
  },
  {
   "cell_type": "code",
   "execution_count": 3,
   "id": "1fe214fd",
   "metadata": {},
   "outputs": [
    {
     "name": "stdout",
     "output_type": "stream",
     "text": [
      "[1.41421356 1.73205081 2.         2.23606798 2.44948974]\n",
      "[  7.3890561   20.08553692  54.59815003 148.4131591  403.42879349]\n",
      "[ 0.90929743  0.14112001 -0.7568025  -0.95892427 -0.2794155 ]\n",
      "<ufunc 'log'>\n"
     ]
    }
   ],
   "source": [
    "## Universal Fuction\n",
    "import numpy as np\n",
    "arr=np.array([2,3,4,5,6])\n",
    "## squre root \n",
    "print(np.sqrt(arr))\n",
    "\n",
    "## Exponential\n",
    "print(np.exp(arr))\n",
    "\n",
    "## Since \n",
    "print(np.sin(arr))\n",
    "\n",
    "## Natural log\n",
    "print(np.log)"
   ]
  },
  {
   "cell_type": "code",
   "execution_count": null,
   "id": "66fca2e8",
   "metadata": {},
   "outputs": [
    {
     "name": "stdout",
     "output_type": "stream",
     "text": [
      "[ True  True  True]\n",
      "[1 2 3]\n",
      "int64\n"
     ]
    }
   ],
   "source": [
    "# # Converting Data Type on Existing Arrays\n",
    "\n",
    "# Change data type from float to integer by using 'i' as parameter value:\n",
    "\n",
    "\n",
    "import numpy as np\n",
    "\n",
    "arr = np.array([1.1, 2.1, 3.1])\n",
    "\n",
    "newarr = arr.astype(int)\n",
    "\n",
    "print(arr.astype(bool))\n",
    "\n",
    "print(newarr)\n",
    "5\n",
    "print(newarr.dtype)\n",
    "\n"
   ]
  },
  {
   "cell_type": "markdown",
   "id": "d2657308",
   "metadata": {},
   "source": [
    "Multi-dimensional Arrays:\n",
    "\n",
    "For multi-dimensional arrays, indices for each dimension are provided, separated by commas (e.g., array[row_index, column_index]).\n"
   ]
  },
  {
   "cell_type": "markdown",
   "id": "315ca046",
   "metadata": {},
   "source": [
    "Slicing uses the format [start:stop:step].\n"
   ]
  },
  {
   "cell_type": "code",
   "execution_count": null,
   "id": "e1d9b401",
   "metadata": {},
   "outputs": [
    {
     "name": "stdout",
     "output_type": "stream",
     "text": [
      "[2 3 4 5]\n",
      "[0 1 2 3 4]\n",
      "[5 6 7 8 9]\n",
      "[0 2 4 6 8]\n",
      "[9 8 7 6 5 4 3 2 1 0]\n"
     ]
    }
   ],
   "source": [
    "import numpy as np\n",
    "arr = np.array([0, 1, 2, 3, 4, 5, 6, 7, 8, 9])\n",
    "print(arr[2:6])    # Output: [2 3 4 5] (elements from index 2 up to, but not including, index 6)\n",
    "print(arr[:5])     # Output: [0 1 2 3 4] (elements from the beginning up to, but not including, index 5)\n",
    "print(arr[5:])     # Output: [5 6 7 8 9] (elements from index 5 to the end)\n",
    "print(arr[::2])    # Output: [0 2 4 6 8] (every other element, with a step of 2)\n",
    "\n",
    "# Use the minus operator to refer to an index from the end:\n",
    "\n",
    "\n",
    "print(arr[::-1])   # Output: [9 8 7 6 5 4 3 2 1 0] (reverses the array)"
   ]
  },
  {
   "cell_type": "code",
   "execution_count": 2,
   "id": "0132de9e",
   "metadata": {},
   "outputs": [
    {
     "name": "stdout",
     "output_type": "stream",
     "text": [
      "[[2 3]\n",
      " [6 7]]\n",
      "[5 6 7 8]\n",
      "[ 3  7 11]\n"
     ]
    }
   ],
   "source": [
    "import numpy as np\n",
    "matrix = np.array([[1, 2, 3, 4], [5, 6, 7, 8], [9, 10, 11, 12]])\n",
    "print(matrix[:2, 1:3]) # Output: [[2 3], [6 7]] (first two rows, columns from index 1 to 2)\n",
    "print(matrix[1, :])   # Output: [5 6 7 8] (selects all elements in the second row)\n",
    "print(matrix[:, 2])   # Output: [ 3 7 11] (selects all elements in the third column)\n"
   ]
  },
  {
   "cell_type": "code",
   "execution_count": null,
   "id": "2b351222",
   "metadata": {},
   "outputs": [
    {
     "name": "stdout",
     "output_type": "stream",
     "text": [
      "Array :\n",
      " [[ 1  2  3  4]\n",
      " [ 5  6  7  8]\n",
      " [ 9 10 11 12]]\n"
     ]
    }
   ],
   "source": [
    "## Array slicing and Indexing\n",
    "\n",
    "arr=np.array([[1,2,3,4],[5,6,7,8],[9,10,11,12]])\n",
    "print(\"Array :\\n\",arr)\n",
    "\n"
   ]
  },
  {
   "cell_type": "code",
   "execution_count": 9,
   "id": "ed475381",
   "metadata": {},
   "outputs": [
    {
     "data": {
      "text/plain": [
       "np.int64(1)"
      ]
     },
     "execution_count": 9,
     "metadata": {},
     "output_type": "execute_result"
    }
   ],
   "source": [
    "\n",
    "arr[0][0]"
   ]
  },
  {
   "cell_type": "code",
   "execution_count": 13,
   "id": "0557a98e",
   "metadata": {},
   "outputs": [
    {
     "data": {
      "text/plain": [
       "array([[ 7,  8],\n",
       "       [11, 12]])"
      ]
     },
     "execution_count": 13,
     "metadata": {},
     "output_type": "execute_result"
    }
   ],
   "source": [
    "arr[1:,2:]"
   ]
  },
  {
   "cell_type": "code",
   "execution_count": 17,
   "id": "677007e3",
   "metadata": {},
   "outputs": [
    {
     "data": {
      "text/plain": [
       "array([ 7, 11])"
      ]
     },
     "execution_count": 17,
     "metadata": {},
     "output_type": "execute_result"
    }
   ],
   "source": [
    "arr[1:,2]"
   ]
  },
  {
   "cell_type": "code",
   "execution_count": null,
   "id": "690d2f4b",
   "metadata": {},
   "outputs": [
    {
     "name": "stdout",
     "output_type": "stream",
     "text": [
      "[  0 100 100 100 100 100 100 100 100 100]\n"
     ]
    }
   ],
   "source": [
    "arr[1: ]=100\n",
    "print(arr)"
   ]
  },
  {
   "cell_type": "code",
   "execution_count": 3,
   "id": "1b3fd429",
   "metadata": {},
   "outputs": [
    {
     "name": "stdout",
     "output_type": "stream",
     "text": [
      "Normalized data : [-1.41421356 -0.70710678  0.          0.70710678  1.41421356]\n"
     ]
    }
   ],
   "source": [
    "import numpy as np\n",
    "\n",
    "## statistical concepts--Normalization\n",
    "## to Have a mean of 0 and standard deviation  of 1\n",
    "data =np.array([1,2,3,4,5])\n",
    "\n",
    "## Calculate the mean and standard deviation\n",
    "mean=np.mean(data)\n",
    "std_dev=np.std(data)\n",
    "\n",
    "# Normalize the data  \n",
    "normalized_data=(data-mean)/std_dev\n",
    "print(\"Normalized data :\",normalized_data)"
   ]
  },
  {
   "cell_type": "code",
   "execution_count": null,
   "id": "e28c53e7",
   "metadata": {},
   "outputs": [
    {
     "name": "stdout",
     "output_type": "stream",
     "text": [
      "5.5\n",
      "5.5\n",
      "2.8722813232690143\n",
      "8.25\n"
     ]
    }
   ],
   "source": [
    "data=np.array([1,2,3,4,5,6,7,8,9,10])\n",
    "\n",
    "## Mean\n",
    "print(np.mean(data))\n",
    "\n",
    "## Median\n",
    "print(np.median(data))\n",
    "\n",
    "## std\n",
    "print(np.std(data))\n",
    "\n",
    "## Variance\n",
    "print(np.var(data))"
   ]
  },
  {
   "cell_type": "code",
   "execution_count": null,
   "id": "13190fb6",
   "metadata": {},
   "outputs": [
    {
     "data": {
      "text/plain": [
       "array([ 6,  7,  8,  9, 10])"
      ]
     },
     "execution_count": 7,
     "metadata": {},
     "output_type": "execute_result"
    }
   ],
   "source": [
    "## Logical Operator \n",
    "data=np.array([1,2,3,4,5,6,7,8,9,10])\n",
    "data([data>5])"
   ]
  }
 ],
 "metadata": {
  "kernelspec": {
   "display_name": "Python 3",
   "language": "python",
   "name": "python3"
  },
  "language_info": {
   "codemirror_mode": {
    "name": "ipython",
    "version": 3
   },
   "file_extension": ".py",
   "mimetype": "text/x-python",
   "name": "python",
   "nbconvert_exporter": "python",
   "pygments_lexer": "ipython3",
   "version": "3.10.18"
  }
 },
 "nbformat": 4,
 "nbformat_minor": 5
}
