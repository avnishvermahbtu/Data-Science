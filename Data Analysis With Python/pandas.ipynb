{
 "cells": [
  {
   "cell_type": "markdown",
   "id": "8202c125",
   "metadata": {},
   "source": [
    "Pandas\n",
    "\n"
   ]
  },
  {
   "cell_type": "markdown",
   "id": "357e982b",
   "metadata": {},
   "source": [
    "Pandas is a Python library used for working with data sets.\n",
    "\n",
    "It has functions for analyzing, cleaning, exploring, and manipulating data.\n",
    "\n"
   ]
  },
  {
   "cell_type": "markdown",
   "id": "d1c3df8c",
   "metadata": {},
   "source": [
    "Pandas allows us to analyze big data and make conclusions based on statistical theories.\n",
    "\n",
    "Pandas can clean messy data sets, and make them readable and relevant.\n",
    "\n",
    "Relevant data is very important in data science."
   ]
  },
  {
   "cell_type": "markdown",
   "id": "9fc6c7bc",
   "metadata": {},
   "source": [
    "Series:\n",
    "1. A Series is a one-dimensional labeled array capable of holding data of various types (integers, strings, Python objects, etc.).\n",
    "\n",
    "2. It can be thought of as a single column in a spreadsheet or a dictionary in Python.\n",
    "\n",
    "3. Each element in a Series has an associated index, which facilitates data retrieval and manipulation."
   ]
  },
  {
   "cell_type": "markdown",
   "id": "272552f1",
   "metadata": {},
   "source": [
    "DataFarme\n",
    "\n",
    "A two -dimensional data structure  with column of pontentially different type of data - DataFrame"
   ]
  },
  {
   "cell_type": "code",
   "execution_count": 2,
   "id": "62cf65ef",
   "metadata": {},
   "outputs": [
    {
     "name": "stdout",
     "output_type": "stream",
     "text": [
      "Requirement already satisfied: pandas in d:\\data science\\python\\venv\\lib\\site-packages (2.3.1)\n",
      "Requirement already satisfied: numpy>=1.22.4 in d:\\data science\\python\\venv\\lib\\site-packages (from pandas) (2.2.6)\n",
      "Requirement already satisfied: python-dateutil>=2.8.2 in d:\\data science\\python\\venv\\lib\\site-packages (from pandas) (2.9.0.post0)\n",
      "Requirement already satisfied: pytz>=2020.1 in d:\\data science\\python\\venv\\lib\\site-packages (from pandas) (2025.2)\n",
      "Requirement already satisfied: tzdata>=2022.7 in d:\\data science\\python\\venv\\lib\\site-packages (from pandas) (2025.2)\n",
      "Requirement already satisfied: six>=1.5 in d:\\data science\\python\\venv\\lib\\site-packages (from python-dateutil>=2.8.2->pandas) (1.17.0)\n",
      "Note: you may need to restart the kernel to use updated packages.\n"
     ]
    }
   ],
   "source": [
    "pip install pandas"
   ]
  },
  {
   "cell_type": "code",
   "execution_count": 3,
   "id": "4fd48f0a",
   "metadata": {},
   "outputs": [
    {
     "name": "stdout",
     "output_type": "stream",
     "text": [
      "Series \n",
      " 0    1\n",
      "1    2\n",
      "2    3\n",
      "3    4\n",
      "4    5\n",
      "dtype: int64\n"
     ]
    }
   ],
   "source": [
    "## Series \n",
    "## A Pandas is a one dimensional array -like object that can hold any data type. It is similarto\n",
    "\n",
    "import pandas as pd \n",
    "data=[1,2,3,4,5]\n",
    "series=pd.Series(data)\n",
    "\n",
    "print(\"Series \\n\",series)\n",
    "\n"
   ]
  },
  {
   "cell_type": "code",
   "execution_count": 4,
   "id": "6893d3e0",
   "metadata": {},
   "outputs": [
    {
     "name": "stdout",
     "output_type": "stream",
     "text": [
      "a    10\n",
      "b    20\n",
      "c    30\n",
      "dtype: int64\n"
     ]
    }
   ],
   "source": [
    "data=[10,20,30]\n",
    "index=['a','b','c']\n",
    "series=pd.Series(data,index=index)\n",
    "print(series)"
   ]
  },
  {
   "cell_type": "code",
   "execution_count": 5,
   "id": "038bf0e8",
   "metadata": {},
   "outputs": [
    {
     "data": {
      "text/plain": [
       "a    10\n",
       "b    20\n",
       "c    30\n",
       "dtype: int64"
      ]
     },
     "execution_count": 5,
     "metadata": {},
     "output_type": "execute_result"
    }
   ],
   "source": [
    "data=pd.Series([10,20,30],index=['a','b','c'])\n",
    "data  "
   ]
  },
  {
   "cell_type": "markdown",
   "id": "08f417bc",
   "metadata": {},
   "source": [
    "DataFrame"
   ]
  },
  {
   "cell_type": "markdown",
   "id": "e782722e",
   "metadata": {},
   "source": [
    "Creating DataFrame\n"
   ]
  },
  {
   "cell_type": "code",
   "execution_count": 6,
   "id": "472e72bf",
   "metadata": {},
   "outputs": [
    {
     "name": "stdout",
     "output_type": "stream",
     "text": [
      "     Name  Age       City\n",
      "0  Avnish   20  lakhimpur\n",
      "1   Ayush   19    roorkee\n",
      "2   Rohit   21     Ballia\n",
      "<class 'pandas.core.frame.DataFrame'>\n"
     ]
    }
   ],
   "source": [
    "# Dataframe\n",
    "# create data From a dictionay of list \n",
    "\n",
    "data={\n",
    "    'Name':['Avnish','Ayush','Rohit'],\n",
    "    'Age':[20,19,21],\n",
    "    \"City\":['lakhimpur','roorkee','Ballia']\n",
    "}\n",
    "\n",
    "# creating a dataframe object\n",
    "\n",
    "df=pd.DataFrame(data)\n",
    "print(df)\n",
    "print(type(df))\n"
   ]
  },
  {
   "cell_type": "code",
   "execution_count": 7,
   "id": "dfc02404",
   "metadata": {},
   "outputs": [
    {
     "name": "stdout",
     "output_type": "stream",
     "text": [
      "     Name  Age    City\n",
      "0  Avnish   20  Kanpur\n",
      "1   Rohit   20  Ballia\n",
      "2   Ayush   19  Kanpur\n",
      "<class 'pandas.core.frame.DataFrame'>\n"
     ]
    }
   ],
   "source": [
    "# create a Data frame From a List of Dictionaries  \n",
    "data=[\n",
    "    {'Name':\"Avnish\",'Age':20,'City':'Kanpur'},\n",
    "        {'Name':\"Rohit\",'Age':20,'City':'Ballia'},\n",
    "            {'Name':\"Ayush\",'Age':19,'City':'Kanpur'},\n",
    "\n",
    "\n",
    "]\n",
    "df=pd.DataFrame(data)\n",
    "print(df)\n",
    "print(type(df))\n"
   ]
  },
  {
   "cell_type": "code",
   "execution_count": 8,
   "id": "cdc5b9d7",
   "metadata": {},
   "outputs": [
    {
     "name": "stdout",
     "output_type": "stream",
     "text": [
      "     Name  Age    City\n",
      "0  Avnish   20  Kanpur\n",
      "1   Rohit   20  Ballia\n",
      "2   Ayush   19  Kanpur\n"
     ]
    }
   ],
   "source": [
    " #Accessing  Data From DAtaFrame\n",
    "    \n",
    "data=[    \n",
    "    {'Name':\"Avnish\",'Age':20,'City':'Kanpur'},\n",
    "        {'Name':\"Rohit\",'Age':20,'City':'Ballia'},\n",
    "            {'Name':\"Ayush\",'Age':19,'City':'Kanpur'},\n",
    "\n",
    "\n",
    "]\n",
    " \n",
    "df=pd.DataFrame(data)\n",
    "\n",
    "print(df)\n"
   ]
  },
  {
   "cell_type": "markdown",
   "id": "730bc59d",
   "metadata": {},
   "source": [
    "Selecting Rows and Columns using loc and iloc :"
   ]
  },
  {
   "cell_type": "markdown",
   "id": "5906934f",
   "metadata": {},
   "source": [
    ".loc: This is used for label-based indexing. You can select data by row and column labels."
   ]
  },
  {
   "cell_type": "code",
   "execution_count": 40,
   "id": "a8c77d50",
   "metadata": {},
   "outputs": [
    {
     "data": {
      "text/html": [
       "<div>\n",
       "<style scoped>\n",
       "    .dataframe tbody tr th:only-of-type {\n",
       "        vertical-align: middle;\n",
       "    }\n",
       "\n",
       "    .dataframe tbody tr th {\n",
       "        vertical-align: top;\n",
       "    }\n",
       "\n",
       "    .dataframe thead th {\n",
       "        text-align: right;\n",
       "    }\n",
       "</style>\n",
       "<table border=\"1\" class=\"dataframe\">\n",
       "  <thead>\n",
       "    <tr style=\"text-align: right;\">\n",
       "      <th></th>\n",
       "      <th>Name</th>\n",
       "      <th>City</th>\n",
       "    </tr>\n",
       "  </thead>\n",
       "  <tbody>\n",
       "    <tr>\n",
       "      <th>2</th>\n",
       "      <td>Ayush</td>\n",
       "      <td>Kanpur</td>\n",
       "    </tr>\n",
       "  </tbody>\n",
       "</table>\n",
       "</div>"
      ],
      "text/plain": [
       "    Name    City\n",
       "2  Ayush  Kanpur"
      ]
     },
     "execution_count": 40,
     "metadata": {},
     "output_type": "execute_result"
    }
   ],
   "source": [
    "# Select rows and columns using label-based indexing\n",
    "\n",
    "df.loc[df['Age']==20,['Name','City']]"
   ]
  },
  {
   "cell_type": "code",
   "execution_count": 42,
   "id": "9cac458d",
   "metadata": {},
   "outputs": [
    {
     "data": {
      "text/html": [
       "<div>\n",
       "<style scoped>\n",
       "    .dataframe tbody tr th:only-of-type {\n",
       "        vertical-align: middle;\n",
       "    }\n",
       "\n",
       "    .dataframe tbody tr th {\n",
       "        vertical-align: top;\n",
       "    }\n",
       "\n",
       "    .dataframe thead th {\n",
       "        text-align: right;\n",
       "    }\n",
       "</style>\n",
       "<table border=\"1\" class=\"dataframe\">\n",
       "  <thead>\n",
       "    <tr style=\"text-align: right;\">\n",
       "      <th></th>\n",
       "      <th>Age</th>\n",
       "      <th>City</th>\n",
       "    </tr>\n",
       "  </thead>\n",
       "  <tbody>\n",
       "    <tr>\n",
       "      <th>0</th>\n",
       "      <td>21</td>\n",
       "      <td>Kanpur</td>\n",
       "    </tr>\n",
       "  </tbody>\n",
       "</table>\n",
       "</div>"
      ],
      "text/plain": [
       "   Age    City\n",
       "0   21  Kanpur"
      ]
     },
     "execution_count": 42,
     "metadata": {},
     "output_type": "execute_result"
    }
   ],
   "source": [
    "df.loc[df['Name']=='Avnish',['Age','City']]"
   ]
  },
  {
   "cell_type": "markdown",
   "id": "a20a4b09",
   "metadata": {},
   "source": [
    ".iloc: This is used for position-based indexing. You can select data by row and column numbers."
   ]
  },
  {
   "cell_type": "code",
   "execution_count": null,
   "id": "07d2aad8",
   "metadata": {},
   "outputs": [
    {
     "data": {
      "text/html": [
       "<div>\n",
       "<style scoped>\n",
       "    .dataframe tbody tr th:only-of-type {\n",
       "        vertical-align: middle;\n",
       "    }\n",
       "\n",
       "    .dataframe tbody tr th {\n",
       "        vertical-align: top;\n",
       "    }\n",
       "\n",
       "    .dataframe thead th {\n",
       "        text-align: right;\n",
       "    }\n",
       "</style>\n",
       "<table border=\"1\" class=\"dataframe\">\n",
       "  <thead>\n",
       "    <tr style=\"text-align: right;\">\n",
       "      <th></th>\n",
       "      <th>Age</th>\n",
       "    </tr>\n",
       "  </thead>\n",
       "  <tbody>\n",
       "    <tr>\n",
       "      <th>0</th>\n",
       "      <td>20</td>\n",
       "    </tr>\n",
       "  </tbody>\n",
       "</table>\n",
       "</div>"
      ],
      "text/plain": [
       "   Age\n",
       "0   20"
      ]
     },
     "execution_count": 11,
     "metadata": {},
     "output_type": "execute_result"
    }
   ],
   "source": [
    "# Select rows and columns using integer-based indexing\n",
    "\n",
    "df.iloc[[0],[1]]"
   ]
  },
  {
   "cell_type": "code",
   "execution_count": 12,
   "id": "bbcfd54a",
   "metadata": {},
   "outputs": [
    {
     "data": {
      "text/html": [
       "<div>\n",
       "<style scoped>\n",
       "    .dataframe tbody tr th:only-of-type {\n",
       "        vertical-align: middle;\n",
       "    }\n",
       "\n",
       "    .dataframe tbody tr th {\n",
       "        vertical-align: top;\n",
       "    }\n",
       "\n",
       "    .dataframe thead th {\n",
       "        text-align: right;\n",
       "    }\n",
       "</style>\n",
       "<table border=\"1\" class=\"dataframe\">\n",
       "  <thead>\n",
       "    <tr style=\"text-align: right;\">\n",
       "      <th></th>\n",
       "      <th>Name</th>\n",
       "      <th>Age</th>\n",
       "      <th>City</th>\n",
       "    </tr>\n",
       "  </thead>\n",
       "  <tbody>\n",
       "    <tr>\n",
       "      <th>0</th>\n",
       "      <td>Avnish</td>\n",
       "      <td>20</td>\n",
       "      <td>Kanpur</td>\n",
       "    </tr>\n",
       "    <tr>\n",
       "      <th>1</th>\n",
       "      <td>Rohit</td>\n",
       "      <td>20</td>\n",
       "      <td>Ballia</td>\n",
       "    </tr>\n",
       "    <tr>\n",
       "      <th>2</th>\n",
       "      <td>Ayush</td>\n",
       "      <td>19</td>\n",
       "      <td>Kanpur</td>\n",
       "    </tr>\n",
       "  </tbody>\n",
       "</table>\n",
       "</div>"
      ],
      "text/plain": [
       "     Name  Age    City\n",
       "0  Avnish   20  Kanpur\n",
       "1   Rohit   20  Ballia\n",
       "2   Ayush   19  Kanpur"
      ]
     },
     "execution_count": 12,
     "metadata": {},
     "output_type": "execute_result"
    }
   ],
   "source": [
    "df"
   ]
  },
  {
   "cell_type": "code",
   "execution_count": 13,
   "id": "7503aae9",
   "metadata": {},
   "outputs": [
    {
     "data": {
      "text/plain": [
       "'Ayush'"
      ]
     },
     "execution_count": 13,
     "metadata": {},
     "output_type": "execute_result"
    }
   ],
   "source": [
    "# Acessing a specified element \n",
    "\n",
    "df.at[2,'Name']    ### row and column put"
   ]
  },
  {
   "cell_type": "code",
   "execution_count": 14,
   "id": "61f8a94a",
   "metadata": {},
   "outputs": [
    {
     "data": {
      "text/plain": [
       "'Ayush'"
      ]
     },
     "execution_count": 14,
     "metadata": {},
     "output_type": "execute_result"
    }
   ],
   "source": [
    "# Acessing a specified element using iat\n",
    "\n",
    "df.iat[2,0]\n"
   ]
  },
  {
   "cell_type": "code",
   "execution_count": 15,
   "id": "d353a991",
   "metadata": {},
   "outputs": [
    {
     "data": {
      "text/html": [
       "<div>\n",
       "<style scoped>\n",
       "    .dataframe tbody tr th:only-of-type {\n",
       "        vertical-align: middle;\n",
       "    }\n",
       "\n",
       "    .dataframe tbody tr th {\n",
       "        vertical-align: top;\n",
       "    }\n",
       "\n",
       "    .dataframe thead th {\n",
       "        text-align: right;\n",
       "    }\n",
       "</style>\n",
       "<table border=\"1\" class=\"dataframe\">\n",
       "  <thead>\n",
       "    <tr style=\"text-align: right;\">\n",
       "      <th></th>\n",
       "      <th>Name</th>\n",
       "      <th>Age</th>\n",
       "      <th>City</th>\n",
       "    </tr>\n",
       "  </thead>\n",
       "  <tbody>\n",
       "    <tr>\n",
       "      <th>0</th>\n",
       "      <td>Avnish</td>\n",
       "      <td>20</td>\n",
       "      <td>Kanpur</td>\n",
       "    </tr>\n",
       "    <tr>\n",
       "      <th>1</th>\n",
       "      <td>Rohit</td>\n",
       "      <td>20</td>\n",
       "      <td>Ballia</td>\n",
       "    </tr>\n",
       "    <tr>\n",
       "      <th>2</th>\n",
       "      <td>Ayush</td>\n",
       "      <td>19</td>\n",
       "      <td>Kanpur</td>\n",
       "    </tr>\n",
       "  </tbody>\n",
       "</table>\n",
       "</div>"
      ],
      "text/plain": [
       "     Name  Age    City\n",
       "0  Avnish   20  Kanpur\n",
       "1   Rohit   20  Ballia\n",
       "2   Ayush   19  Kanpur"
      ]
     },
     "execution_count": 15,
     "metadata": {},
     "output_type": "execute_result"
    }
   ],
   "source": [
    "## Data Manipulation with Dataframe\n",
    "df"
   ]
  },
  {
   "cell_type": "code",
   "execution_count": 16,
   "id": "6f249167",
   "metadata": {},
   "outputs": [
    {
     "data": {
      "text/html": [
       "<div>\n",
       "<style scoped>\n",
       "    .dataframe tbody tr th:only-of-type {\n",
       "        vertical-align: middle;\n",
       "    }\n",
       "\n",
       "    .dataframe tbody tr th {\n",
       "        vertical-align: top;\n",
       "    }\n",
       "\n",
       "    .dataframe thead th {\n",
       "        text-align: right;\n",
       "    }\n",
       "</style>\n",
       "<table border=\"1\" class=\"dataframe\">\n",
       "  <thead>\n",
       "    <tr style=\"text-align: right;\">\n",
       "      <th></th>\n",
       "      <th>Name</th>\n",
       "      <th>Age</th>\n",
       "      <th>City</th>\n",
       "      <th>Salary</th>\n",
       "    </tr>\n",
       "  </thead>\n",
       "  <tbody>\n",
       "    <tr>\n",
       "      <th>0</th>\n",
       "      <td>Avnish</td>\n",
       "      <td>20</td>\n",
       "      <td>Kanpur</td>\n",
       "      <td>50000</td>\n",
       "    </tr>\n",
       "    <tr>\n",
       "      <th>1</th>\n",
       "      <td>Rohit</td>\n",
       "      <td>20</td>\n",
       "      <td>Ballia</td>\n",
       "      <td>60000</td>\n",
       "    </tr>\n",
       "    <tr>\n",
       "      <th>2</th>\n",
       "      <td>Ayush</td>\n",
       "      <td>19</td>\n",
       "      <td>Kanpur</td>\n",
       "      <td>700000</td>\n",
       "    </tr>\n",
       "  </tbody>\n",
       "</table>\n",
       "</div>"
      ],
      "text/plain": [
       "     Name  Age    City  Salary\n",
       "0  Avnish   20  Kanpur   50000\n",
       "1   Rohit   20  Ballia   60000\n",
       "2   Ayush   19  Kanpur  700000"
      ]
     },
     "execution_count": 16,
     "metadata": {},
     "output_type": "execute_result"
    }
   ],
   "source": [
    "# Adding a column \n",
    "df['Salary']=[50000,60000,700000]\n",
    "df"
   ]
  },
  {
   "cell_type": "code",
   "execution_count": 17,
   "id": "4173e8d0",
   "metadata": {},
   "outputs": [
    {
     "data": {
      "text/html": [
       "<div>\n",
       "<style scoped>\n",
       "    .dataframe tbody tr th:only-of-type {\n",
       "        vertical-align: middle;\n",
       "    }\n",
       "\n",
       "    .dataframe tbody tr th {\n",
       "        vertical-align: top;\n",
       "    }\n",
       "\n",
       "    .dataframe thead th {\n",
       "        text-align: right;\n",
       "    }\n",
       "</style>\n",
       "<table border=\"1\" class=\"dataframe\">\n",
       "  <thead>\n",
       "    <tr style=\"text-align: right;\">\n",
       "      <th></th>\n",
       "      <th>Name</th>\n",
       "      <th>Age</th>\n",
       "      <th>City</th>\n",
       "    </tr>\n",
       "  </thead>\n",
       "  <tbody>\n",
       "    <tr>\n",
       "      <th>0</th>\n",
       "      <td>Avnish</td>\n",
       "      <td>20</td>\n",
       "      <td>Kanpur</td>\n",
       "    </tr>\n",
       "    <tr>\n",
       "      <th>1</th>\n",
       "      <td>Rohit</td>\n",
       "      <td>20</td>\n",
       "      <td>Ballia</td>\n",
       "    </tr>\n",
       "    <tr>\n",
       "      <th>2</th>\n",
       "      <td>Ayush</td>\n",
       "      <td>19</td>\n",
       "      <td>Kanpur</td>\n",
       "    </tr>\n",
       "  </tbody>\n",
       "</table>\n",
       "</div>"
      ],
      "text/plain": [
       "     Name  Age    City\n",
       "0  Avnish   20  Kanpur\n",
       "1   Rohit   20  Ballia\n",
       "2   Ayush   19  Kanpur"
      ]
     },
     "execution_count": 17,
     "metadata": {},
     "output_type": "execute_result"
    }
   ],
   "source": [
    "#3 Remove a column\n",
    "df.drop(\"Salary\",axis=1) ## This is not  is parmament operation temprary operation\n",
    "\n",
    "## if axis =1 dege to column se hatayega if axis =1 nhi dege to row se hatayega"
   ]
  },
  {
   "cell_type": "code",
   "execution_count": 18,
   "id": "e9d6080d",
   "metadata": {},
   "outputs": [
    {
     "data": {
      "text/html": [
       "<div>\n",
       "<style scoped>\n",
       "    .dataframe tbody tr th:only-of-type {\n",
       "        vertical-align: middle;\n",
       "    }\n",
       "\n",
       "    .dataframe tbody tr th {\n",
       "        vertical-align: top;\n",
       "    }\n",
       "\n",
       "    .dataframe thead th {\n",
       "        text-align: right;\n",
       "    }\n",
       "</style>\n",
       "<table border=\"1\" class=\"dataframe\">\n",
       "  <thead>\n",
       "    <tr style=\"text-align: right;\">\n",
       "      <th></th>\n",
       "      <th>Name</th>\n",
       "      <th>Age</th>\n",
       "      <th>City</th>\n",
       "      <th>Salary</th>\n",
       "    </tr>\n",
       "  </thead>\n",
       "  <tbody>\n",
       "    <tr>\n",
       "      <th>0</th>\n",
       "      <td>Avnish</td>\n",
       "      <td>20</td>\n",
       "      <td>Kanpur</td>\n",
       "      <td>50000</td>\n",
       "    </tr>\n",
       "    <tr>\n",
       "      <th>1</th>\n",
       "      <td>Rohit</td>\n",
       "      <td>20</td>\n",
       "      <td>Ballia</td>\n",
       "      <td>60000</td>\n",
       "    </tr>\n",
       "    <tr>\n",
       "      <th>2</th>\n",
       "      <td>Ayush</td>\n",
       "      <td>19</td>\n",
       "      <td>Kanpur</td>\n",
       "      <td>700000</td>\n",
       "    </tr>\n",
       "  </tbody>\n",
       "</table>\n",
       "</div>"
      ],
      "text/plain": [
       "     Name  Age    City  Salary\n",
       "0  Avnish   20  Kanpur   50000\n",
       "1   Rohit   20  Ballia   60000\n",
       "2   Ayush   19  Kanpur  700000"
      ]
     },
     "execution_count": 18,
     "metadata": {},
     "output_type": "execute_result"
    }
   ],
   "source": [
    "df"
   ]
  },
  {
   "cell_type": "code",
   "execution_count": 19,
   "id": "07e938e0",
   "metadata": {},
   "outputs": [
    {
     "data": {
      "text/html": [
       "<div>\n",
       "<style scoped>\n",
       "    .dataframe tbody tr th:only-of-type {\n",
       "        vertical-align: middle;\n",
       "    }\n",
       "\n",
       "    .dataframe tbody tr th {\n",
       "        vertical-align: top;\n",
       "    }\n",
       "\n",
       "    .dataframe thead th {\n",
       "        text-align: right;\n",
       "    }\n",
       "</style>\n",
       "<table border=\"1\" class=\"dataframe\">\n",
       "  <thead>\n",
       "    <tr style=\"text-align: right;\">\n",
       "      <th></th>\n",
       "      <th>Name</th>\n",
       "      <th>Age</th>\n",
       "      <th>City</th>\n",
       "      <th>Salary</th>\n",
       "    </tr>\n",
       "  </thead>\n",
       "  <tbody>\n",
       "    <tr>\n",
       "      <th>0</th>\n",
       "      <td>Avnish</td>\n",
       "      <td>21</td>\n",
       "      <td>Kanpur</td>\n",
       "      <td>50000</td>\n",
       "    </tr>\n",
       "    <tr>\n",
       "      <th>1</th>\n",
       "      <td>Rohit</td>\n",
       "      <td>21</td>\n",
       "      <td>Ballia</td>\n",
       "      <td>60000</td>\n",
       "    </tr>\n",
       "    <tr>\n",
       "      <th>2</th>\n",
       "      <td>Ayush</td>\n",
       "      <td>20</td>\n",
       "      <td>Kanpur</td>\n",
       "      <td>700000</td>\n",
       "    </tr>\n",
       "  </tbody>\n",
       "</table>\n",
       "</div>"
      ],
      "text/plain": [
       "     Name  Age    City  Salary\n",
       "0  Avnish   21  Kanpur   50000\n",
       "1   Rohit   21  Ballia   60000\n",
       "2   Ayush   20  Kanpur  700000"
      ]
     },
     "execution_count": 19,
     "metadata": {},
     "output_type": "execute_result"
    }
   ],
   "source": [
    "## Add age to column\n",
    "\n",
    "df['Age']=df['Age']+1\n",
    "df"
   ]
  },
  {
   "cell_type": "code",
   "execution_count": 20,
   "id": "f849ebed",
   "metadata": {},
   "outputs": [
    {
     "data": {
      "text/html": [
       "<div>\n",
       "<style scoped>\n",
       "    .dataframe tbody tr th:only-of-type {\n",
       "        vertical-align: middle;\n",
       "    }\n",
       "\n",
       "    .dataframe tbody tr th {\n",
       "        vertical-align: top;\n",
       "    }\n",
       "\n",
       "    .dataframe thead th {\n",
       "        text-align: right;\n",
       "    }\n",
       "</style>\n",
       "<table border=\"1\" class=\"dataframe\">\n",
       "  <thead>\n",
       "    <tr style=\"text-align: right;\">\n",
       "      <th></th>\n",
       "      <th>Name</th>\n",
       "      <th>Age</th>\n",
       "      <th>City</th>\n",
       "      <th>Salary</th>\n",
       "    </tr>\n",
       "  </thead>\n",
       "  <tbody>\n",
       "    <tr>\n",
       "      <th>1</th>\n",
       "      <td>Rohit</td>\n",
       "      <td>21</td>\n",
       "      <td>Ballia</td>\n",
       "      <td>60000</td>\n",
       "    </tr>\n",
       "    <tr>\n",
       "      <th>2</th>\n",
       "      <td>Ayush</td>\n",
       "      <td>20</td>\n",
       "      <td>Kanpur</td>\n",
       "      <td>700000</td>\n",
       "    </tr>\n",
       "  </tbody>\n",
       "</table>\n",
       "</div>"
      ],
      "text/plain": [
       "    Name  Age    City  Salary\n",
       "1  Rohit   21  Ballia   60000\n",
       "2  Ayush   20  Kanpur  700000"
      ]
     },
     "execution_count": 20,
     "metadata": {},
     "output_type": "execute_result"
    }
   ],
   "source": [
    "df.drop(0) ## Not a parmament operation"
   ]
  },
  {
   "cell_type": "code",
   "execution_count": 21,
   "id": "280380cc",
   "metadata": {},
   "outputs": [
    {
     "data": {
      "text/html": [
       "<div>\n",
       "<style scoped>\n",
       "    .dataframe tbody tr th:only-of-type {\n",
       "        vertical-align: middle;\n",
       "    }\n",
       "\n",
       "    .dataframe tbody tr th {\n",
       "        vertical-align: top;\n",
       "    }\n",
       "\n",
       "    .dataframe thead th {\n",
       "        text-align: right;\n",
       "    }\n",
       "</style>\n",
       "<table border=\"1\" class=\"dataframe\">\n",
       "  <thead>\n",
       "    <tr style=\"text-align: right;\">\n",
       "      <th></th>\n",
       "      <th>Name</th>\n",
       "      <th>Age</th>\n",
       "      <th>City</th>\n",
       "      <th>Salary</th>\n",
       "    </tr>\n",
       "  </thead>\n",
       "  <tbody>\n",
       "    <tr>\n",
       "      <th>0</th>\n",
       "      <td>Avnish</td>\n",
       "      <td>21</td>\n",
       "      <td>Kanpur</td>\n",
       "      <td>50000</td>\n",
       "    </tr>\n",
       "    <tr>\n",
       "      <th>1</th>\n",
       "      <td>Rohit</td>\n",
       "      <td>21</td>\n",
       "      <td>Ballia</td>\n",
       "      <td>60000</td>\n",
       "    </tr>\n",
       "    <tr>\n",
       "      <th>2</th>\n",
       "      <td>Ayush</td>\n",
       "      <td>20</td>\n",
       "      <td>Kanpur</td>\n",
       "      <td>700000</td>\n",
       "    </tr>\n",
       "  </tbody>\n",
       "</table>\n",
       "</div>"
      ],
      "text/plain": [
       "     Name  Age    City  Salary\n",
       "0  Avnish   21  Kanpur   50000\n",
       "1   Rohit   21  Ballia   60000\n",
       "2   Ayush   20  Kanpur  700000"
      ]
     },
     "execution_count": 21,
     "metadata": {},
     "output_type": "execute_result"
    }
   ],
   "source": [
    "df"
   ]
  },
  {
   "cell_type": "code",
   "execution_count": 22,
   "id": "a5fa6ed6",
   "metadata": {},
   "outputs": [
    {
     "name": "stdout",
     "output_type": "stream",
     "text": [
      "Data types:\n",
      " Name      object\n",
      "Age        int64\n",
      "City      object\n",
      "Salary     int64\n",
      "dtype: object\n",
      "Statistical summary:\n",
      "              Age         Salary\n",
      "count   3.000000       3.000000\n",
      "mean   20.666667  270000.000000\n",
      "std     0.577350  372424.488991\n",
      "min    20.000000   50000.000000\n",
      "25%    20.500000   55000.000000\n",
      "50%    21.000000   60000.000000\n",
      "75%    21.000000  380000.000000\n",
      "max    21.000000  700000.000000\n"
     ]
    }
   ],
   "source": [
    "## Display the data types of each column\n",
    "print(\"Data types:\\n\",df.dtypes)\n",
    "\n",
    "## Describe the dataFrame\n",
    "print(\"Statistical summary:\\n\",df.describe())\n",
    "\n"
   ]
  },
  {
   "cell_type": "code",
   "execution_count": 23,
   "id": "5c271bb8",
   "metadata": {},
   "outputs": [
    {
     "data": {
      "text/html": [
       "<div>\n",
       "<style scoped>\n",
       "    .dataframe tbody tr th:only-of-type {\n",
       "        vertical-align: middle;\n",
       "    }\n",
       "\n",
       "    .dataframe tbody tr th {\n",
       "        vertical-align: top;\n",
       "    }\n",
       "\n",
       "    .dataframe thead th {\n",
       "        text-align: right;\n",
       "    }\n",
       "</style>\n",
       "<table border=\"1\" class=\"dataframe\">\n",
       "  <thead>\n",
       "    <tr style=\"text-align: right;\">\n",
       "      <th></th>\n",
       "      <th>Age</th>\n",
       "      <th>Salary</th>\n",
       "    </tr>\n",
       "  </thead>\n",
       "  <tbody>\n",
       "    <tr>\n",
       "      <th>count</th>\n",
       "      <td>3.000000</td>\n",
       "      <td>3.000000</td>\n",
       "    </tr>\n",
       "    <tr>\n",
       "      <th>mean</th>\n",
       "      <td>20.666667</td>\n",
       "      <td>270000.000000</td>\n",
       "    </tr>\n",
       "    <tr>\n",
       "      <th>std</th>\n",
       "      <td>0.577350</td>\n",
       "      <td>372424.488991</td>\n",
       "    </tr>\n",
       "    <tr>\n",
       "      <th>min</th>\n",
       "      <td>20.000000</td>\n",
       "      <td>50000.000000</td>\n",
       "    </tr>\n",
       "    <tr>\n",
       "      <th>25%</th>\n",
       "      <td>20.500000</td>\n",
       "      <td>55000.000000</td>\n",
       "    </tr>\n",
       "    <tr>\n",
       "      <th>50%</th>\n",
       "      <td>21.000000</td>\n",
       "      <td>60000.000000</td>\n",
       "    </tr>\n",
       "    <tr>\n",
       "      <th>75%</th>\n",
       "      <td>21.000000</td>\n",
       "      <td>380000.000000</td>\n",
       "    </tr>\n",
       "    <tr>\n",
       "      <th>max</th>\n",
       "      <td>21.000000</td>\n",
       "      <td>700000.000000</td>\n",
       "    </tr>\n",
       "  </tbody>\n",
       "</table>\n",
       "</div>"
      ],
      "text/plain": [
       "             Age         Salary\n",
       "count   3.000000       3.000000\n",
       "mean   20.666667  270000.000000\n",
       "std     0.577350  372424.488991\n",
       "min    20.000000   50000.000000\n",
       "25%    20.500000   55000.000000\n",
       "50%    21.000000   60000.000000\n",
       "75%    21.000000  380000.000000\n",
       "max    21.000000  700000.000000"
      ]
     },
     "execution_count": 23,
     "metadata": {},
     "output_type": "execute_result"
    }
   ],
   "source": [
    "df.describe()"
   ]
  },
  {
   "cell_type": "code",
   "execution_count": 24,
   "id": "486ebd5a",
   "metadata": {},
   "outputs": [
    {
     "data": {
      "text/plain": [
       "0     0.167604\n",
       "1     0.462076\n",
       "2     0.983289\n",
       "3     0.450153\n",
       "4     0.942609\n",
       "5     0.186726\n",
       "6     0.527495\n",
       "7     0.705488\n",
       "8     0.916995\n",
       "9     0.784338\n",
       "10    0.368833\n",
       "11    0.491720\n",
       "12    0.066854\n",
       "13    0.334781\n",
       "14    0.102525\n",
       "15    0.142156\n",
       "16    0.838264\n",
       "17    0.909685\n",
       "18    0.482294\n",
       "19    0.316565\n",
       "20    0.342795\n",
       "21    0.005839\n",
       "22    0.331163\n",
       "23    0.768676\n",
       "24    0.057625\n",
       "25    0.008593\n",
       "26    0.783897\n",
       "27    0.840557\n",
       "28    0.815603\n",
       "29    0.161231\n",
       "30    0.179194\n",
       "31    0.458447\n",
       "32    0.845926\n",
       "33    0.281261\n",
       "dtype: float64"
      ]
     },
     "execution_count": 24,
     "metadata": {},
     "output_type": "execute_result"
    }
   ],
   "source": [
    "import numpy as np \n",
    "ser=pd.Series(np.random.rand(34))\n",
    "ser"
   ]
  },
  {
   "cell_type": "code",
   "execution_count": 25,
   "id": "9456288f",
   "metadata": {},
   "outputs": [
    {
     "data": {
      "text/plain": [
       "pandas.core.series.Series"
      ]
     },
     "execution_count": 25,
     "metadata": {},
     "output_type": "execute_result"
    }
   ],
   "source": [
    "type(ser)"
   ]
  },
  {
   "cell_type": "code",
   "execution_count": 26,
   "id": "88a8013a",
   "metadata": {},
   "outputs": [],
   "source": [
    "newdf=pd.DataFrame(np.random.rand(334,5), index=np.arange(334))"
   ]
  },
  {
   "cell_type": "code",
   "execution_count": 27,
   "id": "2f91b58a",
   "metadata": {},
   "outputs": [
    {
     "data": {
      "text/html": [
       "<div>\n",
       "<style scoped>\n",
       "    .dataframe tbody tr th:only-of-type {\n",
       "        vertical-align: middle;\n",
       "    }\n",
       "\n",
       "    .dataframe tbody tr th {\n",
       "        vertical-align: top;\n",
       "    }\n",
       "\n",
       "    .dataframe thead th {\n",
       "        text-align: right;\n",
       "    }\n",
       "</style>\n",
       "<table border=\"1\" class=\"dataframe\">\n",
       "  <thead>\n",
       "    <tr style=\"text-align: right;\">\n",
       "      <th></th>\n",
       "      <th>0</th>\n",
       "      <th>1</th>\n",
       "      <th>2</th>\n",
       "      <th>3</th>\n",
       "      <th>4</th>\n",
       "    </tr>\n",
       "  </thead>\n",
       "  <tbody>\n",
       "    <tr>\n",
       "      <th>0</th>\n",
       "      <td>0.315054</td>\n",
       "      <td>0.650451</td>\n",
       "      <td>0.420609</td>\n",
       "      <td>0.248831</td>\n",
       "      <td>0.723278</td>\n",
       "    </tr>\n",
       "    <tr>\n",
       "      <th>1</th>\n",
       "      <td>0.670509</td>\n",
       "      <td>0.237673</td>\n",
       "      <td>0.138006</td>\n",
       "      <td>0.771767</td>\n",
       "      <td>0.730309</td>\n",
       "    </tr>\n",
       "    <tr>\n",
       "      <th>2</th>\n",
       "      <td>0.210786</td>\n",
       "      <td>0.739754</td>\n",
       "      <td>0.816646</td>\n",
       "      <td>0.376033</td>\n",
       "      <td>0.585637</td>\n",
       "    </tr>\n",
       "    <tr>\n",
       "      <th>3</th>\n",
       "      <td>0.904196</td>\n",
       "      <td>0.295909</td>\n",
       "      <td>0.144130</td>\n",
       "      <td>0.584060</td>\n",
       "      <td>0.377542</td>\n",
       "    </tr>\n",
       "    <tr>\n",
       "      <th>4</th>\n",
       "      <td>0.699836</td>\n",
       "      <td>0.186090</td>\n",
       "      <td>0.318860</td>\n",
       "      <td>0.328600</td>\n",
       "      <td>0.692568</td>\n",
       "    </tr>\n",
       "    <tr>\n",
       "      <th>...</th>\n",
       "      <td>...</td>\n",
       "      <td>...</td>\n",
       "      <td>...</td>\n",
       "      <td>...</td>\n",
       "      <td>...</td>\n",
       "    </tr>\n",
       "    <tr>\n",
       "      <th>329</th>\n",
       "      <td>0.041918</td>\n",
       "      <td>0.948901</td>\n",
       "      <td>0.568556</td>\n",
       "      <td>0.473517</td>\n",
       "      <td>0.142385</td>\n",
       "    </tr>\n",
       "    <tr>\n",
       "      <th>330</th>\n",
       "      <td>0.938895</td>\n",
       "      <td>0.798438</td>\n",
       "      <td>0.245090</td>\n",
       "      <td>0.145636</td>\n",
       "      <td>0.964840</td>\n",
       "    </tr>\n",
       "    <tr>\n",
       "      <th>331</th>\n",
       "      <td>0.300387</td>\n",
       "      <td>0.987937</td>\n",
       "      <td>0.194720</td>\n",
       "      <td>0.754931</td>\n",
       "      <td>0.027644</td>\n",
       "    </tr>\n",
       "    <tr>\n",
       "      <th>332</th>\n",
       "      <td>0.118361</td>\n",
       "      <td>0.862492</td>\n",
       "      <td>0.462063</td>\n",
       "      <td>0.266008</td>\n",
       "      <td>0.146860</td>\n",
       "    </tr>\n",
       "    <tr>\n",
       "      <th>333</th>\n",
       "      <td>0.848951</td>\n",
       "      <td>0.185308</td>\n",
       "      <td>0.069455</td>\n",
       "      <td>0.409699</td>\n",
       "      <td>0.100131</td>\n",
       "    </tr>\n",
       "  </tbody>\n",
       "</table>\n",
       "<p>334 rows × 5 columns</p>\n",
       "</div>"
      ],
      "text/plain": [
       "            0         1         2         3         4\n",
       "0    0.315054  0.650451  0.420609  0.248831  0.723278\n",
       "1    0.670509  0.237673  0.138006  0.771767  0.730309\n",
       "2    0.210786  0.739754  0.816646  0.376033  0.585637\n",
       "3    0.904196  0.295909  0.144130  0.584060  0.377542\n",
       "4    0.699836  0.186090  0.318860  0.328600  0.692568\n",
       "..        ...       ...       ...       ...       ...\n",
       "329  0.041918  0.948901  0.568556  0.473517  0.142385\n",
       "330  0.938895  0.798438  0.245090  0.145636  0.964840\n",
       "331  0.300387  0.987937  0.194720  0.754931  0.027644\n",
       "332  0.118361  0.862492  0.462063  0.266008  0.146860\n",
       "333  0.848951  0.185308  0.069455  0.409699  0.100131\n",
       "\n",
       "[334 rows x 5 columns]"
      ]
     },
     "execution_count": 27,
     "metadata": {},
     "output_type": "execute_result"
    }
   ],
   "source": [
    "newdf"
   ]
  },
  {
   "cell_type": "code",
   "execution_count": 28,
   "id": "d677d837",
   "metadata": {},
   "outputs": [
    {
     "data": {
      "text/html": [
       "<div>\n",
       "<style scoped>\n",
       "    .dataframe tbody tr th:only-of-type {\n",
       "        vertical-align: middle;\n",
       "    }\n",
       "\n",
       "    .dataframe tbody tr th {\n",
       "        vertical-align: top;\n",
       "    }\n",
       "\n",
       "    .dataframe thead th {\n",
       "        text-align: right;\n",
       "    }\n",
       "</style>\n",
       "<table border=\"1\" class=\"dataframe\">\n",
       "  <thead>\n",
       "    <tr style=\"text-align: right;\">\n",
       "      <th></th>\n",
       "      <th>0</th>\n",
       "      <th>1</th>\n",
       "      <th>2</th>\n",
       "      <th>3</th>\n",
       "      <th>4</th>\n",
       "    </tr>\n",
       "  </thead>\n",
       "  <tbody>\n",
       "    <tr>\n",
       "      <th>count</th>\n",
       "      <td>334.000000</td>\n",
       "      <td>334.000000</td>\n",
       "      <td>334.000000</td>\n",
       "      <td>334.000000</td>\n",
       "      <td>334.000000</td>\n",
       "    </tr>\n",
       "    <tr>\n",
       "      <th>mean</th>\n",
       "      <td>0.531182</td>\n",
       "      <td>0.517322</td>\n",
       "      <td>0.497297</td>\n",
       "      <td>0.505728</td>\n",
       "      <td>0.504357</td>\n",
       "    </tr>\n",
       "    <tr>\n",
       "      <th>std</th>\n",
       "      <td>0.295281</td>\n",
       "      <td>0.293325</td>\n",
       "      <td>0.293180</td>\n",
       "      <td>0.291224</td>\n",
       "      <td>0.299097</td>\n",
       "    </tr>\n",
       "    <tr>\n",
       "      <th>min</th>\n",
       "      <td>0.001041</td>\n",
       "      <td>0.002929</td>\n",
       "      <td>0.000003</td>\n",
       "      <td>0.000395</td>\n",
       "      <td>0.010037</td>\n",
       "    </tr>\n",
       "    <tr>\n",
       "      <th>25%</th>\n",
       "      <td>0.294712</td>\n",
       "      <td>0.268286</td>\n",
       "      <td>0.235485</td>\n",
       "      <td>0.245214</td>\n",
       "      <td>0.234754</td>\n",
       "    </tr>\n",
       "    <tr>\n",
       "      <th>50%</th>\n",
       "      <td>0.562383</td>\n",
       "      <td>0.510473</td>\n",
       "      <td>0.497239</td>\n",
       "      <td>0.512552</td>\n",
       "      <td>0.510500</td>\n",
       "    </tr>\n",
       "    <tr>\n",
       "      <th>75%</th>\n",
       "      <td>0.781607</td>\n",
       "      <td>0.797811</td>\n",
       "      <td>0.732837</td>\n",
       "      <td>0.753709</td>\n",
       "      <td>0.763778</td>\n",
       "    </tr>\n",
       "    <tr>\n",
       "      <th>max</th>\n",
       "      <td>0.998447</td>\n",
       "      <td>0.997847</td>\n",
       "      <td>0.999016</td>\n",
       "      <td>0.999763</td>\n",
       "      <td>0.996007</td>\n",
       "    </tr>\n",
       "  </tbody>\n",
       "</table>\n",
       "</div>"
      ],
      "text/plain": [
       "                0           1           2           3           4\n",
       "count  334.000000  334.000000  334.000000  334.000000  334.000000\n",
       "mean     0.531182    0.517322    0.497297    0.505728    0.504357\n",
       "std      0.295281    0.293325    0.293180    0.291224    0.299097\n",
       "min      0.001041    0.002929    0.000003    0.000395    0.010037\n",
       "25%      0.294712    0.268286    0.235485    0.245214    0.234754\n",
       "50%      0.562383    0.510473    0.497239    0.512552    0.510500\n",
       "75%      0.781607    0.797811    0.732837    0.753709    0.763778\n",
       "max      0.998447    0.997847    0.999016    0.999763    0.996007"
      ]
     },
     "execution_count": 28,
     "metadata": {},
     "output_type": "execute_result"
    }
   ],
   "source": [
    "newdf.describe()"
   ]
  },
  {
   "cell_type": "code",
   "execution_count": 29,
   "id": "39a21640",
   "metadata": {},
   "outputs": [
    {
     "name": "stderr",
     "output_type": "stream",
     "text": [
      "C:\\Users\\verma\\AppData\\Local\\Temp\\ipykernel_9604\\1038126950.py:1: FutureWarning: ChainedAssignmentError: behaviour will change in pandas 3.0!\n",
      "You are setting values through chained assignment. Currently this works in certain cases, but when using Copy-on-Write (which will become the default behaviour in pandas 3.0) this will never work to update the original DataFrame or Series, because the intermediate object on which we are setting values will behave as a copy.\n",
      "A typical example is when you are setting values in a column of a DataFrame, like:\n",
      "\n",
      "df[\"col\"][row_indexer] = value\n",
      "\n",
      "Use `df.loc[row_indexer, \"col\"] = values` instead, to perform the assignment in a single step and ensure this keeps updating the original `df`.\n",
      "\n",
      "See the caveats in the documentation: https://pandas.pydata.org/pandas-docs/stable/user_guide/indexing.html#returning-a-view-versus-a-copy\n",
      "\n",
      "  newdf[0][0]='Avnish'\n",
      "C:\\Users\\verma\\AppData\\Local\\Temp\\ipykernel_9604\\1038126950.py:1: FutureWarning: Setting an item of incompatible dtype is deprecated and will raise an error in a future version of pandas. Value 'Avnish' has dtype incompatible with float64, please explicitly cast to a compatible dtype first.\n",
      "  newdf[0][0]='Avnish'\n"
     ]
    },
    {
     "data": {
      "text/html": [
       "<div>\n",
       "<style scoped>\n",
       "    .dataframe tbody tr th:only-of-type {\n",
       "        vertical-align: middle;\n",
       "    }\n",
       "\n",
       "    .dataframe tbody tr th {\n",
       "        vertical-align: top;\n",
       "    }\n",
       "\n",
       "    .dataframe thead th {\n",
       "        text-align: right;\n",
       "    }\n",
       "</style>\n",
       "<table border=\"1\" class=\"dataframe\">\n",
       "  <thead>\n",
       "    <tr style=\"text-align: right;\">\n",
       "      <th></th>\n",
       "      <th>0</th>\n",
       "      <th>1</th>\n",
       "      <th>2</th>\n",
       "      <th>3</th>\n",
       "      <th>4</th>\n",
       "    </tr>\n",
       "  </thead>\n",
       "  <tbody>\n",
       "    <tr>\n",
       "      <th>0</th>\n",
       "      <td>Avnish</td>\n",
       "      <td>0.650451</td>\n",
       "      <td>0.420609</td>\n",
       "      <td>0.248831</td>\n",
       "      <td>0.723278</td>\n",
       "    </tr>\n",
       "    <tr>\n",
       "      <th>1</th>\n",
       "      <td>0.670509</td>\n",
       "      <td>0.237673</td>\n",
       "      <td>0.138006</td>\n",
       "      <td>0.771767</td>\n",
       "      <td>0.730309</td>\n",
       "    </tr>\n",
       "    <tr>\n",
       "      <th>2</th>\n",
       "      <td>0.210786</td>\n",
       "      <td>0.739754</td>\n",
       "      <td>0.816646</td>\n",
       "      <td>0.376033</td>\n",
       "      <td>0.585637</td>\n",
       "    </tr>\n",
       "    <tr>\n",
       "      <th>3</th>\n",
       "      <td>0.904196</td>\n",
       "      <td>0.295909</td>\n",
       "      <td>0.144130</td>\n",
       "      <td>0.584060</td>\n",
       "      <td>0.377542</td>\n",
       "    </tr>\n",
       "    <tr>\n",
       "      <th>4</th>\n",
       "      <td>0.699836</td>\n",
       "      <td>0.186090</td>\n",
       "      <td>0.318860</td>\n",
       "      <td>0.328600</td>\n",
       "      <td>0.692568</td>\n",
       "    </tr>\n",
       "    <tr>\n",
       "      <th>...</th>\n",
       "      <td>...</td>\n",
       "      <td>...</td>\n",
       "      <td>...</td>\n",
       "      <td>...</td>\n",
       "      <td>...</td>\n",
       "    </tr>\n",
       "    <tr>\n",
       "      <th>329</th>\n",
       "      <td>0.041918</td>\n",
       "      <td>0.948901</td>\n",
       "      <td>0.568556</td>\n",
       "      <td>0.473517</td>\n",
       "      <td>0.142385</td>\n",
       "    </tr>\n",
       "    <tr>\n",
       "      <th>330</th>\n",
       "      <td>0.938895</td>\n",
       "      <td>0.798438</td>\n",
       "      <td>0.245090</td>\n",
       "      <td>0.145636</td>\n",
       "      <td>0.964840</td>\n",
       "    </tr>\n",
       "    <tr>\n",
       "      <th>331</th>\n",
       "      <td>0.300387</td>\n",
       "      <td>0.987937</td>\n",
       "      <td>0.194720</td>\n",
       "      <td>0.754931</td>\n",
       "      <td>0.027644</td>\n",
       "    </tr>\n",
       "    <tr>\n",
       "      <th>332</th>\n",
       "      <td>0.118361</td>\n",
       "      <td>0.862492</td>\n",
       "      <td>0.462063</td>\n",
       "      <td>0.266008</td>\n",
       "      <td>0.146860</td>\n",
       "    </tr>\n",
       "    <tr>\n",
       "      <th>333</th>\n",
       "      <td>0.848951</td>\n",
       "      <td>0.185308</td>\n",
       "      <td>0.069455</td>\n",
       "      <td>0.409699</td>\n",
       "      <td>0.100131</td>\n",
       "    </tr>\n",
       "  </tbody>\n",
       "</table>\n",
       "<p>334 rows × 5 columns</p>\n",
       "</div>"
      ],
      "text/plain": [
       "            0         1         2         3         4\n",
       "0      Avnish  0.650451  0.420609  0.248831  0.723278\n",
       "1    0.670509  0.237673  0.138006  0.771767  0.730309\n",
       "2    0.210786  0.739754  0.816646  0.376033  0.585637\n",
       "3    0.904196  0.295909  0.144130  0.584060  0.377542\n",
       "4    0.699836  0.186090  0.318860  0.328600  0.692568\n",
       "..        ...       ...       ...       ...       ...\n",
       "329  0.041918  0.948901  0.568556  0.473517  0.142385\n",
       "330  0.938895  0.798438  0.245090  0.145636  0.964840\n",
       "331  0.300387  0.987937  0.194720  0.754931  0.027644\n",
       "332  0.118361  0.862492  0.462063  0.266008  0.146860\n",
       "333  0.848951  0.185308  0.069455  0.409699  0.100131\n",
       "\n",
       "[334 rows x 5 columns]"
      ]
     },
     "execution_count": 29,
     "metadata": {},
     "output_type": "execute_result"
    }
   ],
   "source": [
    "newdf[0][0]='Avnish'\n",
    "newdf"
   ]
  },
  {
   "cell_type": "code",
   "execution_count": 30,
   "id": "c7bf7470",
   "metadata": {},
   "outputs": [
    {
     "data": {
      "text/plain": [
       "Index([  0,   1,   2,   3,   4,   5,   6,   7,   8,   9,\n",
       "       ...\n",
       "       324, 325, 326, 327, 328, 329, 330, 331, 332, 333],\n",
       "      dtype='int64', length=334)"
      ]
     },
     "execution_count": 30,
     "metadata": {},
     "output_type": "execute_result"
    }
   ],
   "source": [
    "newdf.index"
   ]
  },
  {
   "cell_type": "code",
   "execution_count": 31,
   "id": "f0064691",
   "metadata": {},
   "outputs": [
    {
     "data": {
      "text/plain": [
       "RangeIndex(start=0, stop=5, step=1)"
      ]
     },
     "execution_count": 31,
     "metadata": {},
     "output_type": "execute_result"
    }
   ],
   "source": [
    "newdf.columns"
   ]
  },
  {
   "cell_type": "code",
   "execution_count": 32,
   "id": "37426b6e",
   "metadata": {},
   "outputs": [
    {
     "data": {
      "text/plain": [
       "array([['Avnish', 0.6504507145330642, 0.4206089464444841,\n",
       "        0.24883050408334673, 0.7232781254679937],\n",
       "       [0.6705094594989045, 0.23767335783367172, 0.13800621456353657,\n",
       "        0.7717672635439672, 0.7303090931897286],\n",
       "       [0.21078630771445994, 0.7397544122890284, 0.816646148605092,\n",
       "        0.3760334951855072, 0.5856374175370485],\n",
       "       ...,\n",
       "       [0.30038657211045205, 0.9879374248472056, 0.19472006829380029,\n",
       "        0.7549313927330371, 0.027644087650333438],\n",
       "       [0.11836114257462538, 0.8624922068844024, 0.4620628356449682,\n",
       "        0.26600833565418935, 0.14686041490400625],\n",
       "       [0.8489513948304557, 0.18530834196944634, 0.0694553797876305,\n",
       "        0.4096991830389677, 0.10013089552966459]],\n",
       "      shape=(334, 5), dtype=object)"
      ]
     },
     "execution_count": 32,
     "metadata": {},
     "output_type": "execute_result"
    }
   ],
   "source": [
    "newdf.to_numpy() ## newdf is convert into numpy\n",
    "## create a numpy array"
   ]
  },
  {
   "cell_type": "code",
   "execution_count": 33,
   "id": "267d4912",
   "metadata": {},
   "outputs": [
    {
     "data": {
      "text/html": [
       "<div>\n",
       "<style scoped>\n",
       "    .dataframe tbody tr th:only-of-type {\n",
       "        vertical-align: middle;\n",
       "    }\n",
       "\n",
       "    .dataframe tbody tr th {\n",
       "        vertical-align: top;\n",
       "    }\n",
       "\n",
       "    .dataframe thead th {\n",
       "        text-align: right;\n",
       "    }\n",
       "</style>\n",
       "<table border=\"1\" class=\"dataframe\">\n",
       "  <thead>\n",
       "    <tr style=\"text-align: right;\">\n",
       "      <th></th>\n",
       "      <th>0</th>\n",
       "      <th>1</th>\n",
       "      <th>2</th>\n",
       "      <th>3</th>\n",
       "      <th>4</th>\n",
       "    </tr>\n",
       "  </thead>\n",
       "  <tbody>\n",
       "    <tr>\n",
       "      <th>0</th>\n",
       "      <td>0.3</td>\n",
       "      <td>0.650451</td>\n",
       "      <td>0.420609</td>\n",
       "      <td>0.248831</td>\n",
       "      <td>0.723278</td>\n",
       "    </tr>\n",
       "    <tr>\n",
       "      <th>1</th>\n",
       "      <td>0.670509</td>\n",
       "      <td>0.237673</td>\n",
       "      <td>0.138006</td>\n",
       "      <td>0.771767</td>\n",
       "      <td>0.730309</td>\n",
       "    </tr>\n",
       "    <tr>\n",
       "      <th>2</th>\n",
       "      <td>0.210786</td>\n",
       "      <td>0.739754</td>\n",
       "      <td>0.816646</td>\n",
       "      <td>0.376033</td>\n",
       "      <td>0.585637</td>\n",
       "    </tr>\n",
       "    <tr>\n",
       "      <th>3</th>\n",
       "      <td>0.904196</td>\n",
       "      <td>0.295909</td>\n",
       "      <td>0.144130</td>\n",
       "      <td>0.584060</td>\n",
       "      <td>0.377542</td>\n",
       "    </tr>\n",
       "    <tr>\n",
       "      <th>4</th>\n",
       "      <td>0.699836</td>\n",
       "      <td>0.186090</td>\n",
       "      <td>0.318860</td>\n",
       "      <td>0.328600</td>\n",
       "      <td>0.692568</td>\n",
       "    </tr>\n",
       "  </tbody>\n",
       "</table>\n",
       "</div>"
      ],
      "text/plain": [
       "          0         1         2         3         4\n",
       "0       0.3  0.650451  0.420609  0.248831  0.723278\n",
       "1  0.670509  0.237673  0.138006  0.771767  0.730309\n",
       "2  0.210786  0.739754  0.816646  0.376033  0.585637\n",
       "3  0.904196  0.295909  0.144130  0.584060  0.377542\n",
       "4  0.699836  0.186090  0.318860  0.328600  0.692568"
      ]
     },
     "execution_count": 33,
     "metadata": {},
     "output_type": "execute_result"
    }
   ],
   "source": [
    "newdf[0][0]=0.3\n",
    "newdf.head(5)"
   ]
  },
  {
   "cell_type": "code",
   "execution_count": 34,
   "id": "94fd6bb6",
   "metadata": {},
   "outputs": [
    {
     "data": {
      "text/html": [
       "<div>\n",
       "<style scoped>\n",
       "    .dataframe tbody tr th:only-of-type {\n",
       "        vertical-align: middle;\n",
       "    }\n",
       "\n",
       "    .dataframe tbody tr th {\n",
       "        vertical-align: top;\n",
       "    }\n",
       "\n",
       "    .dataframe thead th {\n",
       "        text-align: right;\n",
       "    }\n",
       "</style>\n",
       "<table border=\"1\" class=\"dataframe\">\n",
       "  <thead>\n",
       "    <tr style=\"text-align: right;\">\n",
       "      <th></th>\n",
       "      <th>0</th>\n",
       "      <th>1</th>\n",
       "      <th>2</th>\n",
       "      <th>3</th>\n",
       "      <th>4</th>\n",
       "      <th>5</th>\n",
       "      <th>6</th>\n",
       "      <th>7</th>\n",
       "      <th>8</th>\n",
       "      <th>9</th>\n",
       "      <th>...</th>\n",
       "      <th>324</th>\n",
       "      <th>325</th>\n",
       "      <th>326</th>\n",
       "      <th>327</th>\n",
       "      <th>328</th>\n",
       "      <th>329</th>\n",
       "      <th>330</th>\n",
       "      <th>331</th>\n",
       "      <th>332</th>\n",
       "      <th>333</th>\n",
       "    </tr>\n",
       "  </thead>\n",
       "  <tbody>\n",
       "    <tr>\n",
       "      <th>0</th>\n",
       "      <td>0.3</td>\n",
       "      <td>0.670509</td>\n",
       "      <td>0.210786</td>\n",
       "      <td>0.904196</td>\n",
       "      <td>0.699836</td>\n",
       "      <td>0.737012</td>\n",
       "      <td>0.275176</td>\n",
       "      <td>0.140908</td>\n",
       "      <td>0.539494</td>\n",
       "      <td>0.634154</td>\n",
       "      <td>...</td>\n",
       "      <td>0.823376</td>\n",
       "      <td>0.154022</td>\n",
       "      <td>0.78261</td>\n",
       "      <td>0.697284</td>\n",
       "      <td>0.537494</td>\n",
       "      <td>0.041918</td>\n",
       "      <td>0.938895</td>\n",
       "      <td>0.300387</td>\n",
       "      <td>0.118361</td>\n",
       "      <td>0.848951</td>\n",
       "    </tr>\n",
       "    <tr>\n",
       "      <th>1</th>\n",
       "      <td>0.650451</td>\n",
       "      <td>0.237673</td>\n",
       "      <td>0.739754</td>\n",
       "      <td>0.295909</td>\n",
       "      <td>0.18609</td>\n",
       "      <td>0.4183</td>\n",
       "      <td>0.497768</td>\n",
       "      <td>0.093167</td>\n",
       "      <td>0.154695</td>\n",
       "      <td>0.316523</td>\n",
       "      <td>...</td>\n",
       "      <td>0.595965</td>\n",
       "      <td>0.817805</td>\n",
       "      <td>0.284484</td>\n",
       "      <td>0.456886</td>\n",
       "      <td>0.279911</td>\n",
       "      <td>0.948901</td>\n",
       "      <td>0.798438</td>\n",
       "      <td>0.987937</td>\n",
       "      <td>0.862492</td>\n",
       "      <td>0.185308</td>\n",
       "    </tr>\n",
       "    <tr>\n",
       "      <th>2</th>\n",
       "      <td>0.420609</td>\n",
       "      <td>0.138006</td>\n",
       "      <td>0.816646</td>\n",
       "      <td>0.14413</td>\n",
       "      <td>0.31886</td>\n",
       "      <td>0.836077</td>\n",
       "      <td>0.320693</td>\n",
       "      <td>0.075751</td>\n",
       "      <td>0.775713</td>\n",
       "      <td>0.489829</td>\n",
       "      <td>...</td>\n",
       "      <td>0.246287</td>\n",
       "      <td>0.627851</td>\n",
       "      <td>0.22974</td>\n",
       "      <td>0.437847</td>\n",
       "      <td>0.955386</td>\n",
       "      <td>0.568556</td>\n",
       "      <td>0.24509</td>\n",
       "      <td>0.19472</td>\n",
       "      <td>0.462063</td>\n",
       "      <td>0.069455</td>\n",
       "    </tr>\n",
       "    <tr>\n",
       "      <th>3</th>\n",
       "      <td>0.248831</td>\n",
       "      <td>0.771767</td>\n",
       "      <td>0.376033</td>\n",
       "      <td>0.58406</td>\n",
       "      <td>0.3286</td>\n",
       "      <td>0.16067</td>\n",
       "      <td>0.772618</td>\n",
       "      <td>0.865453</td>\n",
       "      <td>0.198513</td>\n",
       "      <td>0.584752</td>\n",
       "      <td>...</td>\n",
       "      <td>0.110038</td>\n",
       "      <td>0.454395</td>\n",
       "      <td>0.322113</td>\n",
       "      <td>0.676163</td>\n",
       "      <td>0.673866</td>\n",
       "      <td>0.473517</td>\n",
       "      <td>0.145636</td>\n",
       "      <td>0.754931</td>\n",
       "      <td>0.266008</td>\n",
       "      <td>0.409699</td>\n",
       "    </tr>\n",
       "    <tr>\n",
       "      <th>4</th>\n",
       "      <td>0.723278</td>\n",
       "      <td>0.730309</td>\n",
       "      <td>0.585637</td>\n",
       "      <td>0.377542</td>\n",
       "      <td>0.692568</td>\n",
       "      <td>0.036059</td>\n",
       "      <td>0.875311</td>\n",
       "      <td>0.762489</td>\n",
       "      <td>0.902561</td>\n",
       "      <td>0.233297</td>\n",
       "      <td>...</td>\n",
       "      <td>0.254741</td>\n",
       "      <td>0.363089</td>\n",
       "      <td>0.820814</td>\n",
       "      <td>0.135434</td>\n",
       "      <td>0.890172</td>\n",
       "      <td>0.142385</td>\n",
       "      <td>0.96484</td>\n",
       "      <td>0.027644</td>\n",
       "      <td>0.14686</td>\n",
       "      <td>0.100131</td>\n",
       "    </tr>\n",
       "  </tbody>\n",
       "</table>\n",
       "<p>5 rows × 334 columns</p>\n",
       "</div>"
      ],
      "text/plain": [
       "        0         1         2         3         4         5         6    \\\n",
       "0       0.3  0.670509  0.210786  0.904196  0.699836  0.737012  0.275176   \n",
       "1  0.650451  0.237673  0.739754  0.295909   0.18609    0.4183  0.497768   \n",
       "2  0.420609  0.138006  0.816646   0.14413   0.31886  0.836077  0.320693   \n",
       "3  0.248831  0.771767  0.376033   0.58406    0.3286   0.16067  0.772618   \n",
       "4  0.723278  0.730309  0.585637  0.377542  0.692568  0.036059  0.875311   \n",
       "\n",
       "        7         8         9    ...       324       325       326       327  \\\n",
       "0  0.140908  0.539494  0.634154  ...  0.823376  0.154022   0.78261  0.697284   \n",
       "1  0.093167  0.154695  0.316523  ...  0.595965  0.817805  0.284484  0.456886   \n",
       "2  0.075751  0.775713  0.489829  ...  0.246287  0.627851   0.22974  0.437847   \n",
       "3  0.865453  0.198513  0.584752  ...  0.110038  0.454395  0.322113  0.676163   \n",
       "4  0.762489  0.902561  0.233297  ...  0.254741  0.363089  0.820814  0.135434   \n",
       "\n",
       "        328       329       330       331       332       333  \n",
       "0  0.537494  0.041918  0.938895  0.300387  0.118361  0.848951  \n",
       "1  0.279911  0.948901  0.798438  0.987937  0.862492  0.185308  \n",
       "2  0.955386  0.568556   0.24509   0.19472  0.462063  0.069455  \n",
       "3  0.673866  0.473517  0.145636  0.754931  0.266008  0.409699  \n",
       "4  0.890172  0.142385   0.96484  0.027644   0.14686  0.100131  \n",
       "\n",
       "[5 rows x 334 columns]"
      ]
     },
     "execution_count": 34,
     "metadata": {},
     "output_type": "execute_result"
    }
   ],
   "source": [
    "newdf.T  ## Swap the row and columns"
   ]
  },
  {
   "cell_type": "code",
   "execution_count": 35,
   "id": "10248a30",
   "metadata": {},
   "outputs": [
    {
     "data": {
      "text/html": [
       "<div>\n",
       "<style scoped>\n",
       "    .dataframe tbody tr th:only-of-type {\n",
       "        vertical-align: middle;\n",
       "    }\n",
       "\n",
       "    .dataframe tbody tr th {\n",
       "        vertical-align: top;\n",
       "    }\n",
       "\n",
       "    .dataframe thead th {\n",
       "        text-align: right;\n",
       "    }\n",
       "</style>\n",
       "<table border=\"1\" class=\"dataframe\">\n",
       "  <thead>\n",
       "    <tr style=\"text-align: right;\">\n",
       "      <th></th>\n",
       "      <th>0</th>\n",
       "      <th>1</th>\n",
       "      <th>2</th>\n",
       "      <th>3</th>\n",
       "      <th>4</th>\n",
       "    </tr>\n",
       "  </thead>\n",
       "  <tbody>\n",
       "    <tr>\n",
       "      <th>0</th>\n",
       "      <td>0.3</td>\n",
       "      <td>0.650451</td>\n",
       "      <td>0.420609</td>\n",
       "      <td>0.248831</td>\n",
       "      <td>0.723278</td>\n",
       "    </tr>\n",
       "    <tr>\n",
       "      <th>1</th>\n",
       "      <td>0.670509</td>\n",
       "      <td>0.237673</td>\n",
       "      <td>0.138006</td>\n",
       "      <td>0.771767</td>\n",
       "      <td>0.730309</td>\n",
       "    </tr>\n",
       "    <tr>\n",
       "      <th>2</th>\n",
       "      <td>0.210786</td>\n",
       "      <td>0.739754</td>\n",
       "      <td>0.816646</td>\n",
       "      <td>0.376033</td>\n",
       "      <td>0.585637</td>\n",
       "    </tr>\n",
       "    <tr>\n",
       "      <th>3</th>\n",
       "      <td>0.904196</td>\n",
       "      <td>0.295909</td>\n",
       "      <td>0.144130</td>\n",
       "      <td>0.584060</td>\n",
       "      <td>0.377542</td>\n",
       "    </tr>\n",
       "    <tr>\n",
       "      <th>4</th>\n",
       "      <td>0.699836</td>\n",
       "      <td>0.186090</td>\n",
       "      <td>0.318860</td>\n",
       "      <td>0.328600</td>\n",
       "      <td>0.692568</td>\n",
       "    </tr>\n",
       "  </tbody>\n",
       "</table>\n",
       "</div>"
      ],
      "text/plain": [
       "          0         1         2         3         4\n",
       "0       0.3  0.650451  0.420609  0.248831  0.723278\n",
       "1  0.670509  0.237673  0.138006  0.771767  0.730309\n",
       "2  0.210786  0.739754  0.816646  0.376033  0.585637\n",
       "3  0.904196  0.295909  0.144130  0.584060  0.377542\n",
       "4  0.699836  0.186090  0.318860  0.328600  0.692568"
      ]
     },
     "execution_count": 35,
     "metadata": {},
     "output_type": "execute_result"
    }
   ],
   "source": [
    "newdf.head()"
   ]
  },
  {
   "cell_type": "code",
   "execution_count": null,
   "id": "44c2108a",
   "metadata": {},
   "outputs": [],
   "source": []
  },
  {
   "cell_type": "code",
   "execution_count": null,
   "id": "05aa47bf",
   "metadata": {},
   "outputs": [],
   "source": []
  }
 ],
 "metadata": {
  "kernelspec": {
   "display_name": "Python 3",
   "language": "python",
   "name": "python3"
  },
  "language_info": {
   "codemirror_mode": {
    "name": "ipython",
    "version": 3
   },
   "file_extension": ".py",
   "mimetype": "text/x-python",
   "name": "python",
   "nbconvert_exporter": "python",
   "pygments_lexer": "ipython3",
   "version": "3.10.18"
  }
 },
 "nbformat": 4,
 "nbformat_minor": 5
}
