{
 "cells": [
  {
   "cell_type": "markdown",
   "id": "d8b252b9",
   "metadata": {},
   "source": [
    "### Introduction to Streamlit"
   ]
  },
  {
   "cell_type": "markdown",
   "id": "be22ddd8",
   "metadata": {},
   "source": [
    "Streamlit is an open-source app framework for Machine Learning and Data Science prijects.It allows you to create beautiful web application for your machine learning and data science projects with simple python script\n"
   ]
  },
  {
   "cell_type": "code",
   "execution_count": null,
   "id": "0764980a",
   "metadata": {
    "vscode": {
     "languageId": "plaintext"
    }
   },
   "outputs": [],
   "source": []
  },
  {
   "cell_type": "code",
   "execution_count": null,
   "id": "7ab725ec",
   "metadata": {
    "vscode": {
     "languageId": "plaintext"
    }
   },
   "outputs": [],
   "source": []
  },
  {
   "cell_type": "code",
   "execution_count": null,
   "id": "75016145",
   "metadata": {
    "vscode": {
     "languageId": "plaintext"
    }
   },
   "outputs": [],
   "source": []
  },
  {
   "cell_type": "code",
   "execution_count": null,
   "id": "95cdeca8",
   "metadata": {
    "vscode": {
     "languageId": "plaintext"
    }
   },
   "outputs": [],
   "source": []
  }
 ],
 "metadata": {
  "language_info": {
   "name": "python"
  }
 },
 "nbformat": 4,
 "nbformat_minor": 5
}
