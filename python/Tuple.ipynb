{
 "cells": [
  {
   "cell_type": "markdown",
   "id": "f84d0769",
   "metadata": {},
   "source": [
    "Explanation \n",
    "\n",
    "tuples are ordered collection of items that are immutable. They are similar to list but thier immutability makes them different."
   ]
  },
  {
   "cell_type": "code",
   "execution_count": 3,
   "id": "c8e2514e",
   "metadata": {},
   "outputs": [
    {
     "name": "stdout",
     "output_type": "stream",
     "text": [
      "<class 'tuple'>\n"
     ]
    }
   ],
   "source": [
    "## creating a tuple \n",
    "empty_tuple=()\n",
    "print(type(empty_tuple))\n"
   ]
  },
  {
   "cell_type": "code",
   "execution_count": 5,
   "id": "f11ff542",
   "metadata": {},
   "outputs": [
    {
     "name": "stdout",
     "output_type": "stream",
     "text": [
      "<class 'list'>\n"
     ]
    }
   ],
   "source": [
    "lst=list()\n",
    "print(type(lst))"
   ]
  },
  {
   "cell_type": "code",
   "execution_count": 7,
   "id": "a210d203",
   "metadata": {},
   "outputs": [
    {
     "name": "stdout",
     "output_type": "stream",
     "text": [
      "(1, 'Hello World', 3.4, True, [4, 5])\n"
     ]
    }
   ],
   "source": [
    "mixed_tuple=(1,\"Hello World\",3.4,True,[4,5])\n",
    "print(mixed_tuple)"
   ]
  },
  {
   "cell_type": "markdown",
   "id": "61c3975f",
   "metadata": {},
   "source": [
    "Tuple Operation"
   ]
  },
  {
   "cell_type": "code",
   "execution_count": 9,
   "id": "c959e9f0",
   "metadata": {},
   "outputs": [
    {
     "name": "stdout",
     "output_type": "stream",
     "text": [
      "(1, 2, 3, 4, 5, 6, 1, 'Hello World', 3.4, True, [4, 5])\n"
     ]
    }
   ],
   "source": [
    "numbers=(1,2,3,4,5,6)\n",
    "concatenation_tuple=numbers+mixed_tuple\n",
    "print(concatenation_tuple)"
   ]
  },
  {
   "cell_type": "code",
   "execution_count": 11,
   "id": "3bf8b292",
   "metadata": {},
   "outputs": [
    {
     "data": {
      "text/plain": [
       "(1,\n",
       " 'Hello World',\n",
       " 3.4,\n",
       " True,\n",
       " [4, 5],\n",
       " 1,\n",
       " 'Hello World',\n",
       " 3.4,\n",
       " True,\n",
       " [4, 5],\n",
       " 1,\n",
       " 'Hello World',\n",
       " 3.4,\n",
       " True,\n",
       " [4, 5])"
      ]
     },
     "execution_count": 11,
     "metadata": {},
     "output_type": "execute_result"
    }
   ],
   "source": [
    "mixed_tuple*3"
   ]
  },
  {
   "cell_type": "markdown",
   "id": "bed515dd",
   "metadata": {},
   "source": [
    "Immutable Nature of Tuples"
   ]
  },
  {
   "cell_type": "code",
   "execution_count": 14,
   "id": "ae00ceec",
   "metadata": {},
   "outputs": [
    {
     "name": "stdout",
     "output_type": "stream",
     "text": [
      "[1, 2, 3, 4, 5]\n",
      "[1, 'Avnish', 3, 4, 5]\n"
     ]
    }
   ],
   "source": [
    "list=[1,2,3,4,5]\n",
    "print(list)\n",
    "list[1]=\"Avnish\"\n",
    "print(list)\n"
   ]
  },
  {
   "cell_type": "code",
   "execution_count": 17,
   "id": "944bd5d0",
   "metadata": {},
   "outputs": [
    {
     "name": "stdout",
     "output_type": "stream",
     "text": [
      "(1, 2, 3, 4, 5, 6)\n"
     ]
    }
   ],
   "source": [
    "##numbers[1]=\"Avnish\" # it is not posible because of tuple is immutable\n",
    "print(numbers)"
   ]
  },
  {
   "cell_type": "code",
   "execution_count": null,
   "id": "3e96956c",
   "metadata": {},
   "outputs": [
    {
     "name": "stdout",
     "output_type": "stream",
     "text": [
      "1\n",
      "2\n"
     ]
    }
   ],
   "source": [
    "## 2 Important Tuple Method\n",
    "print(numbers.count(3))\n",
    "print(numbers.index(3)) # it is give index of given value"
   ]
  },
  {
   "cell_type": "code",
   "execution_count": 26,
   "id": "a0da1597",
   "metadata": {},
   "outputs": [
    {
     "name": "stdout",
     "output_type": "stream",
     "text": [
      "(1, 'Hello world', 3.43)\n"
     ]
    }
   ],
   "source": [
    "## Packing and Unpacking Tuple\n",
    "packed_tuple=1,\"Hello world\",3.43\n",
    "print(packed_tuple)"
   ]
  },
  {
   "cell_type": "code",
   "execution_count": 28,
   "id": "ab91be6a",
   "metadata": {},
   "outputs": [
    {
     "name": "stdout",
     "output_type": "stream",
     "text": [
      "1\n",
      "Hello world\n",
      "3.43\n"
     ]
    }
   ],
   "source": [
    "## Unpacking a tuple\n",
    "a,b,c=packed_tuple\n",
    "print(a)\n",
    "print(b)\n",
    "print(c)"
   ]
  },
  {
   "cell_type": "code",
   "execution_count": 30,
   "id": "0b146fe4",
   "metadata": {},
   "outputs": [
    {
     "name": "stdout",
     "output_type": "stream",
     "text": [
      "1\n",
      "[2, 3, 4, 5]\n",
      "6\n"
     ]
    }
   ],
   "source": [
    "## Unpacking with *\n",
    "numbers=(1,2,3,4,5,6)\n",
    "a,*b,c=numbers # a=first,b=middle,c=last\n",
    "print(a)\n",
    "print(b)\n",
    "print(c)"
   ]
  },
  {
   "cell_type": "code",
   "execution_count": 2,
   "id": "071da93a",
   "metadata": {},
   "outputs": [
    {
     "name": "stdout",
     "output_type": "stream",
     "text": [
      "[1, 2, 3]\n"
     ]
    },
    {
     "data": {
      "text/plain": [
       "[1, 'Hello World', 'h']"
      ]
     },
     "execution_count": 2,
     "metadata": {},
     "output_type": "execute_result"
    }
   ],
   "source": [
    "## Nested List\n",
    "list=[[1,2,3],[4,5,6],[1,\"Hello World\",\"h\"]]\n",
    "print(list[0])\n",
    "list[2][0:3]"
   ]
  },
  {
   "cell_type": "code",
   "execution_count": 37,
   "id": "7fb7f141",
   "metadata": {},
   "outputs": [
    {
     "name": "stdout",
     "output_type": "stream",
     "text": [
      "(1, 2, 3)\n",
      "3\n"
     ]
    }
   ],
   "source": [
    "## Nested tuple\n",
    "tuple=((1,2,3),(4,5,6),(True,False))\n",
    "print(tuple[0])\n",
    "print(tuple[0][2])"
   ]
  }
 ],
 "metadata": {
  "kernelspec": {
   "display_name": "Python 3",
   "language": "python",
   "name": "python3"
  },
  "language_info": {
   "codemirror_mode": {
    "name": "ipython",
    "version": 3
   },
   "file_extension": ".py",
   "mimetype": "text/x-python",
   "name": "python",
   "nbconvert_exporter": "python",
   "pygments_lexer": "ipython3",
   "version": "3.10.18"
  }
 },
 "nbformat": 4,
 "nbformat_minor": 5
}
