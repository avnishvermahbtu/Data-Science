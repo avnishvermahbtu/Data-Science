{
 "cells": [
  {
   "cell_type": "markdown",
   "id": "f5946728",
   "metadata": {},
   "source": [
    "Real-Word Example Using List in Python"
   ]
  },
  {
   "cell_type": "markdown",
   "id": "df885c7b",
   "metadata": {},
   "source": [
    "Lists are one of the commonly used data structures in python,thanks to their versatility and ease of use. Here are practical example that illustrate their use  inreal -word scenaries"
   ]
  },
  {
   "cell_type": "markdown",
   "id": "c53f07cb",
   "metadata": {},
   "source": [
    "Example 1. Manage A To Do List"
   ]
  },
  {
   "cell_type": "markdown",
   "id": "e51889e7",
   "metadata": {},
   "source": [
    "     Create a To keep of Tasks "
   ]
  },
  {
   "cell_type": "code",
   "execution_count": 1,
   "id": "036c947a",
   "metadata": {},
   "outputs": [
    {
     "name": "stdout",
     "output_type": "stream",
     "text": [
      "Donot forget to pay the utility bill\n",
      "To_Do_List remaining\n",
      "- Buy Groceries\n",
      "-Pay Bill\n",
      "-schedule meeting\n",
      "-Go For a Run\n"
     ]
    }
   ],
   "source": [
    "To_Do_List=[\" Buy Groceries\",\"Pay Bill\",\"Clean the house\"]\n",
    "\n",
    "## Adding to task\n",
    "To_Do_List.append(\"schedule meeting\")\n",
    "To_Do_List.append(\"Go For a Run\")\n",
    "\n",
    "## Removing a  completed task\n",
    "To_Do_List.remove(\"Clean the house\")\n",
    "\n",
    "##  Checking if a task is in the list\n",
    "if \"Pay Bill\" in To_Do_List:\n",
    "    print(\"Donot forget to pay the utility bill\")\n",
    "    \n",
    "print(\"To_Do_List remaining\")\n",
    "for task in To_Do_List:\n",
    "    print(f\"-{task}\")    \n"
   ]
  },
  {
   "cell_type": "markdown",
   "id": "2dc536df",
   "metadata": {},
   "source": [
    "Example 2: Organizing Student Grades"
   ]
  },
  {
   "cell_type": "markdown",
   "id": "3038ab49",
   "metadata": {},
   "source": [
    "Create a list to store and calculate average grades for student"
   ]
  },
  {
   "cell_type": "code",
   "execution_count": 1,
   "id": "ba2967c6",
   "metadata": {},
   "outputs": [
    {
     "name": "stdout",
     "output_type": "stream",
     "text": [
      "Average Grade : 83.16666666666667\n",
      "Highest Grade :98\n",
      "Lowest Grade :56\n"
     ]
    }
   ],
   "source": [
    "grades=[85,92,78,98,56]\n",
    "\n",
    "# Adding a new grade\n",
    "grades.append(90)\n",
    "\n",
    "## Calculate the average grades\n",
    "average_grade=sum(grades)/len(grades)\n",
    "print(f\"Average Grade : {average_grade}\")\n",
    "\n",
    "## Finding to highest and lowest grade\n",
    "highest_grade=max(grades)\n",
    "lowest_grade=min(grades)\n",
    "\n",
    "print(f\"Highest Grade :{highest_grade}\")\n",
    "print(f\"Lowest Grade :{lowest_grade}\")"
   ]
  },
  {
   "cell_type": "markdown",
   "id": "65a6b879",
   "metadata": {},
   "source": [
    "Example3:Manaing An Inventory"
   ]
  },
  {
   "cell_type": "markdown",
   "id": "5aec419a",
   "metadata": {},
   "source": [
    "use a list to manage inventory items in a store"
   ]
  },
  {
   "cell_type": "code",
   "execution_count": 4,
   "id": "b7c85ad0",
   "metadata": {},
   "outputs": [
    {
     "name": "stdout",
     "output_type": "stream",
     "text": [
      "oranges are not stock\n",
      "apples\n",
      "orange\n",
      "grapes\n",
      "papita\n"
     ]
    }
   ],
   "source": [
    "## Managing an inventory\n",
    "inventory=[\"bananas\",\"apples\",\"orange\",\"grapes\"]\n",
    "\n",
    "## Adding a new item\n",
    "inventory.append(\"papita\")\n",
    "#removing an item that is out of stock\n",
    "inventory.remove(\"bananas\")\n",
    "\n",
    "## Checking if an item is in stock\n",
    "item=\"oranges\"\n",
    "if item in inventory:\n",
    "    print(f\"{item} are in stock\")\n",
    "else:\n",
    "    print(f\"{item} are not stock\")  \n",
    "    \n",
    "## Printing the inventory\n",
    "for item in inventory:\n",
    "    print(f\"{item}\")       \n"
   ]
  }
 ],
 "metadata": {
  "kernelspec": {
   "display_name": "Python 3",
   "language": "python",
   "name": "python3"
  },
  "language_info": {
   "codemirror_mode": {
    "name": "ipython",
    "version": 3
   },
   "file_extension": ".py",
   "mimetype": "text/x-python",
   "name": "python",
   "nbconvert_exporter": "python",
   "pygments_lexer": "ipython3",
   "version": "3.10.18"
  }
 },
 "nbformat": 4,
 "nbformat_minor": 5
}
