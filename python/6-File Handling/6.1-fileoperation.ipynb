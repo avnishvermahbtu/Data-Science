{
 "cells": [
  {
   "cell_type": "markdown",
   "id": "195b24c8",
   "metadata": {},
   "source": [
    "File Operation-Read And Write Files"
   ]
  },
  {
   "cell_type": "markdown",
   "id": "3c728aca",
   "metadata": {},
   "source": [
    "File handling is crucial part of any programming language .Python provide built-in function and methods to read from amd write to files .both text and binary .This lesson will cover the basics of file handling ,including reading and writing text files and binary files"
   ]
  },
  {
   "cell_type": "code",
   "execution_count": null,
   "id": "a423094f",
   "metadata": {},
   "outputs": [
    {
     "name": "stdout",
     "output_type": "stream",
     "text": [
      "Avnish is coder and good man\n",
      "welcome to course \n"
     ]
    }
   ],
   "source": [
    "## Read a Whole file\n",
    "\n",
    "with open ('example.txt',mode='r') as file:\n",
    "     content=file.read()\n",
    "     print(content)\n",
    "     "
   ]
  },
  {
   "cell_type": "code",
   "execution_count": null,
   "id": "5b1ae214",
   "metadata": {},
   "outputs": [
    {
     "name": "stdout",
     "output_type": "stream",
     "text": [
      "Avnish is coder and good man\n",
      "welcome to course\n"
     ]
    }
   ],
   "source": [
    "## Read a file line by line\n",
    "with open('example.txt','r') as file:\n",
    "    for line in file:\n",
    "        print(line.strip()) ## strip() removes the newline character"
   ]
  },
  {
   "cell_type": "code",
   "execution_count": null,
   "id": "5b6838c4",
   "metadata": {},
   "outputs": [],
   "source": [
    "## Writing a file(Overwriting)\n",
    "\n",
    "with open('example.txt','w') as file:\n",
    "    file.write('Hello World\\n ')\n",
    "    file.write('this is new line')"
   ]
  },
  {
   "cell_type": "code",
   "execution_count": null,
   "id": "989de19d",
   "metadata": {},
   "outputs": [],
   "source": [
    "## Write a file (without Over writing)\n",
    "\n",
    "with open('example.txt','a') as file:\n",
    "    file.write('Append operation taking place\\n')"
   ]
  },
  {
   "cell_type": "code",
   "execution_count": null,
   "id": "931fe35e",
   "metadata": {},
   "outputs": [],
   "source": [
    "## Writing a list of lines to a file\n",
    "lines=['first line \\n','second line \\n','third line \\n']\n",
    "\n",
    "with open('example.txt','a') as file:\n",
    "    file.writelines(lines)\n"
   ]
  },
  {
   "cell_type": "code",
   "execution_count": null,
   "id": "711f2939",
   "metadata": {},
   "outputs": [],
   "source": [
    "## Binary Files\n",
    "## Write to a binary file\n",
    "\n",
    "data=b'\\x00\\x01\\x02\\x03\\x04'\n",
    "with open('example.bin','wb') as file:\n",
    "    file.write(data)"
   ]
  },
  {
   "cell_type": "code",
   "execution_count": null,
   "id": "c0a97e53",
   "metadata": {},
   "outputs": [
    {
     "name": "stdout",
     "output_type": "stream",
     "text": [
      "b'\\x00\\x01\\x02\\x03\\x04'\n"
     ]
    }
   ],
   "source": [
    "## Reading a binary file\n",
    "\n",
    "with open('example.bin','rb') as file:\n",
    "    content=file.read()\n",
    "    print(content)"
   ]
  },
  {
   "cell_type": "code",
   "execution_count": null,
   "id": "f78e0137",
   "metadata": {},
   "outputs": [],
   "source": [
    "## Read the content from source text file and write to a destination text file\n",
    "# Copying a text file\n",
    "\n",
    "with open('example.txt','r') as source_file:\n",
    "    content=source_file.read()\n",
    "    \n",
    "with open('destination.txt','w') as destination_file:\n",
    "    destination_file.write((content))    "
   ]
  },
  {
   "cell_type": "markdown",
   "id": "892108a5",
   "metadata": {},
   "source": [
    "W+ mode"
   ]
  },
  {
   "cell_type": "markdown",
   "id": "479cb67f",
   "metadata": {},
   "source": [
    "The w+ mode in python is used to open a file for both reading and writing .if the file does not exist,it will be created.If the file exist,its content is truncated(i.e., the file is overwritten)"
   ]
  },
  {
   "cell_type": "code",
   "execution_count": 2,
   "id": "f5a37d4f",
   "metadata": {},
   "outputs": [
    {
     "name": "stdout",
     "output_type": "stream",
     "text": [
      "Hello world! \n",
      "This is a newline \n",
      "\n"
     ]
    }
   ],
   "source": [
    "## Writiing and then reading a file\n",
    "\n",
    "with open('example.txt','w+') as file:\n",
    "    file.write('Hello world! \\n')\n",
    "    file.write(\"This is a newline \\n\")\n",
    "    \n",
    "    ## Move the file cursor to the beginning\n",
    "    \n",
    "    file.seek(0)\n",
    "    \n",
    "    ## Read the content of the file\n",
    "    content=file.read()\n",
    "    print(content)"
   ]
  },
  {
   "cell_type": "markdown",
   "id": "58097eb8",
   "metadata": {},
   "source": [
    "File Path"
   ]
  },
  {
   "cell_type": "code",
   "execution_count": null,
   "id": "29fef06d",
   "metadata": {},
   "outputs": [],
   "source": [
    "## create a new directory\n",
    "import os\n",
    "new_directory=\"package\"\n",
    "os.mkdir(new_directory)"
   ]
  },
  {
   "cell_type": "code",
   "execution_count": 7,
   "id": "aa0d59e0",
   "metadata": {},
   "outputs": [
    {
     "name": "stdout",
     "output_type": "stream",
     "text": [
      "['destination.txt', 'example.bin', 'example.txt', 'fileoperation.ipynb', 'package']\n"
     ]
    }
   ],
   "source": [
    "## Listing Files And Directories\n",
    "items=os.listdir(path='.')\n",
    "print(items)"
   ]
  },
  {
   "cell_type": "code",
   "execution_count": 9,
   "id": "d9b3bf7b",
   "metadata": {},
   "outputs": [
    {
     "name": "stdout",
     "output_type": "stream",
     "text": [
      "d:\\data science\\python\\6-File Handling\\folder\\file.txt\n"
     ]
    }
   ],
   "source": [
    "## Joining Paths\n",
    "\n",
    "dir_name=\"folder\"\n",
    "file_name=\"file.txt\"\n",
    "full_path=os.path.join(os.getcwd(),dir_name,file_name) ## current working directory\n",
    "print(full_path)"
   ]
  },
  {
   "cell_type": "code",
   "execution_count": 12,
   "id": "5f9f4ffc",
   "metadata": {},
   "outputs": [
    {
     "name": "stdout",
     "output_type": "stream",
     "text": [
      "The path 'example1.txt' does not exists\n"
     ]
    }
   ],
   "source": [
    "path='example1.txt'\n",
    "if os.path.exists(path):\n",
    "    print(f\"The path '{path} ' exists\")\n",
    "else:\n",
    "    print(f\"The path '{path}' does not exists\")    "
   ]
  },
  {
   "cell_type": "code",
   "execution_count": 15,
   "id": "d85d2cdb",
   "metadata": {},
   "outputs": [
    {
     "name": "stdout",
     "output_type": "stream",
     "text": [
      "The path 'example.txt ' is a file.\n"
     ]
    }
   ],
   "source": [
    "##Checking if a path is a File or Directory\n",
    "import os\n",
    "\n",
    "path='example.txt'\n",
    "if os.path.isfile(path):\n",
    "    print(f\"The path '{path} ' is a file.\")\n",
    "elif os.path.isdir(path):\n",
    "    print(f\"The path '{path}' is a directory.\")    \n",
    "else:\n",
    "    print(f\"The path '{path}' is neither a file nor a directory.\")    "
   ]
  },
  {
   "cell_type": "code",
   "execution_count": null,
   "id": "238acde4",
   "metadata": {},
   "outputs": [
    {
     "name": "stdout",
     "output_type": "stream",
     "text": [
      "d:\\data science\\python\\6-File Handling\\example.txt\n"
     ]
    }
   ],
   "source": [
    "## Getting the absolute Path\n",
    "relative_path='example.txt'\n",
    "absolute_path=os.path.abspath(relative_path)\n",
    "print(absolute_path)"
   ]
  },
  {
   "cell_type": "code",
   "execution_count": 2,
   "id": "83cc4648",
   "metadata": {},
   "outputs": [
    {
     "name": "stdout",
     "output_type": "stream",
     "text": [
      "iamgood man\n"
     ]
    }
   ],
   "source": [
    "word ='iamgood man'\n",
    "print(word.strip())"
   ]
  }
 ],
 "metadata": {
  "kernelspec": {
   "display_name": "Python 3",
   "language": "python",
   "name": "python3"
  },
  "language_info": {
   "codemirror_mode": {
    "name": "ipython",
    "version": 3
   },
   "file_extension": ".py",
   "mimetype": "text/x-python",
   "name": "python",
   "nbconvert_exporter": "python",
   "pygments_lexer": "ipython3",
   "version": "3.10.18"
  }
 },
 "nbformat": 4,
 "nbformat_minor": 5
}
