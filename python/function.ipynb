{
 "cells": [
  {
   "cell_type": "markdown",
   "id": "a7de732a",
   "metadata": {},
   "source": [
    "Function"
   ]
  },
  {
   "cell_type": "markdown",
   "id": "01b18635",
   "metadata": {},
   "source": [
    "A function is a block of code of that performs a specific task.Function help in organizing code.resusing code.and improving readability"
   ]
  },
  {
   "cell_type": "code",
   "execution_count": 4,
   "id": "aa1db823",
   "metadata": {},
   "outputs": [
    {
     "name": "stdout",
     "output_type": "stream",
     "text": [
      "The number 5 is odd\n"
     ]
    }
   ],
   "source": [
    "## Single Parameter\n",
    "def even_odd(num):\n",
    "    if(num%2==0):\n",
    "        print(f\"The number {num} is even\")\n",
    "    else:\n",
    "        print(f\"The number {num} is odd\")    \n",
    "    \n",
    "\n",
    "a=int(input(\"Enter the number\"))\n",
    "even_odd(a)   ## Calling the function"
   ]
  },
  {
   "cell_type": "code",
   "execution_count": 7,
   "id": "d3de018f",
   "metadata": {},
   "outputs": [
    {
     "name": "stdout",
     "output_type": "stream",
     "text": [
      "Good morning Avnish\n"
     ]
    }
   ],
   "source": [
    "## Default Parameter\n",
    "\n",
    "def greet(name):\n",
    "    print(f\"Good morning {name}\")\\\n",
    "        \n",
    "greet(\"Avnish\")        \n",
    "\n",
    "\n"
   ]
  },
  {
   "cell_type": "code",
   "execution_count": 10,
   "id": "dc82da19",
   "metadata": {},
   "outputs": [
    {
     "name": "stdout",
     "output_type": "stream",
     "text": [
      "Good morning Avnish\n",
      "Good morning Ayush\n"
     ]
    }
   ],
   "source": [
    "\n",
    "def greet(name=\"Ayush\"):\n",
    "    print(f\"Good morning {name}\")\\\n",
    "        \n",
    "greet(\"Avnish\")    \n",
    "greet()    \n",
    "\n",
    "\n"
   ]
  },
  {
   "cell_type": "code",
   "execution_count": 9,
   "id": "4eebefae",
   "metadata": {},
   "outputs": [
    {
     "name": "stdout",
     "output_type": "stream",
     "text": [
      "1\n",
      "2\n",
      "3\n",
      "4\n",
      "5\n",
      "6\n",
      "Avnish\n"
     ]
    }
   ],
   "source": [
    "## Variable Length Arguments\n",
    "## Positional And Keywords argument (*args)\n",
    "def print_numbers(*args):\n",
    "    for number in args:\n",
    "        print(number)\n",
    "print_numbers(1,2,3,4,5,6,\"Avnish\")        "
   ]
  },
  {
   "cell_type": "code",
   "execution_count": 13,
   "id": "37c13418",
   "metadata": {},
   "outputs": [
    {
     "name": "stdout",
     "output_type": "stream",
     "text": [
      "name:Avnish\n",
      "age:32\n",
      "country:India\n"
     ]
    }
   ],
   "source": [
    "### Keywords Argument   key, value pairs\n",
    "def print_details(**kwargs):\n",
    "    for key,value in  kwargs.items():\n",
    "        print(f\"{key}:{value}\")\n",
    "        \n",
    "print_details(name=\"Avnish\" ,age=\"32\",country=\"India\")                "
   ]
  },
  {
   "cell_type": "code",
   "execution_count": 16,
   "id": "e548c17a",
   "metadata": {},
   "outputs": [
    {
     "name": "stdout",
     "output_type": "stream",
     "text": [
      "Positional Argument 1\n",
      "Positional Argument 2\n",
      "Positional Argument 3\n",
      "Positional Argument 4\n",
      "Positional Argument 5\n",
      "Positional Argument 6\n",
      "Positional Argument Avnish\n",
      "name :Avnish\n",
      "age :23\n",
      "country :India\n"
     ]
    }
   ],
   "source": [
    "def print_details(*args,**kwargs):\n",
    "    for val in args:\n",
    "        print(f\"Positional Argument {val}\")\n",
    "        \n",
    "    for key,value in kwargs.items():\n",
    "        print(f\"{key} :{value}\")  \n",
    "    \n",
    "               \n",
    "print_details(1,2,3,4,5,6,\"Avnish\",name=\"Avnish\",age=\"23\",country=\"India\")    \n",
    "          "
   ]
  },
  {
   "cell_type": "markdown",
   "id": "8066a7bf",
   "metadata": {},
   "source": [
    "Return Statement"
   ]
  },
  {
   "cell_type": "code",
   "execution_count": null,
   "id": "2d8feb28",
   "metadata": {},
   "outputs": [
    {
     "data": {
      "text/plain": [
       "9"
      ]
     },
     "execution_count": 18,
     "metadata": {},
     "output_type": "execute_result"
    }
   ],
   "source": [
    "def sum(a,b):\n",
    "    return a+b\n",
    " \n",
    "sum(4,5)"
   ]
  },
  {
   "cell_type": "code",
   "execution_count": 26,
   "id": "d066d84b",
   "metadata": {},
   "outputs": [
    {
     "name": "stdout",
     "output_type": "stream",
     "text": [
      "honesty is best polecy\n",
      "['Honesty', 'is', 'best', 'polecy']\n"
     ]
    }
   ],
   "source": [
    "s=\"Honesty is best polecy\"\n",
    "print(s.lower())\n",
    "print(s.split())"
   ]
  },
  {
   "cell_type": "code",
   "execution_count": 28,
   "id": "5d416cbe",
   "metadata": {},
   "outputs": [
    {
     "name": "stdout",
     "output_type": "stream",
     "text": [
      "{'a': 1, 'avnish': 1, 'is': 1, 'better': 2, 'coder': 1, 'but': 1, 'not': 1, 'speaker': 1, 'than': 1, 'compare': 1, 'to': 1, 'you': 1}\n"
     ]
    }
   ],
   "source": [
    "def count_word_frequency(filepath):\n",
    "    count_word={}\n",
    "    with open(filepath,'r') as file:\n",
    "        for line in file:\n",
    "            words=line.split()\n",
    "            for word in words:\n",
    "                word=word.lower().strip()\n",
    "                count_word[word]=count_word.get(word,0)+1\n",
    "                \n",
    "    return count_word\n",
    "\n",
    "\n",
    "filepath='sample.txt'\n",
    "word_ferquency=count_word_frequency(filepath)\n",
    "print(word_ferquency)          "
   ]
  }
 ],
 "metadata": {
  "kernelspec": {
   "display_name": "Python 3",
   "language": "python",
   "name": "python3"
  },
  "language_info": {
   "codemirror_mode": {
    "name": "ipython",
    "version": 3
   },
   "file_extension": ".py",
   "mimetype": "text/x-python",
   "name": "python",
   "nbconvert_exporter": "python",
   "pygments_lexer": "ipython3",
   "version": "3.10.18"
  }
 },
 "nbformat": 4,
 "nbformat_minor": 5
}
