{
 "cells": [
  {
   "cell_type": "code",
   "execution_count": 18,
   "id": "a36ec697",
   "metadata": {},
   "outputs": [
    {
     "data": {
      "text/plain": [
       "'Welcome to advanced python course'"
      ]
     },
     "execution_count": 18,
     "metadata": {},
     "output_type": "execute_result"
    }
   ],
   "source": [
    "## Function Copy\n",
    "def Welcome():\n",
    "    return \"Welcome to advanced python course\"\n",
    "\n",
    "Welcome()"
   ]
  },
  {
   "cell_type": "code",
   "execution_count": 20,
   "id": "c0c28172",
   "metadata": {},
   "outputs": [
    {
     "name": "stdout",
     "output_type": "stream",
     "text": [
      "Welcome to advanced python course\n"
     ]
    }
   ],
   "source": [
    "def Welcome():\n",
    "    return \"Welcome to advanced python course\"\n",
    "\n",
    "Welcome()\n",
    "wel=Welcome\n",
    "wel()\n",
    "\n",
    "del Welcome\n",
    "print(wel())"
   ]
  },
  {
   "cell_type": "code",
   "execution_count": 21,
   "id": "d9b081ee",
   "metadata": {},
   "outputs": [
    {
     "ename": "NameError",
     "evalue": "name 'main_Welcome' is not defined",
     "output_type": "error",
     "traceback": [
      "\u001b[1;31m---------------------------------------------------------------------------\u001b[0m",
      "\u001b[1;31mNameError\u001b[0m                                 Traceback (most recent call last)",
      "Cell \u001b[1;32mIn[21], line 1\u001b[0m\n\u001b[1;32m----> 1\u001b[0m \u001b[43mmain_Welcome\u001b[49m(\u001b[38;5;124m\"\u001b[39m\u001b[38;5;124mWelcome\u001b[39m\u001b[38;5;124m\"\u001b[39m)\n",
      "\u001b[1;31mNameError\u001b[0m: name 'main_Welcome' is not defined"
     ]
    }
   ],
   "source": [
    "main_Welcome(\"Welcome\")"
   ]
  },
  {
   "cell_type": "code",
   "execution_count": null,
   "id": "ddfd1a02",
   "metadata": {},
   "outputs": [],
   "source": [
    "## closures ---function inside the function \n",
    "\n",
    "def main_Welcome(func):\n",
    "        # inner function like in closures\n",
    "    def sub_Welcome_method():\n",
    "        print(\"Welcome to the advance python cource\")\n",
    "        func(\"Wwlcome everyone to this tutorial\")           \n",
    "        print(\"Please learn these concepts properly\")\n",
    "    return sub_Welcome_method()    "
   ]
  },
  {
   "cell_type": "code",
   "execution_count": null,
   "id": "538f0f69",
   "metadata": {},
   "outputs": [
    {
     "name": "stdout",
     "output_type": "stream",
     "text": [
      "Welcome to the advance python cource\n",
      "Wwlcome everyone to this tutorial\n",
      "Please learn these concepts properly\n"
     ]
    }
   ],
   "source": [
    "main_Welcome(print)"
   ]
  },
  {
   "cell_type": "code",
   "execution_count": null,
   "id": "45ef231d",
   "metadata": {},
   "outputs": [],
   "source": [
    "\n",
    "## closures ---function inside the function \n",
    "\n",
    "def main_Welcome(func,list):\n",
    "    \n",
    "    def sub_Welcome_method():\n",
    "        print(\"Welcome to the advance python cource\")\n",
    "                 \n",
    "        print(\"Please learn these concepts properly\")\n",
    "        print(func(list))\n",
    "    return sub_Welcome_method()    \n"
   ]
  },
  {
   "cell_type": "code",
   "execution_count": null,
   "id": "8e0ce803",
   "metadata": {},
   "outputs": [
    {
     "ename": "SyntaxError",
     "evalue": "invalid syntax (2418614364.py, line 1)",
     "output_type": "error",
     "traceback": [
      "\u001b[1;36m  Cell \u001b[1;32mIn[104], line 1\u001b[1;36m\u001b[0m\n\u001b[1;33m    main_Welcome(len,[1,2,3,4,5])|\u001b[0m\n\u001b[1;37m                                  ^\u001b[0m\n\u001b[1;31mSyntaxError\u001b[0m\u001b[1;31m:\u001b[0m invalid syntax\n"
     ]
    }
   ],
   "source": [
    "main_Welcome(len,[1,2,3,4,5])|\n",
    "\n"
   ]
  },
  {
   "cell_type": "markdown",
   "id": "026fa9ac",
   "metadata": {},
   "source": [
    "Decorator"
   ]
  },
  {
   "cell_type": "markdown",
   "id": "10dbf49a",
   "metadata": {},
   "source": [
    "In Python, decorators are a powerful and flexible way to modify or extend the behavior of functions or methods, without changing their actual code. A decorator is essentially a function that takes another function as an argument and returns a new function with enhanced functionality.\n"
   ]
  },
  {
   "cell_type": "code",
   "execution_count": 29,
   "id": "083d84d9",
   "metadata": {},
   "outputs": [
    {
     "name": "stdout",
     "output_type": "stream",
     "text": [
      "Modified function\n",
      "Hello!!\n"
     ]
    }
   ],
   "source": [
    "# a decorator function\n",
    "def myDecor(func):\n",
    "    # inner function like in closures\n",
    "    def wrapper():\n",
    "        print(\"Modified function\")\n",
    "        func()\n",
    "    return wrapper\n",
    "\n",
    "\n",
    "def myfunc():\n",
    "    print('Hello!!')\n",
    "\n",
    "# Calling myfunc()\n",
    "# myfunc()\n",
    "\n",
    "# decorating the myfunc function\n",
    "decorated_myfunc = myDecor(myfunc)\n",
    "\n",
    "# calling the decorated version\n",
    "decorated_myfunc()"
   ]
  },
  {
   "cell_type": "code",
   "execution_count": 27,
   "id": "d812be5f",
   "metadata": {},
   "outputs": [
    {
     "name": "stdout",
     "output_type": "stream",
     "text": [
      "Before calling the function.\n",
      "Hello, World!\n",
      "After calling the function.\n"
     ]
    }
   ],
   "source": [
    "# A simple decorator function\n",
    "def decorator(func):\n",
    "  \n",
    "    def wrapper():\n",
    "        print(\"Before calling the function.\")\n",
    "        func()\n",
    "        print(\"After calling the function.\")\n",
    "    return wrapper\n",
    "\n",
    "# Applying the decorator to a function\n",
    "@decorator\n",
    "\n",
    "def greet():\n",
    "    print(\"Hello, World!\")\n",
    "\n",
    "greet()"
   ]
  },
  {
   "cell_type": "code",
   "execution_count": 25,
   "id": "0ae69776",
   "metadata": {},
   "outputs": [
    {
     "name": "stdout",
     "output_type": "stream",
     "text": [
      "Welcome to the advance python cource\n",
      "This is an advanced python course\n",
      "Please learn these concepts properly\n"
     ]
    }
   ],
   "source": [
    "## Decorator \n",
    "\n",
    "## closures ---function inside the function \n",
    "\n",
    "def main_Welcome(func):\n",
    "    \n",
    "    def sub_Welcome_method():\n",
    "        print(\"Welcome to the advance python cource\")\n",
    "        func()           \n",
    "        print(\"Please learn these concepts properly\")\n",
    "    return sub_Welcome_method()   \n",
    "\n",
    "@main_Welcome\n",
    "def coure_introduction():\n",
    "    print((\"This is an advanced python course\"))\n",
    "    \n",
    "\n",
    "     "
   ]
  },
  {
   "cell_type": "code",
   "execution_count": null,
   "id": "23bb9f3c",
   "metadata": {},
   "outputs": [],
   "source": []
  },
  {
   "cell_type": "code",
   "execution_count": null,
   "id": "d96ca761",
   "metadata": {},
   "outputs": [],
   "source": []
  }
 ],
 "metadata": {
  "kernelspec": {
   "display_name": "Python 3",
   "language": "python",
   "name": "python3"
  },
  "language_info": {
   "codemirror_mode": {
    "name": "ipython",
    "version": 3
   },
   "file_extension": ".py",
   "mimetype": "text/x-python",
   "name": "python",
   "nbconvert_exporter": "python",
   "pygments_lexer": "ipython3",
   "version": "3.10.18"
  }
 },
 "nbformat": 4,
 "nbformat_minor": 5
}
