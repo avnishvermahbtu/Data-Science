{
 "cells": [
  {
   "cell_type": "markdown",
   "id": "e1967ac5",
   "metadata": {},
   "source": [
    "Understanding Exceptions"
   ]
  },
  {
   "cell_type": "markdown",
   "id": "d9ac189d",
   "metadata": {},
   "source": [
    "Exception handling in python allows you to handle errors gracefully and take corrective actions without stopping the execution of the program . This lesson will cover the basics of exceptions, including how to use try, except,else and finally blocks. "
   ]
  },
  {
   "cell_type": "markdown",
   "id": "acf76a8d",
   "metadata": {},
   "source": [
    "What Are Exceptions?"
   ]
  },
  {
   "cell_type": "markdown",
   "id": "fd59bd7f",
   "metadata": {},
   "source": [
    "Exceptions are events that disrupt the normal flow of a program .They occur when an error is encounted during program execution. Common exception include:\n",
    "\n",
    "1- ZeroDivisionError: Dividing by zero\n",
    "2- FileNotFoundError: File not found\n",
    "3- ValueError: Invalid value.\n",
    "4- TypeError: Invalid type."
   ]
  },
  {
   "cell_type": "code",
   "execution_count": 4,
   "id": "2a55d560",
   "metadata": {},
   "outputs": [
    {
     "name": "stdout",
     "output_type": "stream",
     "text": [
      "name 'b' is not defined\n"
     ]
    }
   ],
   "source": [
    "## Exception try , except block\n",
    "\n",
    "try:\n",
    "    a=b\n",
    "except NameError as ex:\n",
    "    print(ex)    "
   ]
  },
  {
   "cell_type": "code",
   "execution_count": 2,
   "id": "2bc8e61d",
   "metadata": {},
   "outputs": [
    {
     "name": "stdout",
     "output_type": "stream",
     "text": [
      "division by zero\n"
     ]
    }
   ],
   "source": [
    "try:\n",
    "    result=1/0\n",
    "except ZeroDivisionError as ex:\n",
    "    print(ex)    \n"
   ]
  },
  {
   "cell_type": "code",
   "execution_count": null,
   "id": "2bfc5d8f",
   "metadata": {},
   "outputs": [
    {
     "name": "stdout",
     "output_type": "stream",
     "text": [
      "name 'b' is not defined\n",
      "Main exception got caught here  \n"
     ]
    }
   ],
   "source": [
    "## try, exccept block\n",
    "try:\n",
    "    result=1/2\n",
    "    a=b\n",
    "except ZeroDivisionError as ex:\n",
    "    print(ex)    \n",
    "except Exception as ex1:  \n",
    "    print(ex1)    \n",
    "    print('Main exception got caught here  ')\n"
   ]
  },
  {
   "cell_type": "code",
   "execution_count": 12,
   "id": "9abfc2a3",
   "metadata": {},
   "outputs": [],
   "source": [
    "try:\n",
    "    num=int(input(\"Enter a number:\"))\n",
    "    \n",
    "    result=10/num\n",
    "except Exception as ex:    \n",
    "    print(ex)"
   ]
  },
  {
   "cell_type": "code",
   "execution_count": null,
   "id": "326dea92",
   "metadata": {},
   "outputs": [
    {
     "name": "stdout",
     "output_type": "stream",
     "text": [
      "The result is 2.5\n"
     ]
    }
   ],
   "source": [
    "## try,except,else block\n",
    "try:\n",
    "    num=int(input(\"Enter a number:\"))\n",
    "    \n",
    "    result=10/num\n",
    "except ValueError :\n",
    "    print(\"This value type error\")    \n",
    "except ZeroDivisionError as ex:\n",
    "    print(ex)            \n",
    "except Exception as ex:    \n",
    "    print(ex)\n",
    "    \n",
    "else:\n",
    "    print(f\"The result is {result}\")    "
   ]
  },
  {
   "cell_type": "markdown",
   "id": "c19ecb97",
   "metadata": {},
   "source": [
    "try:\n",
    "       # Some Code.... \n",
    "\n",
    "except:\n",
    "       # optional block\n",
    "       # Handling of exception (if required)\n",
    "\n",
    "else:\n",
    "       # execute if no exception\n",
    "       \n",
    "finally:\n",
    "      # Some code .....(always executed)\n"
   ]
  },
  {
   "cell_type": "code",
   "execution_count": 2,
   "id": "1e37e279",
   "metadata": {},
   "outputs": [
    {
     "name": "stdout",
     "output_type": "stream",
     "text": [
      "The result is 5.0\n",
      "Execution complete.\n"
     ]
    }
   ],
   "source": [
    "## try,except,else and finally block\n",
    "try:\n",
    "    num=int(input(\"Enter a number:\"))\n",
    "    \n",
    "    result=10/num\n",
    "except ValueError :\n",
    "    print(\"This value type error\")    \n",
    "except ZeroDivisionError as ex:\n",
    "    print(\"you can not divide by zero\")        \n",
    "except Exception as ex:    \n",
    "    print(ex)\n",
    "    \n",
    "else:\n",
    "    print(f\"The result is {result}\")    \n",
    "finally:\n",
    "    print(\"Execution complete.\")\n",
    "        "
   ]
  },
  {
   "cell_type": "code",
   "execution_count": 25,
   "id": "881387e5",
   "metadata": {},
   "outputs": [
    {
     "name": "stdout",
     "output_type": "stream",
     "text": [
      "name 'b' is not defined\n",
      "file close\n"
     ]
    }
   ],
   "source": [
    "## File Handling and Exception Handling \n",
    "\n",
    "try:\n",
    "    file= open('example1.txt','r') \n",
    "    content=file.read()\n",
    "    a=b\n",
    "    print(content)\n",
    "except FileNotFoundError:\n",
    "    print('The file does not exists')    \n",
    "except Exception as ex:\n",
    "    print(ex)   \n",
    "finally:\n",
    "     if 'file' in locals() or not file.closed() :\n",
    "         file.close()\n",
    "         print('file close')   \n",
    "        "
   ]
  }
 ],
 "metadata": {
  "kernelspec": {
   "display_name": "Python 3",
   "language": "python",
   "name": "python3"
  },
  "language_info": {
   "codemirror_mode": {
    "name": "ipython",
    "version": 3
   },
   "file_extension": ".py",
   "mimetype": "text/x-python",
   "name": "python",
   "nbconvert_exporter": "python",
   "pygments_lexer": "ipython3",
   "version": "3.10.18"
  }
 },
 "nbformat": 4,
 "nbformat_minor": 5
}
