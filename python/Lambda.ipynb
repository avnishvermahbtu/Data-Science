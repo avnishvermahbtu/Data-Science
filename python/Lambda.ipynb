{
 "cells": [
  {
   "cell_type": "markdown",
   "id": "aca6306f",
   "metadata": {},
   "source": [
    "Lambda Functions inPython"
   ]
  },
  {
   "cell_type": "markdown",
   "id": "3c4c869f",
   "metadata": {},
   "source": [
    "Lambda functionare small anonymous functions defined using the lambda keyword,They can have any number\n",
    "of arguments but only one expression .They are arecommonly used for short operations or as arguments to\n",
    "higher-order functions."
   ]
  },
  {
   "cell_type": "code",
   "execution_count": null,
   "id": "dc4fe04b",
   "metadata": {},
   "outputs": [
    {
     "data": {
      "text/plain": [
       "<function __main__.<lambda>(arguments)>"
      ]
     },
     "execution_count": 1,
     "metadata": {},
     "output_type": "execute_result"
    }
   ],
   "source": [
    "## Syntax\n",
    "lambda arguments: expression"
   ]
  },
  {
   "cell_type": "code",
   "execution_count": 3,
   "id": "248571ed",
   "metadata": {},
   "outputs": [
    {
     "name": "stdout",
     "output_type": "stream",
     "text": [
      "10\n"
     ]
    }
   ],
   "source": [
    "def addition(a,b):\n",
    "    return a+b\n",
    "\n",
    "print(addition(4,6))"
   ]
  },
  {
   "cell_type": "code",
   "execution_count": null,
   "id": "c4a15790",
   "metadata": {},
   "outputs": [
    {
     "name": "stdout",
     "output_type": "stream",
     "text": [
      "<class 'function'>\n",
      "12\n"
     ]
    }
   ],
   "source": [
    "addition=lambda a,b:a+b\n",
    "print(type(addition))\n",
    "print(addition(4,8))"
   ]
  },
  {
   "cell_type": "code",
   "execution_count": 13,
   "id": "197d4e46",
   "metadata": {},
   "outputs": [
    {
     "data": {
      "text/plain": [
       "[1, 4, 9, 16, 25, 36]"
      ]
     },
     "execution_count": 13,
     "metadata": {},
     "output_type": "execute_result"
    }
   ],
   "source": [
    "## map()-appliesa function to all items ina list\n",
    "numbers=[1,2,3,4,5,6]\n",
    "list(map(lambda x:x**2,numbers))         "
   ]
  }
 ],
 "metadata": {
  "kernelspec": {
   "display_name": "Python 3",
   "language": "python",
   "name": "python3"
  },
  "language_info": {
   "codemirror_mode": {
    "name": "ipython",
    "version": 3
   },
   "file_extension": ".py",
   "mimetype": "text/x-python",
   "name": "python",
   "nbconvert_exporter": "python",
   "pygments_lexer": "ipython3",
   "version": "3.10.18"
  }
 },
 "nbformat": 4,
 "nbformat_minor": 5
}
