{
 "cells": [
  {
   "cell_type": "markdown",
   "id": "73e741d5",
   "metadata": {},
   "source": [
    "Introduction to Dictionaries\n",
    "\n",
    "Dictionaries are unordered collection of items. They store data in key - value pairs.keys must be unique and immutable(eg.tuple) "
   ]
  },
  {
   "cell_type": "code",
   "execution_count": null,
   "id": "ed1dc259",
   "metadata": {},
   "outputs": [
    {
     "name": "stdout",
     "output_type": "stream",
     "text": [
      "<class 'dict'>\n"
     ]
    }
   ],
   "source": [
    "##creating a empty dictionaries\n",
    "empty_dict={}\n",
    "print(type(empty_dict))                         "
   ]
  },
  {
   "cell_type": "code",
   "execution_count": 30,
   "id": "ca0ded3a",
   "metadata": {},
   "outputs": [
    {
     "name": "stdout",
     "output_type": "stream",
     "text": [
      "{'name': 'Avnish', 'class': 12, 'Pincode': 262802, 'grade': 'A'}\n"
     ]
    }
   ],
   "source": [
    "student={\"name\":\"Avnish\",\"class\":12,\"Pincode\":262802,\"grade\":'A'}\n",
    "print(student) "
   ]
  },
  {
   "cell_type": "code",
   "execution_count": null,
   "id": "a03f5183",
   "metadata": {},
   "outputs": [
    {
     "name": "stdout",
     "output_type": "stream",
     "text": [
      "Avnish\n",
      "Avnish\n",
      "262802\n",
      "None\n"
     ]
    }
   ],
   "source": [
    "student={\"name\":\"Avnish\",\"class\":12,\"Pincode\":262802,\"drade\":'A'}\n",
    "\n",
    "## Accessing using get () element\n",
    "print(student.get(\"name\"))\n",
    "\n",
    "## accessing Dictionaries element\n",
    "print(student['name'])\n",
    "print(student[\"Pincode\"])   \n",
    "print(student.get('your_rank'))\n",
    "\n",
    "# print(student['your_rank']) This code is give the error"
   ]
  },
  {
   "cell_type": "code",
   "execution_count": 34,
   "id": "a023643d",
   "metadata": {},
   "outputs": [
    {
     "name": "stdout",
     "output_type": "stream",
     "text": [
      "{'name': 'Avnish', 'class': 'B-tech', 'Pincode': 262802, 'drade': 'A', 'Address': 'Babaganj'}\n",
      "{'name': 'Avnish', 'class': 'B-tech', 'Pincode': 262802, 'drade': 'A', 'Address': 'Babaganj'}\n",
      "{'name': 'Avnish', 'class': 'B-tech', 'Pincode': 262802, 'drade': 'A', 'Address': 'Babaganj'}\n"
     ]
    }
   ],
   "source": [
    "##Modefying  Dictionaries value \n",
    "## Dictionary are mutable ,so, you can add ,update or delete element\n",
    "\n",
    "print(student)\n",
    "\n",
    "student['class']='B-tech' # update value for the key\n",
    "print(student)\n",
    "\n",
    "student['Address']='Babaganj' ## added the new key and value\n",
    "print(student)\n",
    "\n"
   ]
  },
  {
   "cell_type": "code",
   "execution_count": 36,
   "id": "2c625c7e",
   "metadata": {},
   "outputs": [
    {
     "name": "stdout",
     "output_type": "stream",
     "text": [
      "dict_keys(['name', 'class', 'Pincode', 'drade', 'Address'])\n",
      "dict_values(['Avnish', 'B-tech', 262802, 'A', 'Babaganj'])\n",
      "dict_items([('name', 'Avnish'), ('class', 'B-tech'), ('Pincode', 262802), ('drade', 'A'), ('Address', 'Babaganj')])\n"
     ]
    }
   ],
   "source": [
    "keys=student.keys()           \n",
    "print(keys)\n",
    "\n",
    "values=student.values()\n",
    "print(values)\n",
    "\n",
    "items=student.items()\n",
    "print(items)"
   ]
  },
  {
   "cell_type": "code",
   "execution_count": 46,
   "id": "e94943ab",
   "metadata": {},
   "outputs": [
    {
     "name": "stdout",
     "output_type": "stream",
     "text": [
      "{'name': 'Avnish2', 'class': 'B-tech', 'Pincode': 262802, 'drade': 'A', 'Address': 'Babaganj'}\n",
      "{'name': 'Avnish2', 'class': 'B-tech', 'Pincode': 262802, 'drade': 'A', 'Address': 'Babaganj'}\n"
     ]
    }
   ],
   "source": [
    "##Shallow copy\n",
    "student_copy=student\n",
    "print(student)\n",
    "print(student_copy)\n",
    "\n",
    "\n"
   ]
  },
  {
   "cell_type": "code",
   "execution_count": 48,
   "id": "58a1e080",
   "metadata": {},
   "outputs": [
    {
     "name": "stdout",
     "output_type": "stream",
     "text": [
      "{'name': 'Avnish1', 'class': 'B-tech', 'Pincode': 262802, 'drade': 'A', 'Address': 'Babaganj'}\n",
      "{'name': 'Avnish1', 'class': 'B-tech', 'Pincode': 262802, 'drade': 'A', 'Address': 'Babaganj'}\n"
     ]
    }
   ],
   "source": [
    "student[\"name\"]='Avnish1'\n",
    "print(student)\n",
    "print(student_copy)"
   ]
  },
  {
   "cell_type": "code",
   "execution_count": 5,
   "id": "7972f9f2",
   "metadata": {},
   "outputs": [
    {
     "name": "stdout",
     "output_type": "stream",
     "text": [
      "{'name': 'Avnish', 'class': 12, 'Pincode': 262802, 'drade': 'A'}\n",
      "{'name': 'Avnish', 'class': 12, 'Pincode': 262802, 'drade': 'A'}\n"
     ]
    }
   ],
   "source": [
    "student={\"name\":\"Avnish\",\"class\":12,\"Pincode\":262802,\"drade\":'A'}\n",
    "student_copy1=student.copy()   ## shallow copy\n",
    "print(student_copy1)\n",
    "print(student)"
   ]
  },
  {
   "cell_type": "code",
   "execution_count": 13,
   "id": "b72a5917",
   "metadata": {},
   "outputs": [
    {
     "name": "stdout",
     "output_type": "stream",
     "text": [
      "name\n",
      "class\n",
      "Pincode\n",
      "drade\n",
      "Avnish\n",
      "12\n",
      "262802\n",
      "A\n",
      "name:Avnish\n",
      "class:12\n",
      "Pincode:262802\n",
      "drade:A\n"
     ]
    }
   ],
   "source": [
    "## iterating Over Dictionaries\n",
    "## Iterate over dictionaries ,key ,value\n",
    "\n",
    "for key in student.keys():\n",
    "    print(key)\n",
    "    \n",
    "for value in student.values():\n",
    "    print(value)   \n",
    "    \n",
    "for key,value in student.items():\n",
    "    print(f\"{key}:{value}\")     \n"
   ]
  },
  {
   "cell_type": "code",
   "execution_count": 15,
   "id": "8aa076bb",
   "metadata": {},
   "outputs": [
    {
     "name": "stdout",
     "output_type": "stream",
     "text": [
      "{'student1': {'name': 'Avnish', 'age': 19}, 'student2': {'name': 'ayush', 'age': 18}}\n"
     ]
    }
   ],
   "source": [
    "## Nested Dictionaries\n",
    "students={\n",
    "    \"student1\":{\"name\":\"Avnish\",\"age\":19},\n",
    "    \"student2\":{\"name\":\"ayush\",\"age\":18}\n",
    "}\n",
    "print(students)"
   ]
  },
  {
   "cell_type": "code",
   "execution_count": 17,
   "id": "925b83d0",
   "metadata": {},
   "outputs": [
    {
     "name": "stdout",
     "output_type": "stream",
     "text": [
      "Avnish\n",
      "18\n"
     ]
    }
   ],
   "source": [
    "# Access nested dictionaries element\n",
    "print(students[\"student1\"][\"name\"])\n",
    "print(students[\"student2\"][\"age\"])"
   ]
  },
  {
   "cell_type": "code",
   "execution_count": 21,
   "id": "1dd89134",
   "metadata": {},
   "outputs": [
    {
     "name": "stdout",
     "output_type": "stream",
     "text": [
      "student1:{'name': 'Avnish', 'age': 19}\n",
      "name:Avnish\n",
      "age:19\n",
      "student2:{'name': 'ayush', 'age': 18}\n",
      "name:ayush\n",
      "age:18\n"
     ]
    }
   ],
   "source": [
    "for student_id,student_info in students.items():\n",
    "    print(f\"{student_id}:{student_info}\")\n",
    "    for key,value in student_info.items():\n",
    "        print(f\"{key}:{value}\")"
   ]
  },
  {
   "cell_type": "code",
   "execution_count": 23,
   "id": "5c89c7f4",
   "metadata": {},
   "outputs": [
    {
     "name": "stdout",
     "output_type": "stream",
     "text": [
      "{0: 0, 1: 1, 2: 4, 3: 9, 4: 16}\n"
     ]
    }
   ],
   "source": [
    "# Dictionaries comprehension\n",
    "\n",
    "squres={x:x**2 for x in range(5)}\n",
    "print(squres)"
   ]
  },
  {
   "cell_type": "markdown",
   "id": "b3756730",
   "metadata": {},
   "source": [
    "Codition Dictionay Comprehension "
   ]
  },
  {
   "cell_type": "markdown",
   "id": "e63af47e",
   "metadata": {},
   "source": [
    "evens={x:x**2 for  x in range(10) if x%2==0}\n",
    "print(evens)"
   ]
  },
  {
   "cell_type": "code",
   "execution_count": null,
   "id": "d877b782",
   "metadata": {},
   "outputs": [],
   "source": []
  },
  {
   "cell_type": "code",
   "execution_count": 2,
   "id": "4e334851",
   "metadata": {},
   "outputs": [
    {
     "name": "stdout",
     "output_type": "stream",
     "text": [
      "{1: 1, 2: 2, 3: 3, 4: 4}\n"
     ]
    }
   ],
   "source": [
    "# prctical example \n",
    "\n",
    "## USe a dictionary to count the frequency of element in list\n",
    "\n",
    "numbers =[1,2,2,3,3,3,4,4,4,4]\n",
    "frequency={}\n",
    "\n",
    "for number in numbers:\n",
    "    if number in frequency:\n",
    "        frequency[number]+=1\n",
    "    else:\n",
    "        frequency[number]=1\n",
    "print(frequency)            "
   ]
  },
  {
   "cell_type": "code",
   "execution_count": 1,
   "id": "a691d8d9",
   "metadata": {},
   "outputs": [
    {
     "name": "stdout",
     "output_type": "stream",
     "text": [
      "{'a': 1, 'b': 2, 'c': 4, 'd': 5}\n"
     ]
    }
   ],
   "source": [
    "## Merge  2 dictionary into one\n",
    "dict1={\"a\":1,\"b\":2}\n",
    "dict2={\"c\":4,\"d\":5}\n",
    "merge_dict={**dict1,**dict2}\n",
    "print(merge_dict)"
   ]
  }
 ],
 "metadata": {
  "kernelspec": {
   "display_name": "Python 3",
   "language": "python",
   "name": "python3"
  },
  "language_info": {
   "codemirror_mode": {
    "name": "ipython",
    "version": 3
   },
   "file_extension": ".py",
   "mimetype": "text/x-python",
   "name": "python",
   "nbconvert_exporter": "python",
   "pygments_lexer": "ipython3",
   "version": "3.10.18"
  }
 },
 "nbformat": 4,
 "nbformat_minor": 5
}
