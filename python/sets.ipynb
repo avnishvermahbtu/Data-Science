{
 "cells": [
  {
   "cell_type": "code",
   "execution_count": 3,
   "id": "6917d442",
   "metadata": {},
   "outputs": [
    {
     "name": "stdout",
     "output_type": "stream",
     "text": [
      "{1, 2, 3, 4, 5}\n",
      "<class 'set'>\n"
     ]
    }
   ],
   "source": [
    "## create set\n",
    "my_set={1,2,3,4,5}\n",
    "print(my_set)\n",
    "print(type(my_set))"
   ]
  },
  {
   "cell_type": "code",
   "execution_count": null,
   "id": "0c5de1b9",
   "metadata": {},
   "outputs": [
    {
     "name": "stdout",
     "output_type": "stream",
     "text": [
      "<class 'set'>\n",
      "{3, 4, 6}\n",
      "{3, 6}\n"
     ]
    }
   ],
   "source": [
    "my_empty_set=set()\n",
    "my_empty_set.add(3)\n",
    "my_empty_set.add(4)\n",
    "my_empty_set.add(6)\n",
    "\n",
    "print(type(my_empty_set))\n",
    "print(my_empty_set)\n",
    "\n",
    "my_empty_set.remove(4)\n",
    "print(my_empty_set)\n",
    "\n",
    "# my_empty_set.remove(9)  this is give the error of code\n",
    "my_empty_set.discard(9)"
   ]
  },
  {
   "cell_type": "code",
   "execution_count": null,
   "id": "3991617a",
   "metadata": {},
   "outputs": [
    {
     "name": "stdout",
     "output_type": "stream",
     "text": [
      "1\n",
      "{2, 3, 4, 5, 6, 7}\n",
      "set()\n"
     ]
    }
   ],
   "source": [
    "## pop method -- remove the random element in the set\n",
    "my_set={1,2,3,4,5,6,7}\n",
    "removed_element=my_set.pop()\n",
    "print(removed_element)\n",
    "print(my_set)\n",
    "\n",
    "## clear the all elements\n",
    "my_set.clear()\n",
    "print(my_set)"
   ]
  },
  {
   "cell_type": "code",
   "execution_count": null,
   "id": "3a2156b6",
   "metadata": {},
   "outputs": [
    {
     "name": "stdout",
     "output_type": "stream",
     "text": [
      "True\n",
      "False\n"
     ]
    }
   ],
   "source": [
    "## set memebership test\n",
    "my_set={1,2,3,4,5,6,7}\n",
    "\n",
    "print(3 in my_set)\n",
    "\n",
    "print(10 in my_set)"
   ]
  },
  {
   "cell_type": "markdown",
   "id": "6de6b118",
   "metadata": {},
   "source": [
    "Mathematical Operator in set"
   ]
  },
  {
   "cell_type": "code",
   "execution_count": null,
   "id": "78d7ad57",
   "metadata": {},
   "outputs": [
    {
     "name": "stdout",
     "output_type": "stream",
     "text": [
      "{1, 2, 3, 4, 5, 6, 7, 8, 9}\n",
      "{4, 5, 6}\n",
      "{4, 5, 6}\n"
     ]
    }
   ],
   "source": [
    "set1={1,2,3,4,5,6}\n",
    "set2={4,5,6,7,8,9}\n",
    "\n",
    "### union\n",
    "Union_set=set1.union(set2)\n",
    "print(Union_set)\n",
    "\n",
    "## Intersection\n",
    "intersection_set=set1.intersection(set2)\n",
    "print(intersection_set)\n",
    "\n",
    "set1.intersection_update(set2)\n",
    "print(set1)   ## all element in set1 is  updated  \n",
    "\n"
   ]
  },
  {
   "cell_type": "code",
   "execution_count": 5,
   "id": "a19ac6a5",
   "metadata": {},
   "outputs": [
    {
     "name": "stdout",
     "output_type": "stream",
     "text": [
      "{1, 2, 3}\n",
      "{8, 9, 7}\n"
     ]
    }
   ],
   "source": [
    "set1={1,2,3,4,5,6}\n",
    "set2={4,5,6,7,8,9}\n",
    "\n",
    "print(set1.difference(set2))\n",
    "print(set2.difference(set1))"
   ]
  },
  {
   "cell_type": "markdown",
   "id": "c35ef98a",
   "metadata": {},
   "source": [
    "##Symmetric  Difference "
   ]
  },
  {
   "cell_type": "code",
   "execution_count": null,
   "id": "9d9e6342",
   "metadata": {},
   "outputs": [
    {
     "name": "stdout",
     "output_type": "stream",
     "text": [
      "{1, 2, 3, 7, 8, 9}\n"
     ]
    }
   ],
   "source": [
    "print(set1.symmetric_difference(set2)) ## both the set uniqe element is combined common element is remove"
   ]
  },
  {
   "cell_type": "markdown",
   "id": "9a52d895",
   "metadata": {},
   "source": [
    "## Sets Method"
   ]
  },
  {
   "cell_type": "code",
   "execution_count": 12,
   "id": "8a19f531",
   "metadata": {},
   "outputs": [
    {
     "name": "stdout",
     "output_type": "stream",
     "text": [
      "False\n",
      "False\n"
     ]
    }
   ],
   "source": [
    "## sets method\n",
    "set1={1,2,3}\n",
    "set2={3,4,5}\n",
    "\n",
    "# is subset\n",
    "print(set1.issubset(set2))\n",
    "\n",
    "print(set1.issuperset(set2))"
   ]
  },
  {
   "cell_type": "code",
   "execution_count": 2,
   "id": "9da82305",
   "metadata": {},
   "outputs": [
    {
     "data": {
      "text/plain": [
       "{1, 2, 3, 4, 5}"
      ]
     },
     "execution_count": 2,
     "metadata": {},
     "output_type": "execute_result"
    }
   ],
   "source": [
    "list=[1,2,2,3,4,4,5]\n",
    "\n",
    "set(list)\n"
   ]
  },
  {
   "cell_type": "code",
   "execution_count": 5,
   "id": "471955aa",
   "metadata": {},
   "outputs": [
    {
     "name": "stdout",
     "output_type": "stream",
     "text": [
      "['In', 'this', 'tutorial', 'are', 'discussing', 'about', 'sets']\n",
      "{'tutorial', 'this', 'sets', 'discussing', 'are', 'In', 'about'}\n",
      "7\n"
     ]
    }
   ],
   "source": [
    "## Counting Unique words in text\n",
    "\n",
    "text=\"In this tutorial are discussing about sets\"\n",
    "words=text.split()\n",
    "print(words)\n",
    "\n",
    "## Convert list of words to set to get unique words\n",
    "unique_words=set(words)\n",
    "print(unique_words)\n",
    "print(len(unique_words)) "
   ]
  }
 ],
 "metadata": {
  "kernelspec": {
   "display_name": "Python 3",
   "language": "python",
   "name": "python3"
  },
  "language_info": {
   "codemirror_mode": {
    "name": "ipython",
    "version": 3
   },
   "file_extension": ".py",
   "mimetype": "text/x-python",
   "name": "python",
   "nbconvert_exporter": "python",
   "pygments_lexer": "ipython3",
   "version": "3.10.18"
  }
 },
 "nbformat": 4,
 "nbformat_minor": 5
}
