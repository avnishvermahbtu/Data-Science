{
 "cells": [
  {
   "cell_type": "code",
   "execution_count": 13,
   "id": "5cadad96",
   "metadata": {},
   "outputs": [
    {
     "name": "stdout",
     "output_type": "stream",
     "text": [
      "Hello\n"
     ]
    }
   ],
   "source": [
    "## common error\n",
    "#result=\"hello\"+5  this error\n",
    "result=\"Hello\"\n",
    "print(result)"
   ]
  },
  {
   "cell_type": "code",
   "execution_count": 14,
   "id": "36b68982",
   "metadata": {},
   "outputs": [
    {
     "name": "stdout",
     "output_type": "stream",
     "text": [
      "2\n",
      "100000\n"
     ]
    }
   ],
   "source": [
    "##floor division \n",
    "a=10\n",
    "b=5\n",
    "floor_div_result=a//b\n",
    "print(floor_div_result)\n",
    "exponent_result=a**b   #a^b is equal\n",
    "print(exponent_result)\n"
   ]
  },
  {
   "cell_type": "markdown",
   "id": "50875d12",
   "metadata": {},
   "source": [
    "###LogicalOperator"
   ]
  },
  {
   "cell_type": "code",
   "execution_count": 16,
   "id": "ea5b0b3a",
   "metadata": {},
   "outputs": [
    {
     "data": {
      "text/plain": [
       "False"
      ]
     },
     "execution_count": 16,
     "metadata": {},
     "output_type": "execute_result"
    }
   ],
   "source": [
    "## not or and\n",
    "X=True\n",
    "not X"
   ]
  },
  {
   "cell_type": "markdown",
   "id": "cac7457c",
   "metadata": {},
   "source": [
    "Nested Lopp"
   ]
  },
  {
   "cell_type": "code",
   "execution_count": 18,
   "id": "d1694021",
   "metadata": {},
   "outputs": [
    {
     "name": "stdout",
     "output_type": "stream",
     "text": [
      " 2024 is a leap year\n"
     ]
    }
   ],
   "source": [
    "## practice example\n",
    "year=int(input(\"Enter the year\"))\n",
    "if year%4==0:\n",
    "    if year%100==0:\n",
    "        if year%400==0:\n",
    "            print(f\" {year} is leap year\")\n",
    "        else:\n",
    "            print(f\" {year} is not leap year\")\n",
    "    else:\n",
    "        print(f\" {year} is a leap year\")\n",
    "else:\n",
    "    print(f\" {year} is not leap year\")                    "
   ]
  },
  {
   "cell_type": "markdown",
   "id": "9ab19355",
   "metadata": {},
   "source": [
    "Calculator"
   ]
  },
  {
   "cell_type": "code",
   "execution_count": 4,
   "id": "584e5683",
   "metadata": {},
   "outputs": [
    {
     "name": "stdout",
     "output_type": "stream",
     "text": [
      "109125000.0\n"
     ]
    }
   ],
   "source": [
    "num1=float(input(\"Enter the  firstn umber\"))\n",
    "num2=float(input(\"Enter the second number\"))\n",
    "operator=input(\"+,-,*,%,/\")\n",
    "\n",
    "if operator=='+':\n",
    "    result=num1+num2\n",
    "elif operator=='-':\n",
    "    result==num1-num2\n",
    "elif operator=='*':\n",
    "    result=num1*num2\n",
    "elif operator=='/':\n",
    "    if num2!=0:\n",
    "        result=num1/num2\n",
    "    else:\n",
    "        result=\"Error ! Division by zero\"\n",
    "elif operator=='%' :\n",
    "    if num1%num2==0:\n",
    "        result=\"num2 is factor of num1\"\n",
    "    else:\n",
    "        result=\"num2 is not factor of num1\"                           \n",
    "else:\n",
    "    result=\"Invalid operation\"   \n",
    "    \n",
    "print(result)     "
   ]
  },
  {
   "cell_type": "markdown",
   "id": "f2d32af7",
   "metadata": {},
   "source": [
    "Loop"
   ]
  },
  {
   "cell_type": "code",
   "execution_count": 22,
   "id": "74d9d534",
   "metadata": {},
   "outputs": [
    {
     "data": {
      "text/plain": [
       "range(0, 5)"
      ]
     },
     "execution_count": 22,
     "metadata": {},
     "output_type": "execute_result"
    }
   ],
   "source": [
    "range(5)"
   ]
  },
  {
   "cell_type": "code",
   "execution_count": 24,
   "id": "05da1a9a",
   "metadata": {},
   "outputs": [
    {
     "name": "stdout",
     "output_type": "stream",
     "text": [
      "0\n",
      "1\n",
      "2\n",
      "3\n",
      "4\n"
     ]
    }
   ],
   "source": [
    "for i in range(5):\n",
    "    print(i)"
   ]
  },
  {
   "cell_type": "code",
   "execution_count": 28,
   "id": "886dd542",
   "metadata": {},
   "outputs": [
    {
     "name": "stdout",
     "output_type": "stream",
     "text": [
      "1\n",
      "2\n",
      "3\n",
      "4\n",
      "5\n",
      "6\n",
      "7\n",
      "8\n",
      "9\n"
     ]
    }
   ],
   "source": [
    "for i in range(1,10,1):  # third number is step parameter\n",
    "    print(i)"
   ]
  },
  {
   "cell_type": "code",
   "execution_count": 29,
   "id": "b0c4be32",
   "metadata": {},
   "outputs": [
    {
     "name": "stdout",
     "output_type": "stream",
     "text": [
      "1\n",
      "3\n",
      "5\n",
      "7\n",
      "9\n"
     ]
    }
   ],
   "source": [
    "for i in range(1,10,2):\n",
    "    print(i)"
   ]
  },
  {
   "cell_type": "code",
   "execution_count": null,
   "id": "e73e235b",
   "metadata": {},
   "outputs": [
    {
     "name": "stdout",
     "output_type": "stream",
     "text": [
      "A\n",
      "v\n",
      "n\n",
      "i\n",
      "s\n",
      "h\n",
      " \n",
      "V\n",
      "e\n",
      "r\n",
      "m\n",
      "a\n"
     ]
    }
   ],
   "source": [
    "## String \n",
    "str=\"Avnish Verma\"\n",
    "for i in str:\n",
    "    print(i)"
   ]
  },
  {
   "cell_type": "markdown",
   "id": "69182569",
   "metadata": {},
   "source": [
    "Pass satement"
   ]
  },
  {
   "cell_type": "code",
   "execution_count": 1,
   "id": "dc5cf3c3",
   "metadata": {},
   "outputs": [
    {
     "name": "stdout",
     "output_type": "stream",
     "text": [
      "0\n",
      "1\n",
      "2\n",
      "3\n",
      "4\n"
     ]
    }
   ],
   "source": [
    "## pass\n",
    "# The pass statement is a null operation ; it does nothing\n",
    "for i in range(5):\n",
    "    if i==3:\n",
    "        pass              \n",
    "    print(i)"
   ]
  },
  {
   "cell_type": "markdown",
   "id": "9e87d42a",
   "metadata": {},
   "source": [
    "List"
   ]
  },
  {
   "cell_type": "code",
   "execution_count": 3,
   "id": "c7f92ed6",
   "metadata": {},
   "outputs": [
    {
     "name": "stdout",
     "output_type": "stream",
     "text": [
      "Apple\n",
      "cherry\n"
     ]
    }
   ],
   "source": [
    "list=[\"Apple\",\"banana\",\"cherry\",\"gauva\"]\n",
    "print(list[0])\n",
    "print(list[2])"
   ]
  },
  {
   "cell_type": "code",
   "execution_count": 18,
   "id": "1f2d4e66",
   "metadata": {},
   "outputs": [
    {
     "name": "stdout",
     "output_type": "stream",
     "text": [
      "['Apple', 'amrood', 'amrood', 'banana', 'cherry', 'mango', 'mango', 'mango', 'mango', 'mango']\n"
     ]
    }
   ],
   "source": [
    "list.append(\"mango\")\n",
    "print(list)"
   ]
  },
  {
   "cell_type": "code",
   "execution_count": 7,
   "id": "3b6105d1",
   "metadata": {},
   "outputs": [
    {
     "name": "stdout",
     "output_type": "stream",
     "text": [
      "['Apple', 'amrood', 'amrood', 'banana', 'cherry', 'gauva', 'mango', 'mango']\n"
     ]
    }
   ],
   "source": [
    "list.insert(1,\"amrood\")\n",
    "print(list)"
   ]
  },
  {
   "cell_type": "code",
   "execution_count": 14,
   "id": "4b7e6538",
   "metadata": {},
   "outputs": [
    {
     "name": "stdout",
     "output_type": "stream",
     "text": [
      "['Apple', 'amrood', 'amrood', 'banana', 'cherry', 'mango']\n"
     ]
    }
   ],
   "source": [
    "list.remove(\"mango\")\n",
    "print(list)"
   ]
  },
  {
   "cell_type": "markdown",
   "id": "9ed53278",
   "metadata": {},
   "source": [
    "pop"
   ]
  },
  {
   "cell_type": "code",
   "execution_count": 20,
   "id": "94dd08f1",
   "metadata": {},
   "outputs": [
    {
     "name": "stdout",
     "output_type": "stream",
     "text": [
      "mango\n",
      "['Apple', 'amrood', 'amrood', 'banana', 'cherry', 'mango', 'mango', 'mango']\n"
     ]
    }
   ],
   "source": [
    "## Remove and return the last element \n",
    "l= list.pop()\n",
    "print(l)\n",
    "print(list)"
   ]
  },
  {
   "cell_type": "code",
   "execution_count": 22,
   "id": "4dc6f445",
   "metadata": {},
   "outputs": [
    {
     "name": "stdout",
     "output_type": "stream",
     "text": [
      "['Apple', 'amrood', 'amrood', 'banana', 'cherry', 'mango', 'mango', 'mango']\n"
     ]
    }
   ],
   "source": [
    "list.reverse()\n",
    "print(list)"
   ]
  },
  {
   "cell_type": "markdown",
   "id": "b9a2f49a",
   "metadata": {},
   "source": [
    "Slicing"
   ]
  },
  {
   "cell_type": "code",
   "execution_count": null,
   "id": "c3fb0503",
   "metadata": {},
   "outputs": [
    {
     "name": "stdout",
     "output_type": "stream",
     "text": [
      "[3, 4, 5]\n",
      "[1, 2, 3, 4, 5]\n",
      "[6, 7, 8, 9, 10]\n",
      "[1, 3, 5, 7, 9]\n",
      "[10, 9, 8, 7, 6, 5, 4, 3, 2, 1]\n"
     ]
    }
   ],
   "source": [
    "numbers=[1,2,3,4,5,6,7,8,9,10]\n",
    "print(numbers[2:5])\n",
    "print(numbers[:5])\n",
    "print(numbers[5:])\n",
    "print(numbers[::2])\n",
    "print(numbers[::-1])  ## use  reverse the numbers \n"
   ]
  },
  {
   "cell_type": "code",
   "execution_count": 4,
   "id": "545b03f9",
   "metadata": {},
   "outputs": [
    {
     "name": "stdout",
     "output_type": "stream",
     "text": [
      "1\n",
      "2\n",
      "3\n",
      "4\n",
      "5\n",
      "6\n",
      "7\n",
      "8\n",
      "9\n",
      "10\n"
     ]
    }
   ],
   "source": [
    "numbers=[1,2,3,4,5,6,7,8,9,10]\n",
    "for i in numbers:\n",
    "    print(i)\n",
    "    \n",
    "    "
   ]
  },
  {
   "cell_type": "code",
   "execution_count": 12,
   "id": "f6b15b2c",
   "metadata": {},
   "outputs": [
    {
     "name": "stdout",
     "output_type": "stream",
     "text": [
      "0 1\n",
      "1 2\n",
      "2 3\n",
      "3 4\n",
      "4 5\n",
      "5 6\n",
      "6 7\n",
      "7 8\n",
      "8 9\n",
      "9 10\n"
     ]
    }
   ],
   "source": [
    "## Iterate the list\n",
    "list=[1,2,3,4,5,6,7,8,9,10]\n",
    "for index,i in enumerate(list):\n",
    "    print(index,i)"
   ]
  },
  {
   "cell_type": "markdown",
   "id": "e7489578",
   "metadata": {},
   "source": [
    "Comprehension"
   ]
  },
  {
   "cell_type": "code",
   "execution_count": 13,
   "id": "09808d98",
   "metadata": {},
   "outputs": [
    {
     "data": {
      "text/plain": [
       "[0, 1, 4, 9, 16, 25, 36, 49, 64, 81]"
      ]
     },
     "execution_count": 13,
     "metadata": {},
     "output_type": "execute_result"
    }
   ],
   "source": [
    "## List Comprehen\n",
    "[i**2 for i in range(10)]"
   ]
  },
  {
   "cell_type": "code",
   "execution_count": 15,
   "id": "2b4e6864",
   "metadata": {},
   "outputs": [
    {
     "name": "stdout",
     "output_type": "stream",
     "text": [
      "[0, 2, 4, 6, 8]\n"
     ]
    }
   ],
   "source": [
    "# List Comprehen on if condition\n",
    "even_number= [num for num in range(10) if num%2==0]\n",
    "print(even_number)"
   ]
  },
  {
   "cell_type": "code",
   "execution_count": null,
   "id": "cde470c8",
   "metadata": {},
   "outputs": [
    {
     "name": "stdout",
     "output_type": "stream",
     "text": [
      "[5, 5, 6, 4, 13]\n"
     ]
    }
   ],
   "source": [
    "## List Comprehension with function calls\n",
    "words=[\"Hello\",\"world\",\"python\",\"list\",\"comprehension\"]\n",
    "length=[len(word) for word in words] \n",
    "\n",
    "print(length)"
   ]
  }
 ],
 "metadata": {
  "kernelspec": {
   "display_name": "Python 3",
   "language": "python",
   "name": "python3"
  },
  "language_info": {
   "codemirror_mode": {
    "name": "ipython",
    "version": 3
   },
   "file_extension": ".py",
   "mimetype": "text/x-python",
   "name": "python",
   "nbconvert_exporter": "python",
   "pygments_lexer": "ipython3",
   "version": "3.10.18"
  }
 },
 "nbformat": 4,
 "nbformat_minor": 5
}
