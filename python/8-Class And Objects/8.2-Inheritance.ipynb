{
 "cells": [
  {
   "cell_type": "code",
   "execution_count": 1,
   "id": "4d65b776",
   "metadata": {},
   "outputs": [],
   "source": [
    "## Inheritance\n",
    "# Parent class\n",
    "\n",
    "class Car:   \n",
    "    def __init__(self,windows,doors,enginetype):\n",
    "        self.windows=windows\n",
    "        self.doors=doors\n",
    "        self.enginetype=enginetype\n",
    "    \n",
    "    def drive(self):\n",
    "           print(f\"The person will drie the {self.enginetype} car\")\n",
    "           "
   ]
  },
  {
   "cell_type": "code",
   "execution_count": 3,
   "id": "70ce5bdd",
   "metadata": {},
   "outputs": [
    {
     "name": "stdout",
     "output_type": "stream",
     "text": [
      "The person will drie the petrol car\n"
     ]
    }
   ],
   "source": [
    "car1=Car(4,5,'petrol')\n",
    "car1.drive()"
   ]
  },
  {
   "cell_type": "code",
   "execution_count": null,
   "id": "04025087",
   "metadata": {},
   "outputs": [],
   "source": [
    "## Inheritance class\n",
    "\n",
    "## Inheritance\n",
    "# Parent class\n",
    "\n",
    "class Car:   \n",
    "    def __init__(self,windows,doors,enginetype):\n",
    "        self.windows=windows\n",
    "        self.doors=doors\n",
    "        self.enginetype=enginetype\n",
    "    \n",
    "    def drive(self):\n",
    "           print(f\"The person will drie the {self.enginetype} car\")\n",
    "class Tesla(Car):\n",
    "    def __init__(self, windows, doors, enginetype, is_seldriving):\n",
    "        super().__init__(windows, doors, enginetype) ## not use self aru\n",
    "        self.is_selfdriving=is_selfdriving\n",
    "        \n",
    "    def selfdriving(self):\n",
    "        print(f\"Tesla supports self driving: {self.is_selfdriving}\")     "
   ]
  },
  {
   "cell_type": "code",
   "execution_count": 3,
   "id": "59345c3c",
   "metadata": {},
   "outputs": [
    {
     "ename": "NameError",
     "evalue": "name 'is_selfdriving' is not defined",
     "output_type": "error",
     "traceback": [
      "\u001b[1;31m---------------------------------------------------------------------------\u001b[0m",
      "\u001b[1;31mNameError\u001b[0m                                 Traceback (most recent call last)",
      "Cell \u001b[1;32mIn[3], line 1\u001b[0m\n\u001b[1;32m----> 1\u001b[0m tesla1\u001b[38;5;241m=\u001b[39m\u001b[43mTesla\u001b[49m\u001b[43m(\u001b[49m\u001b[38;5;241;43m4\u001b[39;49m\u001b[43m,\u001b[49m\u001b[38;5;241;43m5\u001b[39;49m\u001b[43m,\u001b[49m\u001b[38;5;124;43m\"\u001b[39;49m\u001b[38;5;124;43melctric\u001b[39;49m\u001b[38;5;124;43m\"\u001b[39;49m\u001b[43m,\u001b[49m\u001b[38;5;28;43;01mTrue\u001b[39;49;00m\u001b[43m)\u001b[49m\n",
      "Cell \u001b[1;32mIn[2], line 17\u001b[0m, in \u001b[0;36mTesla.__init__\u001b[1;34m(self, windows, doors, enginetype, is_seldriving)\u001b[0m\n\u001b[0;32m     15\u001b[0m \u001b[38;5;28;01mdef\u001b[39;00m\u001b[38;5;250m \u001b[39m\u001b[38;5;21m__init__\u001b[39m(\u001b[38;5;28mself\u001b[39m, windows, doors, enginetype, is_seldriving):\n\u001b[0;32m     16\u001b[0m     \u001b[38;5;28msuper\u001b[39m()\u001b[38;5;241m.\u001b[39m\u001b[38;5;21m__init__\u001b[39m(windows, doors, enginetype)\n\u001b[1;32m---> 17\u001b[0m     \u001b[38;5;28mself\u001b[39m\u001b[38;5;241m.\u001b[39mis_selfdriving\u001b[38;5;241m=\u001b[39m\u001b[43mis_selfdriving\u001b[49m\n",
      "\u001b[1;31mNameError\u001b[0m: name 'is_selfdriving' is not defined"
     ]
    }
   ],
   "source": [
    "tesla1=Tesla(4,5,\"elctric\",True)"
   ]
  },
  {
   "cell_type": "code",
   "execution_count": 9,
   "id": "2a6cc0db",
   "metadata": {},
   "outputs": [
    {
     "name": "stdout",
     "output_type": "stream",
     "text": [
      "Walking...\n",
      "Running...\n",
      "Training for 5 hours.\n"
     ]
    }
   ],
   "source": [
    "## Multiple inheritance \n",
    "class Walker:\n",
    "    def walk(self):\n",
    "        print(\"Walking...\")\n",
    "\n",
    "class Runner:\n",
    "    def run(self):\n",
    "        print(\"Running...\")\n",
    "\n",
    "class Athlete(Walker, Runner):\n",
    "    def __init__(self, training_hours):\n",
    "        self.training_hours = training_hours\n",
    "\n",
    "    def train(self):\n",
    "        print(f\"Training for {self.training_hours} hours.\")\n",
    "\n",
    "\n",
    "# Test\n",
    "athlete = Athlete(5)\n",
    "athlete.walk()\n",
    "athlete.run()\n",
    "athlete.train()"
   ]
  },
  {
   "cell_type": "code",
   "execution_count": 10,
   "id": "662b1132",
   "metadata": {},
   "outputs": [
    {
     "name": "stdout",
     "output_type": "stream",
     "text": [
      "John M123\n"
     ]
    }
   ],
   "source": [
    "class Person:\n",
    "    def __init__(self, name):\n",
    "        self.name = name\n",
    "\n",
    "class Employee:\n",
    "    def __init__(self, employee_id):\n",
    "        self.employee_id = employee_id\n",
    "\n",
    "class Manager(Person, Employee):\n",
    "    def __init__(self, name, employee_id):\n",
    "        super().__init__(name)\n",
    "        Employee.__init__(self, employee_id)\n",
    "\n",
    "# Test\n",
    "manager = Manager('John', 'M123')\n",
    "print(manager.name, manager.employee_id)"
   ]
  },
  {
   "cell_type": "code",
   "execution_count": 12,
   "id": "7a84c77c",
   "metadata": {},
   "outputs": [
    {
     "name": "stdout",
     "output_type": "stream",
     "text": [
      "1 2 3\n"
     ]
    }
   ],
   "source": [
    "class Base1:\n",
    "    def __init__(self, a):\n",
    "        self.a = a\n",
    "\n",
    "class Base2:\n",
    "    def __init__(self, b):\n",
    "        self.b = b\n",
    "\n",
    "class Derived(Base1, Base2):\n",
    "    def __init__(self, a, b, c):\n",
    "        super().__init__(a)\n",
    "        Base2.__init__(self, b)\n",
    "        self.c = c\n",
    "\n",
    "# Test\n",
    "derived = Derived(1, 2, 3)\n",
    "print(derived.a, derived.b, derived.c)"
   ]
  },
  {
   "cell_type": "code",
   "execution_count": null,
   "id": "f15159f0",
   "metadata": {},
   "outputs": [],
   "source": [
    "class Device:\n",
    "    def __init__(self, brand):\n",
    "        self.brand = brand\n",
    "\n",
    "class Phone(Device):\n",
    "    def __init__(self, brand, model):\n",
    "        super().__init__(brand)\n",
    "        self.model = model\n",
    "\n",
    "class Camera:\n",
    "    def __init__(self, resolution):\n",
    "        self.resolution = resolution\n",
    "\n",
    "class Smartphone(Phone, Camera):\n",
    "    def __init__(self, brand, model, resolution):\n",
    "        Phone.__init__(self, brand, model)\n",
    "        Camera.__init__(self, resolution)\n",
    "\n",
    "# Test\n",
    "# smartphone = Smartphone('Apple', 'iPhone 12', '12 MP')\n",
    "# print(smartphone.brand, smartphone.model, smartphone.resolution)"
   ]
  }
 ],
 "metadata": {
  "kernelspec": {
   "display_name": "Python 3",
   "language": "python",
   "name": "python3"
  },
  "language_info": {
   "codemirror_mode": {
    "name": "ipython",
    "version": 3
   },
   "file_extension": ".py",
   "mimetype": "text/x-python",
   "name": "python",
   "nbconvert_exporter": "python",
   "pygments_lexer": "ipython3",
   "version": "3.10.18"
  }
 },
 "nbformat": 4,
 "nbformat_minor": 5
}
