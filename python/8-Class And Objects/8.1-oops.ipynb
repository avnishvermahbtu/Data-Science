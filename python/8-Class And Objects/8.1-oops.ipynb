{
 "cells": [
  {
   "cell_type": "code",
   "execution_count": 2,
   "id": "2ecd8b77",
   "metadata": {},
   "outputs": [
    {
     "name": "stdout",
     "output_type": "stream",
     "text": [
      "<class '__main__.car'>\n",
      "<__main__.car object at 0x0000024256D4F970>\n"
     ]
    }
   ],
   "source": [
    "class car:\n",
    "    pass\n",
    "audi=car()\n",
    "bmw=car()\n",
    "print(type(audi))\n",
    "print(audi)"
   ]
  },
  {
   "cell_type": "code",
   "execution_count": 4,
   "id": "2156bc00",
   "metadata": {},
   "outputs": [
    {
     "name": "stdout",
     "output_type": "stream",
     "text": [
      "4\n"
     ]
    }
   ],
   "source": [
    "audi.window=4\n",
    "print(audi.window)"
   ]
  },
  {
   "cell_type": "code",
   "execution_count": 6,
   "id": "1b805e2b",
   "metadata": {},
   "outputs": [
    {
     "data": {
      "text/plain": [
       "['__class__',\n",
       " '__delattr__',\n",
       " '__dict__',\n",
       " '__dir__',\n",
       " '__doc__',\n",
       " '__eq__',\n",
       " '__format__',\n",
       " '__ge__',\n",
       " '__getattribute__',\n",
       " '__gt__',\n",
       " '__hash__',\n",
       " '__init__',\n",
       " '__init_subclass__',\n",
       " '__le__',\n",
       " '__lt__',\n",
       " '__module__',\n",
       " '__ne__',\n",
       " '__new__',\n",
       " '__reduce__',\n",
       " '__reduce_ex__',\n",
       " '__repr__',\n",
       " '__setattr__',\n",
       " '__sizeof__',\n",
       " '__str__',\n",
       " '__subclasshook__',\n",
       " '__weakref__']"
      ]
     },
     "execution_count": 6,
     "metadata": {},
     "output_type": "execute_result"
    }
   ],
   "source": [
    "tata=car()\n",
    "dir(tata)"
   ]
  },
  {
   "cell_type": "code",
   "execution_count": 1,
   "id": "c7b8ac3b",
   "metadata": {},
   "outputs": [
    {
     "name": "stdout",
     "output_type": "stream",
     "text": [
      "I am constructor of class Dog\n",
      "<__main__.Dog object at 0x00000247FB55EE60>\n",
      "Avnish\n",
      "35\n"
     ]
    }
   ],
   "source": [
    "## Instance Variable and Method\n",
    "class Dog:\n",
    "    ## constructor\n",
    "    def __init__(self,name,age):\n",
    "        self.name=name\n",
    "        self.age=age\n",
    "        print(\"I am constructor of class Dog\")\n",
    "\n",
    "\n",
    "dog1=Dog('Avnish',35)\n",
    "print(dog1)\n",
    "print(dog1.name)    \n",
    "print(dog1.age)    "
   ]
  },
  {
   "cell_type": "code",
   "execution_count": 14,
   "id": "901bfda6",
   "metadata": {},
   "outputs": [
    {
     "name": "stdout",
     "output_type": "stream",
     "text": [
      "5000\n",
      "200 is withdraw .New balance is 4800\n"
     ]
    }
   ],
   "source": [
    "## Modeling a Bank Account\n",
    "\n",
    "class BankAccount:\n",
    "    def __init__(self,owner,balance=0):\n",
    "        self.owner=owner\n",
    "        self.balance=balance\n",
    "        \n",
    "    def deposit (self,amount):\n",
    "        self.balance+=amount\n",
    "        print(f\"{amount} is deposited .New balanced is {self.amount}\")\n",
    "        \n",
    "    def withdraw(self,amount):\n",
    "        if amount>self.balance:\n",
    "            print(\"Insufficient fund!\")\n",
    "        else:\n",
    "            self.balance-=amount    \n",
    "            print(f\"{amount} is withdraw .New balance is {self.balance}\")\n",
    "            \n",
    "account=BankAccount('Avnish ',5000) \n",
    "print(account.balance)\n",
    "account.withdraw(200)\n",
    "# account.balance(479)\n",
    "            \n",
    "        "
   ]
  },
  {
   "cell_type": "code",
   "execution_count": null,
   "id": "de9dc169",
   "metadata": {},
   "outputs": [],
   "source": []
  }
 ],
 "metadata": {
  "kernelspec": {
   "display_name": "Python 3",
   "language": "python",
   "name": "python3"
  },
  "language_info": {
   "codemirror_mode": {
    "name": "ipython",
    "version": 3
   },
   "file_extension": ".py",
   "mimetype": "text/x-python",
   "name": "python",
   "nbconvert_exporter": "python",
   "pygments_lexer": "ipython3",
   "version": "3.10.18"
  }
 },
 "nbformat": 4,
 "nbformat_minor": 5
}
