{
 "cells": [
  {
   "cell_type": "markdown",
   "id": "e487d77f",
   "metadata": {},
   "source": [
    "Abstraction"
   ]
  },
  {
   "cell_type": "markdown",
   "id": "60af3b39",
   "metadata": {},
   "source": [
    "Abstraction is the concept of hiding the complex implementation details and showing only the necessary features of an object .This in reducing programming complexity and effort."
   ]
  },
  {
   "cell_type": "code",
   "execution_count": null,
   "id": "6b6fdb18",
   "metadata": {},
   "outputs": [
    {
     "name": "stdout",
     "output_type": "stream",
     "text": [
      "Car engine started \n"
     ]
    }
   ],
   "source": [
    "# Import required modules\n",
    "\n",
    "from abc import ABC, abstractmethod\n",
    "\n",
    "# Create abstract base class\n",
    "class Vehicle(ABC):\n",
    "    def drive(self):\n",
    "        print(\"The vehicle is used for driving \")\n",
    "        \n",
    "      # Create abstract method \n",
    "    @abstractmethod\n",
    "    def start_engine(self):\n",
    "        pass\n",
    "    \n",
    "class Car(Vehicle):\n",
    "    def start_engine(self):\n",
    "        print(\"Car engine started \")\n",
    "\n",
    "def operate_vehicle(vehicle):\n",
    "       vehicle.start_engine()\n",
    "       \n",
    "car=Car()                    \n",
    "operate_vehicle(car) \n",
    "       "
   ]
  }
 ],
 "metadata": {
  "kernelspec": {
   "display_name": "Python 3",
   "language": "python",
   "name": "python3"
  },
  "language_info": {
   "codemirror_mode": {
    "name": "ipython",
    "version": 3
   },
   "file_extension": ".py",
   "mimetype": "text/x-python",
   "name": "python",
   "nbconvert_exporter": "python",
   "pygments_lexer": "ipython3",
   "version": "3.10.18"
  }
 },
 "nbformat": 4,
 "nbformat_minor": 5
}
