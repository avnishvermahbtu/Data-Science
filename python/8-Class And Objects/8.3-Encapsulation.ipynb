{
 "cells": [
  {
   "cell_type": "markdown",
   "id": "7d946e88",
   "metadata": {},
   "source": [
    "Public Method"
   ]
  },
  {
   "cell_type": "markdown",
   "id": "1e83ad16",
   "metadata": {},
   "source": [
    "Public members are accessible from anywhere, both inside and outside the class. These are the default members in Python"
   ]
  },
  {
   "cell_type": "code",
   "execution_count": 7,
   "id": "c9e67197",
   "metadata": {},
   "outputs": [
    {
     "name": "stdout",
     "output_type": "stream",
     "text": [
      "Avnish\n"
     ]
    },
    {
     "data": {
      "text/plain": [
       "'Avnish'"
      ]
     },
     "execution_count": 7,
     "metadata": {},
     "output_type": "execute_result"
    }
   ],
   "source": [
    "\n",
    "## Encapsulation with Getter and Setter Method\n",
    "## Public,Protected,private variable or acess modifiers\n",
    "\n",
    "class Person:\n",
    "    def __init__ (self,name,age):\n",
    "        self.name=name   # Public variables\n",
    "        self.age=age\n",
    "def get_name(person) :\n",
    "    return person.name\n",
    "       \n",
    "person=Person('Avnish',20)        \n",
    "print(person.name) \n",
    "get_name(person)       \n"
   ]
  },
  {
   "cell_type": "code",
   "execution_count": 2,
   "id": "31a808b4",
   "metadata": {},
   "outputs": [
    {
     "data": {
      "text/plain": [
       "['__class__',\n",
       " '__delattr__',\n",
       " '__dict__',\n",
       " '__dir__',\n",
       " '__doc__',\n",
       " '__eq__',\n",
       " '__format__',\n",
       " '__ge__',\n",
       " '__getattribute__',\n",
       " '__gt__',\n",
       " '__hash__',\n",
       " '__init__',\n",
       " '__init_subclass__',\n",
       " '__le__',\n",
       " '__lt__',\n",
       " '__module__',\n",
       " '__ne__',\n",
       " '__new__',\n",
       " '__reduce__',\n",
       " '__reduce_ex__',\n",
       " '__repr__',\n",
       " '__setattr__',\n",
       " '__sizeof__',\n",
       " '__str__',\n",
       " '__subclasshook__',\n",
       " '__weakref__',\n",
       " 'age',\n",
       " 'name']"
      ]
     },
     "execution_count": 2,
     "metadata": {},
     "output_type": "execute_result"
    }
   ],
   "source": [
    "dir(person)"
   ]
  },
  {
   "cell_type": "markdown",
   "id": "7f1f9419",
   "metadata": {},
   "source": [
    "Private members\n"
   ]
  },
  {
   "cell_type": "markdown",
   "id": "328ae4d1",
   "metadata": {},
   "source": [
    "Private members are identified with a double underscore (__) and cannot be accessed directly from outside the class. Python uses name mangling to make private members inaccessible by renaming them internally."
   ]
  },
  {
   "cell_type": "code",
   "execution_count": 13,
   "id": "c9410d9b",
   "metadata": {},
   "outputs": [
    {
     "name": "stdout",
     "output_type": "stream",
     "text": [
      "Avnish\n"
     ]
    }
   ],
   "source": [
    "class Person:\n",
    "    def __init__ (self,name,age,gender):\n",
    "        self.__name=name   # Private  variables can not be acess out the class\n",
    "        self.__age=age\n",
    "        self.gender=gender\n",
    "    def get_name(self) :\n",
    "       return self.__name\n",
    "       \n",
    "person=Person('Avnish',20,'male')        \n",
    "print(person.get_name())\n",
    "\n"
   ]
  },
  {
   "cell_type": "code",
   "execution_count": 4,
   "id": "28534fe2",
   "metadata": {},
   "outputs": [
    {
     "data": {
      "text/plain": [
       "['_Person__age',\n",
       " '_Person__name',\n",
       " '__class__',\n",
       " '__delattr__',\n",
       " '__dict__',\n",
       " '__dir__',\n",
       " '__doc__',\n",
       " '__eq__',\n",
       " '__format__',\n",
       " '__ge__',\n",
       " '__getattribute__',\n",
       " '__gt__',\n",
       " '__hash__',\n",
       " '__init__',\n",
       " '__init_subclass__',\n",
       " '__le__',\n",
       " '__lt__',\n",
       " '__module__',\n",
       " '__ne__',\n",
       " '__new__',\n",
       " '__reduce__',\n",
       " '__reduce_ex__',\n",
       " '__repr__',\n",
       " '__setattr__',\n",
       " '__sizeof__',\n",
       " '__str__',\n",
       " '__subclasshook__',\n",
       " '__weakref__',\n",
       " 'gender']"
      ]
     },
     "execution_count": 4,
     "metadata": {},
     "output_type": "execute_result"
    }
   ],
   "source": [
    "dir(person)"
   ]
  },
  {
   "cell_type": "markdown",
   "id": "63f2599f",
   "metadata": {},
   "source": [
    "Protected members"
   ]
  },
  {
   "cell_type": "markdown",
   "id": "eb0fc514",
   "metadata": {},
   "source": [
    "Protected members are identified with a single underscore (_). They are meant to be accessed only within the class or its subclasses.\n",
    "\n"
   ]
  },
  {
   "cell_type": "code",
   "execution_count": 14,
   "id": "68b77769",
   "metadata": {},
   "outputs": [
    {
     "name": "stdout",
     "output_type": "stream",
     "text": [
      "avnish\n",
      "avnish\n"
     ]
    }
   ],
   "source": [
    "class Person:\n",
    "    def __init__ (self,name,age,gender):\n",
    "        self._name=name   # Protected variables not acess out the class acess the derived class\n",
    "        self._age=age\n",
    "        self.gender=gender\n",
    "        \n",
    "class Employee(Person):\n",
    "    def __init__(self,name,age,gender):\n",
    "        super().__init__(name,age,gender)        \n",
    "\n",
    "    def get_name(self):\n",
    "        print(self._name)   \n",
    "employee=Employee('avnish',20,'male') \n",
    "print(employee._name) \n",
    "employee.get_name()  \n"
   ]
  },
  {
   "cell_type": "code",
   "execution_count": 6,
   "id": "cb5f48de",
   "metadata": {},
   "outputs": [
    {
     "name": "stdout",
     "output_type": "stream",
     "text": [
      "20\n",
      "Avnish\n",
      "35\n",
      "Ballu\n"
     ]
    }
   ],
   "source": [
    "class Person:\n",
    "    def __init__ (self,name,age):\n",
    "        self.__name=name   \n",
    "        self.__age=age\n",
    "    ## getter method for name   \n",
    "    def get_name(self):\n",
    "       return self.__name      \n",
    "\n",
    "     ## setter method for name\n",
    "    def set_name(self,name):\n",
    "       self.__name=name\n",
    "       \n",
    "    ## getter method for age\n",
    "    def get_age(self):\n",
    "        return self.__age\n",
    "    \n",
    "    ## setter method for age\n",
    "    def set_age(self,age):\n",
    "        self.__age=age   \n",
    "    \n",
    "person=Person(\"Avnish\",20)\n",
    "\n",
    "## Access and Modify private variable using getter and setter\n",
    "print(person.get_age())\n",
    "print(person.get_name())\n",
    "person.set_age(35)\n",
    "person.set_name(\"Ballu\")\n",
    "print(person.get_age())\n",
    "print(person.get_name())\n",
    "\n",
    "\n",
    "            "
   ]
  }
 ],
 "metadata": {
  "kernelspec": {
   "display_name": "Python 3",
   "language": "python",
   "name": "python3"
  },
  "language_info": {
   "codemirror_mode": {
    "name": "ipython",
    "version": 3
   },
   "file_extension": ".py",
   "mimetype": "text/x-python",
   "name": "python",
   "nbconvert_exporter": "python",
   "pygments_lexer": "ipython3",
   "version": "3.10.18"
  }
 },
 "nbformat": 4,
 "nbformat_minor": 5
}
