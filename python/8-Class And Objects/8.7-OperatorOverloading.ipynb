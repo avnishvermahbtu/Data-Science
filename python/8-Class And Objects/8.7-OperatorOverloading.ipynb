{
 "cells": [
  {
   "cell_type": "code",
   "execution_count": null,
   "id": "bf98b2f0",
   "metadata": {},
   "outputs": [
    {
     "data": {
      "text/plain": [
       "'\\n__add__(self,other): Adds two object using the + operator.\\n__sub__(self,other): Subtracts two object using the - operator.\\n__mul__(self,other): Multiplies two object using the * operator.\\n__truediv__(self,other): Divides two object using the / operator.\\n__eq__(self,other): Checks if two objects are equal using the ==operator\\n__lt__(self,other): Checks if one objects is less than another using the < operator\\n'"
      ]
     },
     "execution_count": 2,
     "metadata": {},
     "output_type": "execute_result"
    }
   ],
   "source": [
    "### Common Operator Overloding Magic Method\n",
    "'''\n",
    "__add__(self,other): Adds two object using the + operator.\n",
    "__sub__(self,other): Subtracts two object using the - operator.\n",
    "__mul__(self,other): Multiplies two object using the * operator.\n",
    "__truediv__(self,other): Divides two object using the / operator.\n",
    "__eq__(self,other): Checks if two objects are equal using the ==operator\n",
    "__lt__(self,other): Checks if one objects is less than another using the < operator\n",
    "__gt__(self,other): \n",
    "'''"
   ]
  },
  {
   "cell_type": "code",
   "execution_count": 7,
   "id": "5fd7c3e2",
   "metadata": {},
   "outputs": [
    {
     "name": "stdout",
     "output_type": "stream",
     "text": [
      "Vector(-2,-2)\n",
      "Vector(2,2)\n",
      "Vector(6,8)\n"
     ]
    }
   ],
   "source": [
    "class Vector:\n",
    "    def __init__(self,x,y):\n",
    "        self.x=x\n",
    "        self.y=y\n",
    "        \n",
    "    def __add__(self,other):\n",
    "        return f\"Vector({self.x+other.x},{self.y+other.y})\"\n",
    "        \n",
    "    def __sub__(self,other):\n",
    "        return f\"Vector({self.x-other.x},{self.y-other.y})\"    \n",
    " \n",
    "            \n",
    "v1=Vector(2,3)\n",
    "v2=Vector(4,5)\n",
    "print(v1-v2)\n",
    "print(v2-v1)\n",
    "print(v1+v2)    "
   ]
  },
  {
   "cell_type": "code",
   "execution_count": null,
   "id": "5d700b36",
   "metadata": {},
   "outputs": [],
   "source": []
  }
 ],
 "metadata": {
  "kernelspec": {
   "display_name": "Python 3",
   "language": "python",
   "name": "python3"
  },
  "language_info": {
   "codemirror_mode": {
    "name": "ipython",
    "version": 3
   },
   "file_extension": ".py",
   "mimetype": "text/x-python",
   "name": "python",
   "nbconvert_exporter": "python",
   "pygments_lexer": "ipython3",
   "version": "3.10.18"
  }
 },
 "nbformat": 4,
 "nbformat_minor": 5
}
