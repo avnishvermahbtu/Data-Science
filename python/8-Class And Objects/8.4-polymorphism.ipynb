{
 "cells": [
  {
   "cell_type": "markdown",
   "id": "c4376035",
   "metadata": {},
   "source": [
    "Polymorphism"
   ]
  },
  {
   "cell_type": "markdown",
   "id": "a0ac8f13",
   "metadata": {},
   "source": [
    "The word \"polymorphism\" means \"many forms\", and in programming it refers to methods/functions/operators with the same name that can be executed on many objects or classes."
   ]
  },
  {
   "cell_type": "markdown",
   "id": "d8cfe14f",
   "metadata": {},
   "source": [
    "Different classes with the same method:"
   ]
  },
  {
   "cell_type": "code",
   "execution_count": null,
   "id": "f8ce1ccd",
   "metadata": {},
   "outputs": [
    {
     "name": "stdout",
     "output_type": "stream",
     "text": [
      "Woof!\n",
      "Sound of the animal\n",
      "meow!\n",
      "Woof!\n"
     ]
    }
   ],
   "source": [
    "## Method Overring\n",
    "# Base class\n",
    "\n",
    "class Animal:\n",
    "    def speak(self):\n",
    "        return \"Sound of the animal\"\n",
    "\n",
    "##Derived class 1\n",
    "class Cat(Animal):\n",
    "    def speak(self):\n",
    "        return \"meow!\"\n",
    "## Derived class 2\n",
    "class Dog(Animal):\n",
    "    def speak(self):\n",
    "        return \"Woof!\"\n",
    "    \n",
    "## Function that demostrates ploymorphism\n",
    "def animal_speak(animal): ## animal is object of specific  class\n",
    "    print(animal.speak())    \n",
    "    \n",
    "    \n",
    "dog =Dog()\n",
    "cat=Cat() \n",
    "print(dog.speak()) \n",
    "print(dog.speak() )\n",
    "print(cat.speak())\n",
    "animal_speak(dog)  \n",
    "            "
   ]
  },
  {
   "cell_type": "code",
   "execution_count": null,
   "id": "66bdddf8",
   "metadata": {},
   "outputs": [],
   "source": []
  }
 ],
 "metadata": {
  "kernelspec": {
   "display_name": "Python 3",
   "language": "python",
   "name": "python3"
  },
  "language_info": {
   "codemirror_mode": {
    "name": "ipython",
    "version": 3
   },
   "file_extension": ".py",
   "mimetype": "text/x-python",
   "name": "python",
   "nbconvert_exporter": "python",
   "pygments_lexer": "ipython3",
   "version": "3.10.18"
  }
 },
 "nbformat": 4,
 "nbformat_minor": 5
}
