{
 "cells": [
  {
   "cell_type": "code",
   "execution_count": null,
   "id": "199218a7",
   "metadata": {},
   "outputs": [
    {
     "name": "stdout",
     "output_type": "stream",
     "text": [
      "32\n",
      "32\n"
     ]
    }
   ],
   "source": [
    "## Indentation\n",
    "## python uses indentation to define blocks of code. Consistent use of space (commonly) or a tab is required\n",
    "age=32\n",
    "if age>30:\n",
    "   print(age)\n",
    "print(age)    "
   ]
  },
  {
   "cell_type": "code",
   "execution_count": null,
   "id": "4d191eff",
   "metadata": {},
   "outputs": [
    {
     "name": "stdout",
     "output_type": "stream",
     "text": [
      "10\n"
     ]
    }
   ],
   "source": [
    "## Muliple Statement on asingle line\n",
    "x=4;y=6;z=x+y\n",
    "print(z)"
   ]
  },
  {
   "cell_type": "code",
   "execution_count": null,
   "id": "a8e5a38c",
   "metadata": {},
   "outputs": [
    {
     "name": "stdout",
     "output_type": "stream",
     "text": [
      "28\n"
     ]
    }
   ],
   "source": [
    "## Line continuation \n",
    "## Use a backslash (\\) to contiue a statement to the next line\n",
    "total=1+2+3+4+5+\\\n",
    "6+7\n",
    "print(total)    "
   ]
  },
  {
   "cell_type": "code",
   "execution_count": null,
   "id": "17b4b1bb",
   "metadata": {},
   "outputs": [],
   "source": [
    "#Invalid variable\n",
    "#2age=30"
   ]
  },
  {
   "cell_type": "code",
   "execution_count": null,
   "id": "d8bf2af4",
   "metadata": {},
   "outputs": [],
   "source": [
    "### simple calculator\n",
    "num1=int(input(\"Enter first number:\"))\n",
    "num2=int(input(\"Enter second number :\"))\n",
    "\n",
    "sum=num1 +num2\n",
    "difference =num1-num2\n",
    "product=num1*num2\n",
    "quotient =num1/num2\n",
    "\n",
    "print(f\"sum {sum}\")\n",
    "print(f\"difference {difference}\")\n",
    "print(f\" priduct {product}\")"
   ]
  },
  {
   "cell_type": "code",
   "execution_count": 2,
   "id": "02935deb",
   "metadata": {},
   "outputs": [
    {
     "name": "stdout",
     "output_type": "stream",
     "text": [
      "[7, 6, 5, 4, 3, 2, 1]\n",
      "[7, 5, 3, 1]\n"
     ]
    }
   ],
   "source": [
    "list=[1,2,3,4,5,6,7]\n",
    "print(list[::-1])\n",
    "print (list[::-2])"
   ]
  },
  {
   "cell_type": "code",
   "execution_count": 9,
   "id": "e5b96fd0",
   "metadata": {},
   "outputs": [
    {
     "name": "stdout",
     "output_type": "stream",
     "text": [
      "rmrf\n"
     ]
    }
   ],
   "source": [
    "x=input(\"Enter a String:\")\n",
    "print(x)\n"
   ]
  }
 ],
 "metadata": {
  "kernelspec": {
   "display_name": "Python 3",
   "language": "python",
   "name": "python3"
  },
  "language_info": {
   "codemirror_mode": {
    "name": "ipython",
    "version": 3
   },
   "file_extension": ".py",
   "mimetype": "text/x-python",
   "name": "python",
   "nbconvert_exporter": "python",
   "pygments_lexer": "ipython3",
   "version": "3.10.18"
  }
 },
 "nbformat": 4,
 "nbformat_minor": 5
}
