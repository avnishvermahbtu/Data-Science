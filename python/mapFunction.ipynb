{
 "cells": [
  {
   "cell_type": "markdown",
   "id": "3a10498e",
   "metadata": {},
   "source": [
    "The Map() Function in Python \n",
    "\n",
    "The map() function applies a given function to all items in an input list(or any other iterable) and returns a map object (an iteretor ) .The is particularly useful for transforming data in alist comprehensively"
   ]
  },
  {
   "cell_type": "code",
   "execution_count": 1,
   "id": "aa306b91",
   "metadata": {},
   "outputs": [
    {
     "name": "stdout",
     "output_type": "stream",
     "text": [
      "4\n"
     ]
    }
   ],
   "source": [
    "# map(function,list)  is return map object\n",
    "def squre(x):\n",
    "    return x**2\n",
    "print(4)"
   ]
  },
  {
   "cell_type": "code",
   "execution_count": 4,
   "id": "f0666e32",
   "metadata": {},
   "outputs": [
    {
     "data": {
      "text/plain": [
       "[1, 4, 9, 16, 25, 36]"
      ]
     },
     "execution_count": 4,
     "metadata": {},
     "output_type": "execute_result"
    }
   ],
   "source": [
    "numbers=[1,2,3,4,5,6]\n",
    "\n",
    "list(map(lambda x:x**2,numbers))"
   ]
  },
  {
   "cell_type": "code",
   "execution_count": 1,
   "id": "f8ac95ea",
   "metadata": {},
   "outputs": [
    {
     "name": "stdout",
     "output_type": "stream",
     "text": [
      "[5, 7, 9]\n"
     ]
    }
   ],
   "source": [
    "# Map mutiple iterables\n",
    "numbers1=[1,2,3]\n",
    "numbers2=[4,5,6]\n",
    "\n",
    "added_number=list(map(lambda x,y:x+y,numbers1,numbers2))\n",
    "print(added_number)"
   ]
  },
  {
   "cell_type": "code",
   "execution_count": 11,
   "id": "9bd1570d",
   "metadata": {},
   "outputs": [
    {
     "name": "stdout",
     "output_type": "stream",
     "text": [
      "[1, 2, 3, 4, 5]\n"
     ]
    }
   ],
   "source": [
    "## Map() to convert alist ofstring to integers\n",
    "# Use map to convert strings tointeger\n",
    "\n",
    "str_numbers=['1','2','3','4','5']\n",
    "\n",
    "int_numbers=list(map(int ,str_numbers))\n",
    "\n",
    "print(int_numbers)"
   ]
  },
  {
   "cell_type": "code",
   "execution_count": 15,
   "id": "7dcf97c1",
   "metadata": {},
   "outputs": [
    {
     "name": "stdout",
     "output_type": "stream",
     "text": [
      "['APPLE', 'BANANA', 'CHEERY']\n"
     ]
    }
   ],
   "source": [
    "words=[\"apple\",\"banana\",'cheery']\n",
    "upper_word=list(map(str.upper,words))\n",
    "print(upper_word)"
   ]
  },
  {
   "cell_type": "code",
   "execution_count": 20,
   "id": "118c882c",
   "metadata": {},
   "outputs": [
    {
     "data": {
      "text/plain": [
       "['Avnish', 'ayush']"
      ]
     },
     "execution_count": 20,
     "metadata": {},
     "output_type": "execute_result"
    }
   ],
   "source": [
    "def get_name(person):\n",
    "    return person['name']\n",
    "\n",
    "\n",
    "people=[\n",
    "    {'name':'Avnish','age':22},\n",
    "    {'name':'ayush','age':20}\n",
    "]\n",
    "list(map(get_name,people))"
   ]
  },
  {
   "cell_type": "code",
   "execution_count": null,
   "id": "c5ea3616",
   "metadata": {},
   "outputs": [],
   "source": []
  }
 ],
 "metadata": {
  "kernelspec": {
   "display_name": "Python 3",
   "language": "python",
   "name": "python3"
  },
  "language_info": {
   "codemirror_mode": {
    "name": "ipython",
    "version": 3
   },
   "file_extension": ".py",
   "mimetype": "text/x-python",
   "name": "python",
   "nbconvert_exporter": "python",
   "pygments_lexer": "ipython3",
   "version": "3.10.18"
  }
 },
 "nbformat": 4,
 "nbformat_minor": 5
}
